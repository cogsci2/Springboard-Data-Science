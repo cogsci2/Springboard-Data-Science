{
 "cells": [
  {
   "cell_type": "code",
   "execution_count": 1,
   "id": "signed-gamma",
   "metadata": {
    "execution": {
     "iopub.execute_input": "2021-04-08T09:30:24.214791Z",
     "iopub.status.busy": "2021-04-08T09:30:24.214494Z",
     "iopub.status.idle": "2021-04-08T09:30:24.217681Z",
     "shell.execute_reply": "2021-04-08T09:30:24.217187Z",
     "shell.execute_reply.started": "2021-04-08T09:30:24.214728Z"
    },
    "tags": []
   },
   "outputs": [],
   "source": [
    "import pyforest\n",
    "import sqlite3\n",
    "from sqlite3 import Error"
   ]
  },
  {
   "cell_type": "code",
   "execution_count": 2,
   "id": "announced-boutique",
   "metadata": {
    "execution": {
     "iopub.execute_input": "2021-04-08T09:30:26.068330Z",
     "iopub.status.busy": "2021-04-08T09:30:26.068068Z",
     "iopub.status.idle": "2021-04-08T09:30:26.071854Z",
     "shell.execute_reply": "2021-04-08T09:30:26.071296Z",
     "shell.execute_reply.started": "2021-04-08T09:30:26.068308Z"
    },
    "tags": []
   },
   "outputs": [],
   "source": [
    "def create_connection(db_file):\n",
    "    \"\"\" create a database connection to the SQLite database\n",
    "        specified by the db_file\n",
    "    :param db_file: database file\n",
    "    :return: Connection object or None\n",
    "    \"\"\"\n",
    "    conn = None\n",
    "    try:\n",
    "        conn = sqlite3.connect(db_file)\n",
    "        print(sqlite3.version)\n",
    "    except Error as e:\n",
    "        print(e)\n",
    "\n",
    "    return conn"
   ]
  },
  {
   "cell_type": "code",
   "execution_count": 3,
   "id": "concrete-reward",
   "metadata": {
    "execution": {
     "iopub.execute_input": "2021-04-08T09:30:28.459760Z",
     "iopub.status.busy": "2021-04-08T09:30:28.459508Z",
     "iopub.status.idle": "2021-04-08T09:30:28.463409Z",
     "shell.execute_reply": "2021-04-08T09:30:28.462853Z",
     "shell.execute_reply.started": "2021-04-08T09:30:28.459738Z"
    },
    "tags": []
   },
   "outputs": [
    {
     "name": "stdout",
     "output_type": "stream",
     "text": [
      "2.6.0\n"
     ]
    }
   ],
   "source": [
    "conn = create_connection(r'/home/frank/country_club.db')"
   ]
  },
  {
   "cell_type": "code",
   "execution_count": 19,
   "id": "educated-married",
   "metadata": {
    "execution": {
     "iopub.execute_input": "2021-04-08T09:39:23.120512Z",
     "iopub.status.busy": "2021-04-08T09:39:23.120269Z",
     "iopub.status.idle": "2021-04-08T09:39:23.123821Z",
     "shell.execute_reply": "2021-04-08T09:39:23.123341Z",
     "shell.execute_reply.started": "2021-04-08T09:39:23.120490Z"
    },
    "tags": []
   },
   "outputs": [],
   "source": [
    "def query(q):\n",
    "    cur = conn.cursor()\n",
    "    cur.execute(q)\n",
    "    rows = cur.fetchall()\n",
    "    for row in rows: \n",
    "        for element in row:\n",
    "            print(str(element).ljust(28), end='')\n",
    "        print()"
   ]
  },
  {
   "cell_type": "markdown",
   "id": "novel-minority",
   "metadata": {},
   "source": [
    "<br>\n",
    "<br>"
   ]
  },
  {
   "cell_type": "markdown",
   "id": "collective-belly",
   "metadata": {},
   "source": [
    "/* Q10: Produce a list of facilities with a total revenue less than 1000.\n",
    "The output of facility name and total revenue, sorted by revenue. Remember\n",
    "that there's a different cost for guests and members! */"
   ]
  },
  {
   "cell_type": "code",
   "execution_count": 20,
   "id": "electric-explorer",
   "metadata": {
    "execution": {
     "iopub.execute_input": "2021-04-08T09:39:24.251648Z",
     "iopub.status.busy": "2021-04-08T09:39:24.251405Z",
     "iopub.status.idle": "2021-04-08T09:39:24.257373Z",
     "shell.execute_reply": "2021-04-08T09:39:24.256871Z",
     "shell.execute_reply.started": "2021-04-08T09:39:24.251626Z"
    },
    "tags": []
   },
   "outputs": [
    {
     "name": "stdout",
     "output_type": "stream",
     "text": [
      "Pool Table                  270                         \n",
      "Snooker Table               240                         \n",
      "Table Tennis                180                         \n"
     ]
    }
   ],
   "source": [
    "query(\"\"\"\n",
    "select f.name as facility, SUM(\n",
    "    case \n",
    "        when b.memid = 0 then guestcost * slots \n",
    "        else membercost * slots\n",
    "    end) as revenue\n",
    "from Bookings as b\n",
    "left join Facilities as f on f.facid = b.facid\n",
    "group by f.name\n",
    "having revenue < 1000\n",
    "\"\"\")"
   ]
  },
  {
   "cell_type": "markdown",
   "id": "studied-surprise",
   "metadata": {},
   "source": [
    "<br>\n",
    "<br>"
   ]
  },
  {
   "cell_type": "markdown",
   "id": "demanding-estimate",
   "metadata": {},
   "source": [
    "/* Q11: Produce a report of members and who recommended them in alphabetic surname,\n",
    "        firstname order */"
   ]
  },
  {
   "cell_type": "code",
   "execution_count": 23,
   "id": "interior-finnish",
   "metadata": {
    "execution": {
     "iopub.execute_input": "2021-04-08T09:41:33.863293Z",
     "iopub.status.busy": "2021-04-08T09:41:33.863037Z",
     "iopub.status.idle": "2021-04-08T09:41:33.869655Z",
     "shell.execute_reply": "2021-04-08T09:41:33.869178Z",
     "shell.execute_reply.started": "2021-04-08T09:41:33.863268Z"
    },
    "tags": []
   },
   "outputs": [
    {
     "name": "stdout",
     "output_type": "stream",
     "text": [
      "Bader, Florence             Stibbons, Ponder            \n",
      "Baker, Anne                 Stibbons, Ponder            \n",
      "Baker, Timothy              Farrell, Jemima             \n",
      "Boothe, Tim                 Rownam, Tim                 \n",
      "Butters, Gerald             Smith, Darren               \n",
      "Coplin, Joan                Baker, Timothy              \n",
      "Crumpet, Erica              Smith, Tracy                \n",
      "Dare, Nancy                 Joplette, Janice            \n",
      "Genting, Matthew            Butters, Gerald             \n",
      "Hunt, John                  Purview, Millicent          \n",
      "Jones, David                Joplette, Janice            \n",
      "Jones, Douglas              Jones, David                \n",
      "Joplette, Janice            Smith, Darren               \n",
      "Mackenzie, Anna             Smith, Darren               \n",
      "Owen, Charles               Smith, Darren               \n",
      "Pinker, David               Farrell, Jemima             \n",
      "Purview, Millicent          Smith, Tracy                \n",
      "Rumney, Henrietta           Genting, Matthew            \n",
      "Sarwin, Ramnaresh           Bader, Florence             \n",
      "Smith, Jack                 Smith, Darren               \n",
      "Stibbons, Ponder            Tracy, Burton               \n",
      "Worthington-Smyth, Henry    Smith, Tracy                \n"
     ]
    }
   ],
   "source": [
    "query(\"\"\"\n",
    "select m.surname || ', ' || m.firstname as member_name, rb.surname || ', ' || rb.firstname as recommended_by\n",
    "from Members as m\n",
    "inner join Members as rb on m.recommendedby = rb.memid\n",
    "order by member_name\n",
    "\"\"\")"
   ]
  },
  {
   "cell_type": "markdown",
   "id": "documented-stranger",
   "metadata": {},
   "source": [
    "<br>\n",
    "<br>"
   ]
  },
  {
   "cell_type": "markdown",
   "id": "satisfied-liberal",
   "metadata": {},
   "source": [
    "/* Q12: Find the facilities with their usage by member, but not guests */"
   ]
  },
  {
   "cell_type": "code",
   "execution_count": 24,
   "id": "violent-exercise",
   "metadata": {
    "execution": {
     "iopub.execute_input": "2021-04-08T09:42:27.330329Z",
     "iopub.status.busy": "2021-04-08T09:42:27.330085Z",
     "iopub.status.idle": "2021-04-08T09:42:27.335728Z",
     "shell.execute_reply": "2021-04-08T09:42:27.335249Z",
     "shell.execute_reply.started": "2021-04-08T09:42:27.330306Z"
    },
    "tags": []
   },
   "outputs": [
    {
     "name": "stdout",
     "output_type": "stream",
     "text": [
      "Badminton Court             543                         \n",
      "Tennis Court 1              478                         \n",
      "Massage Room 1              442                         \n",
      "Tennis Court 2              441                         \n",
      "Snooker Table               430                         \n",
      "Pool Table                  428                         \n",
      "Table Tennis                397                         \n",
      "Squash Court                209                         \n",
      "Massage Room 2              27                          \n"
     ]
    }
   ],
   "source": [
    "query(\"\"\"\n",
    "select f.name as facility, hours_booked\n",
    "from Facilities as f\n",
    "inner join (\n",
    "    select facid, sum(slots)/2 as hours_booked from Bookings\n",
    "    where memid > 0\n",
    "    group by facid\n",
    "    ) as member_bookings on member_bookings.facid = f.facid\n",
    "order by hours_booked desc\n",
    "\"\"\")\n"
   ]
  },
  {
   "cell_type": "markdown",
   "id": "balanced-singles",
   "metadata": {},
   "source": [
    "<br>\n",
    "<br>"
   ]
  },
  {
   "cell_type": "markdown",
   "id": "mathematical-implement",
   "metadata": {},
   "source": [
    "/* Q13: Find the facilities usage by month, but not guests */"
   ]
  },
  {
   "cell_type": "code",
   "execution_count": 25,
   "id": "pacific-routine",
   "metadata": {
    "execution": {
     "iopub.execute_input": "2021-04-08T09:43:51.352786Z",
     "iopub.status.busy": "2021-04-08T09:43:51.352531Z",
     "iopub.status.idle": "2021-04-08T09:43:51.366653Z",
     "shell.execute_reply": "2021-04-08T09:43:51.366095Z",
     "shell.execute_reply.started": "2021-04-08T09:43:51.352764Z"
    }
   },
   "outputs": [
    {
     "name": "stdout",
     "output_type": "stream",
     "text": [
      "Badminton Court             07                          90                          \n",
      "Massage Room 1              07                          132                         \n",
      "Massage Room 2              07                          12                          \n",
      "Pool Table                  07                          58                          \n",
      "Snooker Table               07                          78                          \n",
      "Squash Court                07                          82                          \n",
      "Table Tennis                07                          52                          \n",
      "Tennis Court 1              07                          135                         \n",
      "Tennis Court 2              07                          103                         \n",
      "Badminton Court             08                          229                         \n",
      "Massage Room 1              08                          246                         \n",
      "Massage Room 2              08                          41                          \n",
      "Pool Table                  08                          161                         \n",
      "Snooker Table               08                          163                         \n",
      "Squash Court                08                          200                         \n",
      "Table Tennis                08                          152                         \n",
      "Tennis Court 1              08                          229                         \n",
      "Tennis Court 2              08                          241                         \n",
      "Badminton Court             09                          285                         \n",
      "Massage Room 1              09                          324                         \n",
      "Massage Room 2              09                          61                          \n",
      "Pool Table                  09                          235                         \n",
      "Snooker Table               09                          213                         \n",
      "Squash Court                09                          270                         \n",
      "Table Tennis                09                          211                         \n",
      "Tennis Court 1              09                          295                         \n",
      "Tennis Court 2              09                          294                         \n"
     ]
    }
   ],
   "source": [
    "query(\"\"\"\n",
    "SELECT f.name as facility, strftime('%m', starttime) as month, sum(slots)/2 as hours_booked\n",
    "\tFROM Bookings as b\n",
    "    inner join Facilities as f on b.facid = f.facid\n",
    "GROUP by month, facility\n",
    "\"\"\")"
   ]
  },
  {
   "cell_type": "markdown",
   "id": "configured-overhead",
   "metadata": {},
   "source": [
    "<br>\n",
    "<br>"
   ]
  },
  {
   "cell_type": "markdown",
   "id": "purple-necklace",
   "metadata": {},
   "source": [
    "<br>\n",
    "<br>"
   ]
  },
  {
   "cell_type": "markdown",
   "id": "demonstrated-flower",
   "metadata": {},
   "source": [
    "<br>\n",
    "<br>"
   ]
  },
  {
   "cell_type": "markdown",
   "id": "brown-visitor",
   "metadata": {},
   "source": [
    "<br>\n",
    "<br>"
   ]
  },
  {
   "cell_type": "markdown",
   "id": "varied-cholesterol",
   "metadata": {},
   "source": [
    "# The rest of this is what I used to develop with\n",
    "To run it, you must install xeus-sqlite\n",
    "<br>\n",
    "It is not part of the HW so you can feel free to ignore it"
   ]
  },
  {
   "cell_type": "code",
   "execution_count": 1,
   "id": "polish-ability",
   "metadata": {
    "execution": {
     "iopub.execute_input": "2021-04-08T08:13:54.214101Z",
     "iopub.status.busy": "2021-04-08T08:13:54.214059Z",
     "iopub.status.idle": "2021-04-08T08:13:54.214417Z",
     "shell.execute_reply": "2021-04-08T08:13:54.214368Z",
     "shell.execute_reply.started": "2021-04-08T08:13:54.214081Z"
    },
    "tags": []
   },
   "outputs": [],
   "source": [
    "%LOAD /home/frank/country_club.db"
   ]
  },
  {
   "cell_type": "markdown",
   "id": "considered-advancement",
   "metadata": {},
   "source": [
    "<br>\n",
    "<br>"
   ]
  },
  {
   "cell_type": "markdown",
   "id": "normal-encounter",
   "metadata": {},
   "source": [
    "/* Q10: Produce a list of facilities with a total revenue less than 1000.\n",
    "The output of facility name and total revenue, sorted by revenue. Remember\n",
    "that there's a different cost for guests and members! */"
   ]
  },
  {
   "cell_type": "code",
   "execution_count": 27,
   "id": "interstate-light",
   "metadata": {
    "execution": {
     "iopub.execute_input": "2021-04-08T08:38:17.337,462Z",
     "iopub.status.busy": "2021-04-08T08:38:17.337,396Z",
     "iopub.status.idle": "2021-04-08T08:38:17.341,123Z",
     "shell.execute_reply": "2021-04-08T08:38:17.341,077Z",
     "shell.execute_reply.started": "2021-04-08T08:38:17.337,439Z"
    },
    "tags": []
   },
   "outputs": [
    {
     "data": {
      "text/html": [
       "<table>\n",
       "<tr>\n",
       "<th>facility</th>\n",
       "<th>revenue</th>\n",
       "</tr>\n",
       "<tr>\n",
       "<td>Pool Table</td>\n",
       "<td>270</td>\n",
       "</tr>\n",
       "<tr>\n",
       "<td>Snooker Table</td>\n",
       "<td>240</td>\n",
       "</tr>\n",
       "<tr>\n",
       "<td>Table Tennis</td>\n",
       "<td>180</td>\n",
       "</tr>\n",
       "</table>"
      ],
      "text/plain": [
       "+---------------+---------+\n",
       "| facility      | revenue |\n",
       "+---------------+---------+\n",
       "| Pool Table    | 270     |\n",
       "+---------------+---------+\n",
       "| Snooker Table | 240     |\n",
       "+---------------+---------+\n",
       "| Table Tennis  | 180     |\n",
       "+---------------+---------+"
      ]
     },
     "execution_count": 27,
     "metadata": {},
     "output_type": "execute_result"
    }
   ],
   "source": [
    "\n",
    "\n",
    "select f.name as facility, SUM(\n",
    "    case \n",
    "        when b.memid = 0 then guestcost * slots \n",
    "        else membercost * slots\n",
    "    end) as revenue\n",
    "from Bookings as b\n",
    "left join Facilities as f on f.facid = b.facid\n",
    "group by f.name\n",
    "having revenue < 1000"
   ]
  },
  {
   "cell_type": "markdown",
   "id": "leading-surgery",
   "metadata": {},
   "source": [
    "<br>\n",
    "<br>"
   ]
  },
  {
   "cell_type": "markdown",
   "id": "institutional-found",
   "metadata": {},
   "source": [
    "/* Q11: Produce a report of members and who recommended them in alphabetic surname,\n",
    "        firstname order */"
   ]
  },
  {
   "cell_type": "code",
   "execution_count": 32,
   "id": "continuing-scene",
   "metadata": {
    "execution": {
     "iopub.execute_input": "2021-04-08T08:46:28.450,320Z",
     "iopub.status.busy": "2021-04-08T08:46:28.450,250Z",
     "iopub.status.idle": "2021-04-08T08:46:28.454,718Z",
     "shell.execute_reply": "2021-04-08T08:46:28.454,656Z",
     "shell.execute_reply.started": "2021-04-08T08:46:28.450,298Z"
    },
    "tags": []
   },
   "outputs": [
    {
     "data": {
      "text/html": [
       "<table>\n",
       "<tr>\n",
       "<th>member_name</th>\n",
       "<th>recommended_by</th>\n",
       "</tr>\n",
       "<tr>\n",
       "<td>Bader, Florence</td>\n",
       "<td>Stibbons, Ponder</td>\n",
       "</tr>\n",
       "<tr>\n",
       "<td>Baker, Anne</td>\n",
       "<td>Stibbons, Ponder</td>\n",
       "</tr>\n",
       "<tr>\n",
       "<td>Baker, Timothy</td>\n",
       "<td>Farrell, Jemima</td>\n",
       "</tr>\n",
       "<tr>\n",
       "<td>Boothe, Tim</td>\n",
       "<td>Rownam, Tim</td>\n",
       "</tr>\n",
       "<tr>\n",
       "<td>Butters, Gerald</td>\n",
       "<td>Smith, Darren</td>\n",
       "</tr>\n",
       "<tr>\n",
       "<td>Coplin, Joan</td>\n",
       "<td>Baker, Timothy</td>\n",
       "</tr>\n",
       "<tr>\n",
       "<td>Crumpet, Erica</td>\n",
       "<td>Smith, Tracy</td>\n",
       "</tr>\n",
       "<tr>\n",
       "<td>Dare, Nancy</td>\n",
       "<td>Joplette, Janice</td>\n",
       "</tr>\n",
       "<tr>\n",
       "<td>Genting, Matthew</td>\n",
       "<td>Butters, Gerald</td>\n",
       "</tr>\n",
       "<tr>\n",
       "<td>Hunt, John</td>\n",
       "<td>Purview, Millicent</td>\n",
       "</tr>\n",
       "<tr>\n",
       "<td>Jones, David</td>\n",
       "<td>Joplette, Janice</td>\n",
       "</tr>\n",
       "<tr>\n",
       "<td>Jones, Douglas</td>\n",
       "<td>Jones, David</td>\n",
       "</tr>\n",
       "<tr>\n",
       "<td>Joplette, Janice</td>\n",
       "<td>Smith, Darren</td>\n",
       "</tr>\n",
       "<tr>\n",
       "<td>Mackenzie, Anna</td>\n",
       "<td>Smith, Darren</td>\n",
       "</tr>\n",
       "<tr>\n",
       "<td>Owen, Charles</td>\n",
       "<td>Smith, Darren</td>\n",
       "</tr>\n",
       "<tr>\n",
       "<td>Pinker, David</td>\n",
       "<td>Farrell, Jemima</td>\n",
       "</tr>\n",
       "<tr>\n",
       "<td>Purview, Millicent</td>\n",
       "<td>Smith, Tracy</td>\n",
       "</tr>\n",
       "<tr>\n",
       "<td>Rumney, Henrietta</td>\n",
       "<td>Genting, Matthew</td>\n",
       "</tr>\n",
       "<tr>\n",
       "<td>Sarwin, Ramnaresh</td>\n",
       "<td>Bader, Florence</td>\n",
       "</tr>\n",
       "<tr>\n",
       "<td>Smith, Jack</td>\n",
       "<td>Smith, Darren</td>\n",
       "</tr>\n",
       "<tr>\n",
       "<td>Stibbons, Ponder</td>\n",
       "<td>Tracy, Burton</td>\n",
       "</tr>\n",
       "<tr>\n",
       "<td>Worthington-Smyth, Henry</td>\n",
       "<td>Smith, Tracy</td>\n",
       "</tr>\n",
       "</table>"
      ],
      "text/plain": [
       "+--------------------------+--------------------+\n",
       "| member_name              | recommended_by     |\n",
       "+--------------------------+--------------------+\n",
       "| Bader, Florence          | Stibbons, Ponder   |\n",
       "+--------------------------+--------------------+\n",
       "| Baker, Anne              | Stibbons, Ponder   |\n",
       "+--------------------------+--------------------+\n",
       "| Baker, Timothy           | Farrell, Jemima    |\n",
       "+--------------------------+--------------------+\n",
       "| Boothe, Tim              | Rownam, Tim        |\n",
       "+--------------------------+--------------------+\n",
       "| Butters, Gerald          | Smith, Darren      |\n",
       "+--------------------------+--------------------+\n",
       "| Coplin, Joan             | Baker, Timothy     |\n",
       "+--------------------------+--------------------+\n",
       "| Crumpet, Erica           | Smith, Tracy       |\n",
       "+--------------------------+--------------------+\n",
       "| Dare, Nancy              | Joplette, Janice   |\n",
       "+--------------------------+--------------------+\n",
       "| Genting, Matthew         | Butters, Gerald    |\n",
       "+--------------------------+--------------------+\n",
       "| Hunt, John               | Purview, Millicent |\n",
       "+--------------------------+--------------------+\n",
       "| Jones, David             | Joplette, Janice   |\n",
       "+--------------------------+--------------------+\n",
       "| Jones, Douglas           | Jones, David       |\n",
       "+--------------------------+--------------------+\n",
       "| Joplette, Janice         | Smith, Darren      |\n",
       "+--------------------------+--------------------+\n",
       "| Mackenzie, Anna          | Smith, Darren      |\n",
       "+--------------------------+--------------------+\n",
       "| Owen, Charles            | Smith, Darren      |\n",
       "+--------------------------+--------------------+\n",
       "| Pinker, David            | Farrell, Jemima    |\n",
       "+--------------------------+--------------------+\n",
       "| Purview, Millicent       | Smith, Tracy       |\n",
       "+--------------------------+--------------------+\n",
       "| Rumney, Henrietta        | Genting, Matthew   |\n",
       "+--------------------------+--------------------+\n",
       "| Sarwin, Ramnaresh        | Bader, Florence    |\n",
       "+--------------------------+--------------------+\n",
       "| Smith, Jack              | Smith, Darren      |\n",
       "+--------------------------+--------------------+\n",
       "| Stibbons, Ponder         | Tracy, Burton      |\n",
       "+--------------------------+--------------------+\n",
       "| Worthington-Smyth, Henry | Smith, Tracy       |\n",
       "+--------------------------+--------------------+"
      ]
     },
     "execution_count": 32,
     "metadata": {},
     "output_type": "execute_result"
    }
   ],
   "source": [
    "select m.surname || ', ' || m.firstname as member_name, rb.surname || ', ' || rb.firstname as recommended_by\n",
    "from Members as m\n",
    "inner join Members as rb on m.recommendedby = rb.memid\n",
    "order by member_name\n"
   ]
  },
  {
   "cell_type": "markdown",
   "id": "massive-rwanda",
   "metadata": {},
   "source": [
    "<br>\n",
    "<br>"
   ]
  },
  {
   "cell_type": "markdown",
   "id": "bound-reviewer",
   "metadata": {},
   "source": [
    "/* Q12: Find the facilities with their usage by member, but not guests */"
   ]
  },
  {
   "cell_type": "code",
   "execution_count": 65,
   "id": "respected-highway",
   "metadata": {
    "execution": {
     "iopub.execute_input": "2021-04-08T09:16:56.476,855Z",
     "iopub.status.busy": "2021-04-08T09:16:56.476,786Z",
     "iopub.status.idle": "2021-04-08T09:16:56.480,175Z",
     "shell.execute_reply": "2021-04-08T09:16:56.480,120Z",
     "shell.execute_reply.started": "2021-04-08T09:16:56.476,833Z"
    },
    "tags": []
   },
   "outputs": [
    {
     "data": {
      "text/html": [
       "<table>\n",
       "<tr>\n",
       "<th>facility</th>\n",
       "<th>hours_booked</th>\n",
       "</tr>\n",
       "<tr>\n",
       "<td>Badminton Court</td>\n",
       "<td>543</td>\n",
       "</tr>\n",
       "<tr>\n",
       "<td>Tennis Court 1</td>\n",
       "<td>478</td>\n",
       "</tr>\n",
       "<tr>\n",
       "<td>Massage Room 1</td>\n",
       "<td>442</td>\n",
       "</tr>\n",
       "<tr>\n",
       "<td>Tennis Court 2</td>\n",
       "<td>441</td>\n",
       "</tr>\n",
       "<tr>\n",
       "<td>Snooker Table</td>\n",
       "<td>430</td>\n",
       "</tr>\n",
       "<tr>\n",
       "<td>Pool Table</td>\n",
       "<td>428</td>\n",
       "</tr>\n",
       "<tr>\n",
       "<td>Table Tennis</td>\n",
       "<td>397</td>\n",
       "</tr>\n",
       "<tr>\n",
       "<td>Squash Court</td>\n",
       "<td>209</td>\n",
       "</tr>\n",
       "<tr>\n",
       "<td>Massage Room 2</td>\n",
       "<td>27</td>\n",
       "</tr>\n",
       "</table>"
      ],
      "text/plain": [
       "+-----------------+--------------+\n",
       "| facility        | hours_booked |\n",
       "+-----------------+--------------+\n",
       "| Badminton Court | 543          |\n",
       "+-----------------+--------------+\n",
       "| Tennis Court 1  | 478          |\n",
       "+-----------------+--------------+\n",
       "| Massage Room 1  | 442          |\n",
       "+-----------------+--------------+\n",
       "| Tennis Court 2  | 441          |\n",
       "+-----------------+--------------+\n",
       "| Snooker Table   | 430          |\n",
       "+-----------------+--------------+\n",
       "| Pool Table      | 428          |\n",
       "+-----------------+--------------+\n",
       "| Table Tennis    | 397          |\n",
       "+-----------------+--------------+\n",
       "| Squash Court    | 209          |\n",
       "+-----------------+--------------+\n",
       "| Massage Room 2  | 27           |\n",
       "+-----------------+--------------+"
      ]
     },
     "execution_count": 65,
     "metadata": {},
     "output_type": "execute_result"
    }
   ],
   "source": [
    "/* Q12: Find the facilities with their usage by member, but not guests */\n",
    "select f.name as facility, hours_booked\n",
    "from Facilities as f\n",
    "inner join (\n",
    "    select facid, sum(slots)/2 as hours_booked from Bookings\n",
    "    where memid > 0\n",
    "    group by facid\n",
    "    ) as member_bookings on member_bookings.facid = f.facid\n",
    "order by hours_booked desc\n"
   ]
  },
  {
   "cell_type": "markdown",
   "id": "southern-oasis",
   "metadata": {},
   "source": [
    "<br>\n",
    "<br>"
   ]
  },
  {
   "cell_type": "markdown",
   "id": "adopted-photograph",
   "metadata": {},
   "source": [
    "/* Q13: Find the facilities usage by month, but not guests */"
   ]
  },
  {
   "cell_type": "code",
   "execution_count": 90,
   "id": "interstate-tattoo",
   "metadata": {
    "execution": {
     "iopub.execute_input": "2021-04-08T09:25:35.88,654Z",
     "iopub.status.busy": "2021-04-08T09:25:35.88,587Z",
     "iopub.status.idle": "2021-04-08T09:25:35.100,051Z",
     "shell.execute_reply": "2021-04-08T09:25:35.100,005Z",
     "shell.execute_reply.started": "2021-04-08T09:25:35.88,632Z"
    },
    "tags": []
   },
   "outputs": [
    {
     "data": {
      "text/html": [
       "<table>\n",
       "<tr>\n",
       "<th>facility</th>\n",
       "<th>month</th>\n",
       "<th>hours_booked</th>\n",
       "</tr>\n",
       "<tr>\n",
       "<td>Badminton Court</td>\n",
       "<td>07</td>\n",
       "<td>90</td>\n",
       "</tr>\n",
       "<tr>\n",
       "<td>Massage Room 1</td>\n",
       "<td>07</td>\n",
       "<td>132</td>\n",
       "</tr>\n",
       "<tr>\n",
       "<td>Massage Room 2</td>\n",
       "<td>07</td>\n",
       "<td>12</td>\n",
       "</tr>\n",
       "<tr>\n",
       "<td>Pool Table</td>\n",
       "<td>07</td>\n",
       "<td>58</td>\n",
       "</tr>\n",
       "<tr>\n",
       "<td>Snooker Table</td>\n",
       "<td>07</td>\n",
       "<td>78</td>\n",
       "</tr>\n",
       "<tr>\n",
       "<td>Squash Court</td>\n",
       "<td>07</td>\n",
       "<td>82</td>\n",
       "</tr>\n",
       "<tr>\n",
       "<td>Table Tennis</td>\n",
       "<td>07</td>\n",
       "<td>52</td>\n",
       "</tr>\n",
       "<tr>\n",
       "<td>Tennis Court 1</td>\n",
       "<td>07</td>\n",
       "<td>135</td>\n",
       "</tr>\n",
       "<tr>\n",
       "<td>Tennis Court 2</td>\n",
       "<td>07</td>\n",
       "<td>103</td>\n",
       "</tr>\n",
       "<tr>\n",
       "<td>Badminton Court</td>\n",
       "<td>08</td>\n",
       "<td>229</td>\n",
       "</tr>\n",
       "<tr>\n",
       "<td>Massage Room 1</td>\n",
       "<td>08</td>\n",
       "<td>246</td>\n",
       "</tr>\n",
       "<tr>\n",
       "<td>Massage Room 2</td>\n",
       "<td>08</td>\n",
       "<td>41</td>\n",
       "</tr>\n",
       "<tr>\n",
       "<td>Pool Table</td>\n",
       "<td>08</td>\n",
       "<td>161</td>\n",
       "</tr>\n",
       "<tr>\n",
       "<td>Snooker Table</td>\n",
       "<td>08</td>\n",
       "<td>163</td>\n",
       "</tr>\n",
       "<tr>\n",
       "<td>Squash Court</td>\n",
       "<td>08</td>\n",
       "<td>200</td>\n",
       "</tr>\n",
       "<tr>\n",
       "<td>Table Tennis</td>\n",
       "<td>08</td>\n",
       "<td>152</td>\n",
       "</tr>\n",
       "<tr>\n",
       "<td>Tennis Court 1</td>\n",
       "<td>08</td>\n",
       "<td>229</td>\n",
       "</tr>\n",
       "<tr>\n",
       "<td>Tennis Court 2</td>\n",
       "<td>08</td>\n",
       "<td>241</td>\n",
       "</tr>\n",
       "<tr>\n",
       "<td>Badminton Court</td>\n",
       "<td>09</td>\n",
       "<td>285</td>\n",
       "</tr>\n",
       "<tr>\n",
       "<td>Massage Room 1</td>\n",
       "<td>09</td>\n",
       "<td>324</td>\n",
       "</tr>\n",
       "<tr>\n",
       "<td>Massage Room 2</td>\n",
       "<td>09</td>\n",
       "<td>61</td>\n",
       "</tr>\n",
       "<tr>\n",
       "<td>Pool Table</td>\n",
       "<td>09</td>\n",
       "<td>235</td>\n",
       "</tr>\n",
       "<tr>\n",
       "<td>Snooker Table</td>\n",
       "<td>09</td>\n",
       "<td>213</td>\n",
       "</tr>\n",
       "<tr>\n",
       "<td>Squash Court</td>\n",
       "<td>09</td>\n",
       "<td>270</td>\n",
       "</tr>\n",
       "<tr>\n",
       "<td>Table Tennis</td>\n",
       "<td>09</td>\n",
       "<td>211</td>\n",
       "</tr>\n",
       "<tr>\n",
       "<td>Tennis Court 1</td>\n",
       "<td>09</td>\n",
       "<td>295</td>\n",
       "</tr>\n",
       "<tr>\n",
       "<td>Tennis Court 2</td>\n",
       "<td>09</td>\n",
       "<td>294</td>\n",
       "</tr>\n",
       "</table>"
      ],
      "text/plain": [
       "+-----------------+-------+--------------+\n",
       "| facility        | month | hours_booked |\n",
       "+-----------------+-------+--------------+\n",
       "| Badminton Court | 07    | 90           |\n",
       "+-----------------+-------+--------------+\n",
       "| Massage Room 1  | 07    | 132          |\n",
       "+-----------------+-------+--------------+\n",
       "| Massage Room 2  | 07    | 12           |\n",
       "+-----------------+-------+--------------+\n",
       "| Pool Table      | 07    | 58           |\n",
       "+-----------------+-------+--------------+\n",
       "| Snooker Table   | 07    | 78           |\n",
       "+-----------------+-------+--------------+\n",
       "| Squash Court    | 07    | 82           |\n",
       "+-----------------+-------+--------------+\n",
       "| Table Tennis    | 07    | 52           |\n",
       "+-----------------+-------+--------------+\n",
       "| Tennis Court 1  | 07    | 135          |\n",
       "+-----------------+-------+--------------+\n",
       "| Tennis Court 2  | 07    | 103          |\n",
       "+-----------------+-------+--------------+\n",
       "| Badminton Court | 08    | 229          |\n",
       "+-----------------+-------+--------------+\n",
       "| Massage Room 1  | 08    | 246          |\n",
       "+-----------------+-------+--------------+\n",
       "| Massage Room 2  | 08    | 41           |\n",
       "+-----------------+-------+--------------+\n",
       "| Pool Table      | 08    | 161          |\n",
       "+-----------------+-------+--------------+\n",
       "| Snooker Table   | 08    | 163          |\n",
       "+-----------------+-------+--------------+\n",
       "| Squash Court    | 08    | 200          |\n",
       "+-----------------+-------+--------------+\n",
       "| Table Tennis    | 08    | 152          |\n",
       "+-----------------+-------+--------------+\n",
       "| Tennis Court 1  | 08    | 229          |\n",
       "+-----------------+-------+--------------+\n",
       "| Tennis Court 2  | 08    | 241          |\n",
       "+-----------------+-------+--------------+\n",
       "| Badminton Court | 09    | 285          |\n",
       "+-----------------+-------+--------------+\n",
       "| Massage Room 1  | 09    | 324          |\n",
       "+-----------------+-------+--------------+\n",
       "| Massage Room 2  | 09    | 61           |\n",
       "+-----------------+-------+--------------+\n",
       "| Pool Table      | 09    | 235          |\n",
       "+-----------------+-------+--------------+\n",
       "| Snooker Table   | 09    | 213          |\n",
       "+-----------------+-------+--------------+\n",
       "| Squash Court    | 09    | 270          |\n",
       "+-----------------+-------+--------------+\n",
       "| Table Tennis    | 09    | 211          |\n",
       "+-----------------+-------+--------------+\n",
       "| Tennis Court 1  | 09    | 295          |\n",
       "+-----------------+-------+--------------+\n",
       "| Tennis Court 2  | 09    | 294          |\n",
       "+-----------------+-------+--------------+"
      ]
     },
     "execution_count": 90,
     "metadata": {},
     "output_type": "execute_result"
    }
   ],
   "source": [
    "SELECT f.name as facility, strftime('%m', starttime) as month, sum(slots)/2 as hours_booked\n",
    "\tFROM Bookings as b\n",
    "    inner join Facilities as f on b.facid = f.facid\n",
    "GROUP by month, facility"
   ]
  },
  {
   "cell_type": "code",
   "execution_count": null,
   "id": "peripheral-schedule",
   "metadata": {},
   "outputs": [],
   "source": []
  },
  {
   "cell_type": "code",
   "execution_count": null,
   "id": "japanese-vitamin",
   "metadata": {},
   "outputs": [],
   "source": []
  },
  {
   "cell_type": "code",
   "execution_count": null,
   "id": "outstanding-lightweight",
   "metadata": {},
   "outputs": [],
   "source": []
  }
 ],
 "metadata": {
  "kernelspec": {
   "display_name": "Python 3",
   "language": "python",
   "name": "python3"
  },
  "language_info": {
   "codemirror_mode": {
    "name": "ipython",
    "version": 3
   },
   "file_extension": ".py",
   "mimetype": "text/x-python",
   "name": "python",
   "nbconvert_exporter": "python",
   "pygments_lexer": "ipython3",
   "version": "3.8.6"
  },
  "widgets": {
   "application/vnd.jupyter.widget-state+json": {
    "state": {},
    "version_major": 2,
    "version_minor": 0
   }
  }
 },
 "nbformat": 4,
 "nbformat_minor": 5
}
