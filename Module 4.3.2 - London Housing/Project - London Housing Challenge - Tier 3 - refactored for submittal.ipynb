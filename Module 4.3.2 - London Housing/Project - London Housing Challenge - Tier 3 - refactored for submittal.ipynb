{
 "cells": [
  {
   "cell_type": "markdown",
   "metadata": {
    "colab_type": "text",
    "id": "Tia3MP1SJpgj"
   },
   "source": [
    "# Springboard Data Science Career Track Unit 4 Challenge - Tier 3 Complete\n",
    "\n",
    "## Objectives\n",
    "\n",
    "Here’s the mystery we’re going to solve: **<span class=\"mark\">which boroughs of London have seen the greatest increase in housing prices, on average, over the last two decades?</span>**\n"
   ]
  },
  {
   "cell_type": "markdown",
   "metadata": {
    "toc": true
   },
   "source": [
    "<h1>Table of Contents<span class=\"tocSkip\"></span></h1>\n",
    "<div class=\"toc\"><ul class=\"toc-item\"><li><span><a href=\"#Springboard-Data-Science-Career-Track-Unit-4-Challenge---Tier-3-Complete\" data-toc-modified-id=\"Springboard-Data-Science-Career-Track-Unit-4-Challenge---Tier-3-Complete-1\">Springboard Data Science Career Track Unit 4 Challenge - Tier 3 Complete</a></span><ul class=\"toc-item\"><li><span><a href=\"#Objectives\" data-toc-modified-id=\"Objectives-1.1\">Objectives</a></span></li><li><span><a href=\"#The-Data-Science-Pipeline\" data-toc-modified-id=\"The-Data-Science-Pipeline-1.2\">The Data Science Pipeline</a></span><ul class=\"toc-item\"><li><span><a href=\"#Sourcing-and-Loading\" data-toc-modified-id=\"Sourcing-and-Loading-1.2.1\">Sourcing and Loading</a></span><ul class=\"toc-item\"><li><span><a href=\"#Importing-Libraries-and-General-Settings\" data-toc-modified-id=\"Importing-Libraries-and-General-Settings-1.2.1.1\">Importing Libraries and General Settings</a></span></li><li><span><a href=\"#Loading-the-data\" data-toc-modified-id=\"Loading-the-data-1.2.1.2\">Loading the data</a></span></li></ul></li><li><span><a href=\"#Cleaning,-transforming,-and-visualizing\" data-toc-modified-id=\"Cleaning,-transforming,-and-visualizing-1.2.2\">Cleaning, transforming, and visualizing</a></span></li></ul></li><li><span><a href=\"#Visualizing-the-data\" data-toc-modified-id=\"Visualizing-the-data-1.3\">Visualizing the data</a></span><ul class=\"toc-item\"><li><span><a href=\"#Barnet-Plot\" data-toc-modified-id=\"Barnet-Plot-1.3.1\">Barnet Plot</a></span><ul class=\"toc-item\"><li><span><a href=\"#Adding-a-Linear-Regression-to-the-Barnet-Plot\" data-toc-modified-id=\"Adding-a-Linear-Regression-to-the-Barnet-Plot-1.3.1.1\">Adding a Linear Regression to the Barnet Plot</a></span></li></ul></li><li><span><a href=\"#An-exploration-of-slicing,-and-refitting-for-Barnet-borough\" data-toc-modified-id=\"An-exploration-of-slicing,-and-refitting-for-Barnet-borough-1.3.2\">An exploration of slicing, and refitting for Barnet borough</a></span></li><li><span><a href=\"#Camden-Plot\" data-toc-modified-id=\"Camden-Plot-1.3.3\">Camden Plot</a></span></li><li><span><a href=\"#Westminster-Plot\" data-toc-modified-id=\"Westminster-Plot-1.3.4\">Westminster Plot</a></span></li></ul></li></ul></li><li><span><a href=\"#Answering-the-Q:-which-boroughs-have-seen-the-greatest-price-increases?\" data-toc-modified-id=\"Answering-the-Q:-which-boroughs-have-seen-the-greatest-price-increases?-2\">Answering the Q: which boroughs have seen the greatest price increases?</a></span><ul class=\"toc-item\"><li><span><a href=\"#Visualizing-the-relative-price-increases\" data-toc-modified-id=\"Visualizing-the-relative-price-increases-2.1\">Visualizing the relative price increases</a></span></li><li><span><a href=\"#Plotting-the-borough-with-the-highest-price-increase:-Kensington-&amp;-Chelsea\" data-toc-modified-id=\"Plotting-the-borough-with-the-highest-price-increase:-Kensington-&amp;-Chelsea-2.2\">Plotting the borough with the highest price increase: Kensington &amp; Chelsea</a></span></li><li><span><a href=\"#Plotting-the-borough-with-the-lowest-price-increase:-Barking-&amp;-Dagenham\" data-toc-modified-id=\"Plotting-the-borough-with-the-lowest-price-increase:-Barking-&amp;-Dagenham-2.3\">Plotting the borough with the lowest price increase: Barking &amp; Dagenham</a></span></li><li><span><a href=\"#Plots-of-selected-boroughs-in-a-single-chart\" data-toc-modified-id=\"Plots-of-selected-boroughs-in-a-single-chart-2.4\">Plots of selected boroughs in a single chart</a></span></li><li><span><a href=\"#Plot-all-of-the-Boroughs-in-one-chart\" data-toc-modified-id=\"Plot-all-of-the-Boroughs-in-one-chart-2.5\">Plot all of the Boroughs in one chart</a></span></li><li><span><a href=\"#Important-Note\" data-toc-modified-id=\"Important-Note-2.6\">Important Note</a></span></li><li><span><a href=\"#Conclusion\" data-toc-modified-id=\"Conclusion-2.7\">Conclusion</a></span></li></ul></li></ul></div>"
   ]
  },
  {
   "cell_type": "markdown",
   "metadata": {
    "colab_type": "text",
    "id": "Ipgd2nV8Jpgl"
   },
   "source": [
    "## The Data Science Pipeline"
   ]
  },
  {
   "cell_type": "markdown",
   "metadata": {
    "colab_type": "text",
    "id": "zswDqbefJpgm"
   },
   "source": [
    "### Sourcing and Loading "
   ]
  },
  {
   "cell_type": "markdown",
   "metadata": {
    "colab_type": "text",
    "id": "aEau5nEvJpgm"
   },
   "source": [
    "#### Importing Libraries and General Settings"
   ]
  },
  {
   "cell_type": "code",
   "execution_count": 34,
   "metadata": {
    "colab": {},
    "colab_type": "code",
    "id": "7Bt_Q_oPJpgn"
   },
   "outputs": [],
   "source": [
    "import pandas as pd\n",
    "import numpy as np\n",
    "\n",
    "import seaborn as sns\n",
    "import matplotlib.pyplot as plt\n",
    "import matplotlib.ticker as mtick\n",
    "\n",
    "import datetime as dt\n",
    "from sklearn.linear_model import LinearRegression\n",
    "\n",
    "# Extra magic\n",
    "%matplotlib inline\n",
    "plt.rcParams['figure.dpi']=110\n",
    "# from IPython.display import set_matplotlib_formats\n",
    "# set_matplotlib_formats('pdf','svg')\n",
    "\n",
    "pd.options.display.float_format = '{:.2f}'.format  # clean up float formatting\n",
    "\n",
    "sns.set_style(\"darkgrid\")\n",
    "sns.set()\n",
    "\n",
    "\n",
    "# @TODO: remove this for day-mode\n",
    "# plt.style.use(\"dark_background\")\n",
    "\n",
    "\n",
    "from IPython.core.display import HTML\n",
    "HTML(\"\"\"\n",
    "<style>\n",
    ".output_png {\n",
    "    display: table-cell;\n",
    "    margin-left: 80px;\n",
    "}\n",
    "</style>\n",
    "\"\"\")\n",
    "\n",
    "\n",
    "# plt tick formatter\n",
    "gbp_tick = mtick.StrMethodFormatter('£{x:,.0f}')\n",
    "def format_ticks():\n",
    "    \"\"\"Formats Date vs Price Ticks (in matplotlib)\"\"\"\n",
    "    \n",
    "    plt.xlabel('Date')\n",
    "    plt.ylabel('Price in GBP')\n",
    "\n",
    "    # format ytick\n",
    "    ax=plt.gca()\n",
    "    ax.yaxis.set_major_formatter(gbp_tick) \n",
    "    \n",
    "\n",
    "# utility - linear regression\n",
    "def get_linregr_pred (df: pd.DataFrame) -> np.ndarray:\n",
    "    \"\"\"Return a linear regression prediction model from a DataFrame\n",
    "    \n",
    "    Keyword Arguments:\n",
    "    df -- A DataFrame with 'Date' and 'Avg Price' columns, holding datetime objects and integer prices\n",
    "    \"\"\"\n",
    "    # @TODO: Assert 'Date' and 'Avg Price' columns with datetime and float elements - throw TypeError\n",
    "    \n",
    "    # format the data into ndarrays\n",
    "    x_arr = df['Date'].map(dt.datetime.toordinal).values.reshape(-1,1)\n",
    "    y_arr = df['Avg Price'].values.reshape(-1,1)\n",
    "    \n",
    "    # create a linear regression\n",
    "    linear_regressor = LinearRegression()  \n",
    "    linear_regressor.fit(x_arr, y_arr)  # fit the model\n",
    "    y_arr_pred = linear_regressor.predict(x_arr)\n",
    "    \n",
    "    return y_arr_pred"
   ]
  },
  {
   "cell_type": "markdown",
   "metadata": {
    "colab_type": "text",
    "id": "koUrawxsJpgq"
   },
   "source": [
    "#### Loading the data\n",
    "Data source: [London Datastore](https://data.london.gov.uk/)"
   ]
  },
  {
   "cell_type": "code",
   "execution_count": 35,
   "metadata": {
    "colab": {},
    "colab_type": "code",
    "id": "AiLiD4v3Jpgr"
   },
   "outputs": [],
   "source": [
    "# https://data.london.gov.uk/download/uk-house-price-index/70ac0766-8902-4eb5-aab5-01951aaed773/UK%20House%20price%20index.xls\n",
    "url_LondonHousePrices = \"https://data.london.gov.uk/download/uk-house-price-index/70ac0766-8902-4eb5-aab5-01951aaed773/UK%20House%20price%20index.xls\"\n",
    "\n",
    "# The dataset we're interested in contains the Average prices of the houses, and is actually on a particular sheet of the Excel file. \n",
    "# As a result, we need to specify the sheet name in the read_excel() method.\n",
    "# Put this data into a variable called properties.  \n",
    "properties = pd.read_excel(url_LondonHousePrices, sheet_name='Average price', index_col= None, parse_dates=True)"
   ]
  },
  {
   "cell_type": "markdown",
   "metadata": {
    "colab_type": "text",
    "id": "POukEJXgJpgu"
   },
   "source": [
    "### Cleaning, transforming, and visualizing"
   ]
  },
  {
   "cell_type": "markdown",
   "metadata": {
    "colab_type": "text",
    "id": "Te0Q548tnzZa"
   },
   "source": [
    "**Exploring the data** "
   ]
  },
  {
   "cell_type": "code",
   "execution_count": 36,
   "metadata": {
    "colab": {},
    "colab_type": "code",
    "id": "Rxirxw_qoAJa"
   },
   "outputs": [
    {
     "data": {
      "text/html": [
       "<div>\n",
       "<style scoped>\n",
       "    .dataframe tbody tr th:only-of-type {\n",
       "        vertical-align: middle;\n",
       "    }\n",
       "\n",
       "    .dataframe tbody tr th {\n",
       "        vertical-align: top;\n",
       "    }\n",
       "\n",
       "    .dataframe thead th {\n",
       "        text-align: right;\n",
       "    }\n",
       "</style>\n",
       "<table border=\"1\" class=\"dataframe\">\n",
       "  <thead>\n",
       "    <tr style=\"text-align: right;\">\n",
       "      <th></th>\n",
       "      <th>Unnamed: 0</th>\n",
       "      <th>City of London</th>\n",
       "      <th>Barking &amp; Dagenham</th>\n",
       "      <th>Barnet</th>\n",
       "      <th>Bexley</th>\n",
       "      <th>Brent</th>\n",
       "      <th>Bromley</th>\n",
       "      <th>Camden</th>\n",
       "      <th>Croydon</th>\n",
       "      <th>Ealing</th>\n",
       "      <th>...</th>\n",
       "      <th>NORTH WEST</th>\n",
       "      <th>YORKS &amp; THE HUMBER</th>\n",
       "      <th>EAST MIDLANDS</th>\n",
       "      <th>WEST MIDLANDS</th>\n",
       "      <th>EAST OF ENGLAND</th>\n",
       "      <th>LONDON</th>\n",
       "      <th>SOUTH EAST</th>\n",
       "      <th>SOUTH WEST</th>\n",
       "      <th>Unnamed: 47</th>\n",
       "      <th>England</th>\n",
       "    </tr>\n",
       "  </thead>\n",
       "  <tbody>\n",
       "    <tr>\n",
       "      <th>0</th>\n",
       "      <td>NaT</td>\n",
       "      <td>E09000001</td>\n",
       "      <td>E09000002</td>\n",
       "      <td>E09000003</td>\n",
       "      <td>E09000004</td>\n",
       "      <td>E09000005</td>\n",
       "      <td>E09000006</td>\n",
       "      <td>E09000007</td>\n",
       "      <td>E09000008</td>\n",
       "      <td>E09000009</td>\n",
       "      <td>...</td>\n",
       "      <td>E12000002</td>\n",
       "      <td>E12000003</td>\n",
       "      <td>E12000004</td>\n",
       "      <td>E12000005</td>\n",
       "      <td>E12000006</td>\n",
       "      <td>E12000007</td>\n",
       "      <td>E12000008</td>\n",
       "      <td>E12000009</td>\n",
       "      <td>nan</td>\n",
       "      <td>E92000001</td>\n",
       "    </tr>\n",
       "    <tr>\n",
       "      <th>1</th>\n",
       "      <td>1995-01-01</td>\n",
       "      <td>91448.98</td>\n",
       "      <td>50460.23</td>\n",
       "      <td>93284.52</td>\n",
       "      <td>64958.09</td>\n",
       "      <td>71306.57</td>\n",
       "      <td>81671.48</td>\n",
       "      <td>120932.89</td>\n",
       "      <td>69158.16</td>\n",
       "      <td>79885.89</td>\n",
       "      <td>...</td>\n",
       "      <td>43958.48</td>\n",
       "      <td>44803.43</td>\n",
       "      <td>45544.52</td>\n",
       "      <td>48527.52</td>\n",
       "      <td>56701.60</td>\n",
       "      <td>74435.76</td>\n",
       "      <td>64018.88</td>\n",
       "      <td>54705.16</td>\n",
       "      <td>nan</td>\n",
       "      <td>53202.77</td>\n",
       "    </tr>\n",
       "    <tr>\n",
       "      <th>2</th>\n",
       "      <td>1995-02-01</td>\n",
       "      <td>82202.77</td>\n",
       "      <td>51085.78</td>\n",
       "      <td>93190.17</td>\n",
       "      <td>64787.92</td>\n",
       "      <td>72022.26</td>\n",
       "      <td>81657.56</td>\n",
       "      <td>119508.86</td>\n",
       "      <td>68951.10</td>\n",
       "      <td>80897.07</td>\n",
       "      <td>...</td>\n",
       "      <td>43925.42</td>\n",
       "      <td>44528.81</td>\n",
       "      <td>46051.57</td>\n",
       "      <td>49341.29</td>\n",
       "      <td>56593.59</td>\n",
       "      <td>72777.94</td>\n",
       "      <td>63715.02</td>\n",
       "      <td>54356.15</td>\n",
       "      <td>nan</td>\n",
       "      <td>53096.15</td>\n",
       "    </tr>\n",
       "    <tr>\n",
       "      <th>3</th>\n",
       "      <td>1995-03-01</td>\n",
       "      <td>79120.70</td>\n",
       "      <td>51268.97</td>\n",
       "      <td>92247.52</td>\n",
       "      <td>64367.49</td>\n",
       "      <td>72015.76</td>\n",
       "      <td>81449.31</td>\n",
       "      <td>120282.21</td>\n",
       "      <td>68712.44</td>\n",
       "      <td>81379.86</td>\n",
       "      <td>...</td>\n",
       "      <td>44434.87</td>\n",
       "      <td>45200.47</td>\n",
       "      <td>45383.82</td>\n",
       "      <td>49442.18</td>\n",
       "      <td>56171.18</td>\n",
       "      <td>73896.84</td>\n",
       "      <td>64113.61</td>\n",
       "      <td>53583.08</td>\n",
       "      <td>nan</td>\n",
       "      <td>53201.28</td>\n",
       "    </tr>\n",
       "    <tr>\n",
       "      <th>4</th>\n",
       "      <td>1995-04-01</td>\n",
       "      <td>77101.21</td>\n",
       "      <td>53133.51</td>\n",
       "      <td>90762.87</td>\n",
       "      <td>64277.67</td>\n",
       "      <td>72965.63</td>\n",
       "      <td>81124.41</td>\n",
       "      <td>120097.90</td>\n",
       "      <td>68610.05</td>\n",
       "      <td>82188.90</td>\n",
       "      <td>...</td>\n",
       "      <td>44267.78</td>\n",
       "      <td>45614.34</td>\n",
       "      <td>46124.23</td>\n",
       "      <td>49455.93</td>\n",
       "      <td>56567.90</td>\n",
       "      <td>74455.29</td>\n",
       "      <td>64623.22</td>\n",
       "      <td>54786.02</td>\n",
       "      <td>nan</td>\n",
       "      <td>53590.85</td>\n",
       "    </tr>\n",
       "  </tbody>\n",
       "</table>\n",
       "<p>5 rows × 49 columns</p>\n",
       "</div>"
      ],
      "text/plain": [
       "  Unnamed: 0 City of London Barking & Dagenham     Barnet     Bexley  \\\n",
       "0        NaT      E09000001          E09000002  E09000003  E09000004   \n",
       "1 1995-01-01       91448.98           50460.23   93284.52   64958.09   \n",
       "2 1995-02-01       82202.77           51085.78   93190.17   64787.92   \n",
       "3 1995-03-01       79120.70           51268.97   92247.52   64367.49   \n",
       "4 1995-04-01       77101.21           53133.51   90762.87   64277.67   \n",
       "\n",
       "       Brent    Bromley     Camden    Croydon     Ealing  ... NORTH WEST  \\\n",
       "0  E09000005  E09000006  E09000007  E09000008  E09000009  ...  E12000002   \n",
       "1   71306.57   81671.48  120932.89   69158.16   79885.89  ...   43958.48   \n",
       "2   72022.26   81657.56  119508.86   68951.10   80897.07  ...   43925.42   \n",
       "3   72015.76   81449.31  120282.21   68712.44   81379.86  ...   44434.87   \n",
       "4   72965.63   81124.41  120097.90   68610.05   82188.90  ...   44267.78   \n",
       "\n",
       "  YORKS & THE HUMBER EAST MIDLANDS WEST MIDLANDS EAST OF ENGLAND     LONDON  \\\n",
       "0          E12000003     E12000004     E12000005       E12000006  E12000007   \n",
       "1           44803.43      45544.52      48527.52        56701.60   74435.76   \n",
       "2           44528.81      46051.57      49341.29        56593.59   72777.94   \n",
       "3           45200.47      45383.82      49442.18        56171.18   73896.84   \n",
       "4           45614.34      46124.23      49455.93        56567.90   74455.29   \n",
       "\n",
       "  SOUTH EAST SOUTH WEST Unnamed: 47    England  \n",
       "0  E12000008  E12000009         nan  E92000001  \n",
       "1   64018.88   54705.16         nan   53202.77  \n",
       "2   63715.02   54356.15         nan   53096.15  \n",
       "3   64113.61   53583.08         nan   53201.28  \n",
       "4   64623.22   54786.02         nan   53590.85  \n",
       "\n",
       "[5 rows x 49 columns]"
      ]
     },
     "execution_count": 36,
     "metadata": {},
     "output_type": "execute_result"
    }
   ],
   "source": [
    "properties.head()"
   ]
  },
  {
   "cell_type": "code",
   "execution_count": 37,
   "metadata": {},
   "outputs": [
    {
     "data": {
      "text/html": [
       "<div>\n",
       "<style scoped>\n",
       "    .dataframe tbody tr th:only-of-type {\n",
       "        vertical-align: middle;\n",
       "    }\n",
       "\n",
       "    .dataframe tbody tr th {\n",
       "        vertical-align: top;\n",
       "    }\n",
       "\n",
       "    .dataframe thead th {\n",
       "        text-align: right;\n",
       "    }\n",
       "</style>\n",
       "<table border=\"1\" class=\"dataframe\">\n",
       "  <thead>\n",
       "    <tr style=\"text-align: right;\">\n",
       "      <th></th>\n",
       "      <th>Unnamed: 0</th>\n",
       "      <th>City of London</th>\n",
       "      <th>Barking &amp; Dagenham</th>\n",
       "      <th>Barnet</th>\n",
       "      <th>Bexley</th>\n",
       "      <th>Brent</th>\n",
       "      <th>Bromley</th>\n",
       "      <th>Camden</th>\n",
       "      <th>Croydon</th>\n",
       "      <th>Ealing</th>\n",
       "      <th>...</th>\n",
       "      <th>NORTH WEST</th>\n",
       "      <th>YORKS &amp; THE HUMBER</th>\n",
       "      <th>EAST MIDLANDS</th>\n",
       "      <th>WEST MIDLANDS</th>\n",
       "      <th>EAST OF ENGLAND</th>\n",
       "      <th>LONDON</th>\n",
       "      <th>SOUTH EAST</th>\n",
       "      <th>SOUTH WEST</th>\n",
       "      <th>Unnamed: 47</th>\n",
       "      <th>England</th>\n",
       "    </tr>\n",
       "  </thead>\n",
       "  <tbody>\n",
       "    <tr>\n",
       "      <th>299</th>\n",
       "      <td>2019-11-01</td>\n",
       "      <td>776894.40</td>\n",
       "      <td>306390.26</td>\n",
       "      <td>522639.01</td>\n",
       "      <td>333657.48</td>\n",
       "      <td>432187.70</td>\n",
       "      <td>436079.63</td>\n",
       "      <td>825336.31</td>\n",
       "      <td>367584.56</td>\n",
       "      <td>475491.60</td>\n",
       "      <td>...</td>\n",
       "      <td>165808.12</td>\n",
       "      <td>164499.35</td>\n",
       "      <td>194855.23</td>\n",
       "      <td>200895.65</td>\n",
       "      <td>288781.44</td>\n",
       "      <td>468982.76</td>\n",
       "      <td>322511.72</td>\n",
       "      <td>256874.86</td>\n",
       "      <td>nan</td>\n",
       "      <td>247950.71</td>\n",
       "    </tr>\n",
       "    <tr>\n",
       "      <th>300</th>\n",
       "      <td>2019-12-01</td>\n",
       "      <td>737275.03</td>\n",
       "      <td>301283.44</td>\n",
       "      <td>519306.24</td>\n",
       "      <td>336301.87</td>\n",
       "      <td>427126.35</td>\n",
       "      <td>438681.81</td>\n",
       "      <td>807124.19</td>\n",
       "      <td>369567.88</td>\n",
       "      <td>469662.03</td>\n",
       "      <td>...</td>\n",
       "      <td>164892.63</td>\n",
       "      <td>165818.11</td>\n",
       "      <td>194552.67</td>\n",
       "      <td>198644.06</td>\n",
       "      <td>290813.76</td>\n",
       "      <td>478576.32</td>\n",
       "      <td>321971.53</td>\n",
       "      <td>256576.85</td>\n",
       "      <td>nan</td>\n",
       "      <td>248250.31</td>\n",
       "    </tr>\n",
       "    <tr>\n",
       "      <th>301</th>\n",
       "      <td>2020-01-01</td>\n",
       "      <td>757376.69</td>\n",
       "      <td>304187.48</td>\n",
       "      <td>520115.36</td>\n",
       "      <td>334430.38</td>\n",
       "      <td>424662.73</td>\n",
       "      <td>435337.28</td>\n",
       "      <td>816905.77</td>\n",
       "      <td>371917.95</td>\n",
       "      <td>467351.36</td>\n",
       "      <td>...</td>\n",
       "      <td>165023.60</td>\n",
       "      <td>164838.18</td>\n",
       "      <td>196277.21</td>\n",
       "      <td>202289.41</td>\n",
       "      <td>290547.89</td>\n",
       "      <td>479165.85</td>\n",
       "      <td>323967.41</td>\n",
       "      <td>258185.03</td>\n",
       "      <td>nan</td>\n",
       "      <td>249159.74</td>\n",
       "    </tr>\n",
       "    <tr>\n",
       "      <th>302</th>\n",
       "      <td>2020-02-01</td>\n",
       "      <td>765416.38</td>\n",
       "      <td>304719.30</td>\n",
       "      <td>520965.80</td>\n",
       "      <td>334845.25</td>\n",
       "      <td>471573.66</td>\n",
       "      <td>436543.84</td>\n",
       "      <td>818558.36</td>\n",
       "      <td>371685.76</td>\n",
       "      <td>467962.56</td>\n",
       "      <td>...</td>\n",
       "      <td>165916.51</td>\n",
       "      <td>165232.09</td>\n",
       "      <td>193858.44</td>\n",
       "      <td>200576.66</td>\n",
       "      <td>291260.73</td>\n",
       "      <td>479974.28</td>\n",
       "      <td>321268.22</td>\n",
       "      <td>258128.74</td>\n",
       "      <td>nan</td>\n",
       "      <td>248587.31</td>\n",
       "    </tr>\n",
       "    <tr>\n",
       "      <th>303</th>\n",
       "      <td>2020-03-01</td>\n",
       "      <td>792582.64</td>\n",
       "      <td>327135.66</td>\n",
       "      <td>532568.95</td>\n",
       "      <td>331679.42</td>\n",
       "      <td>446966.28</td>\n",
       "      <td>430032.82</td>\n",
       "      <td>881095.96</td>\n",
       "      <td>358355.77</td>\n",
       "      <td>454027.35</td>\n",
       "      <td>...</td>\n",
       "      <td>166202.02</td>\n",
       "      <td>159208.16</td>\n",
       "      <td>194664.11</td>\n",
       "      <td>195917.06</td>\n",
       "      <td>291253.89</td>\n",
       "      <td>485794.08</td>\n",
       "      <td>323353.05</td>\n",
       "      <td>263360.02</td>\n",
       "      <td>nan</td>\n",
       "      <td>248271.19</td>\n",
       "    </tr>\n",
       "  </tbody>\n",
       "</table>\n",
       "<p>5 rows × 49 columns</p>\n",
       "</div>"
      ],
      "text/plain": [
       "    Unnamed: 0 City of London Barking & Dagenham    Barnet    Bexley  \\\n",
       "299 2019-11-01      776894.40          306390.26 522639.01 333657.48   \n",
       "300 2019-12-01      737275.03          301283.44 519306.24 336301.87   \n",
       "301 2020-01-01      757376.69          304187.48 520115.36 334430.38   \n",
       "302 2020-02-01      765416.38          304719.30 520965.80 334845.25   \n",
       "303 2020-03-01      792582.64          327135.66 532568.95 331679.42   \n",
       "\n",
       "        Brent   Bromley    Camden   Croydon    Ealing  ... NORTH WEST  \\\n",
       "299 432187.70 436079.63 825336.31 367584.56 475491.60  ...  165808.12   \n",
       "300 427126.35 438681.81 807124.19 369567.88 469662.03  ...  164892.63   \n",
       "301 424662.73 435337.28 816905.77 371917.95 467351.36  ...  165023.60   \n",
       "302 471573.66 436543.84 818558.36 371685.76 467962.56  ...  165916.51   \n",
       "303 446966.28 430032.82 881095.96 358355.77 454027.35  ...  166202.02   \n",
       "\n",
       "    YORKS & THE HUMBER EAST MIDLANDS WEST MIDLANDS EAST OF ENGLAND    LONDON  \\\n",
       "299          164499.35     194855.23     200895.65       288781.44 468982.76   \n",
       "300          165818.11     194552.67     198644.06       290813.76 478576.32   \n",
       "301          164838.18     196277.21     202289.41       290547.89 479165.85   \n",
       "302          165232.09     193858.44     200576.66       291260.73 479974.28   \n",
       "303          159208.16     194664.11     195917.06       291253.89 485794.08   \n",
       "\n",
       "    SOUTH EAST SOUTH WEST Unnamed: 47   England  \n",
       "299  322511.72  256874.86         nan 247950.71  \n",
       "300  321971.53  256576.85         nan 248250.31  \n",
       "301  323967.41  258185.03         nan 249159.74  \n",
       "302  321268.22  258128.74         nan 248587.31  \n",
       "303  323353.05  263360.02         nan 248271.19  \n",
       "\n",
       "[5 rows x 49 columns]"
      ]
     },
     "execution_count": 37,
     "metadata": {},
     "output_type": "execute_result"
    }
   ],
   "source": [
    "properties.tail()"
   ]
  },
  {
   "cell_type": "code",
   "execution_count": 38,
   "metadata": {},
   "outputs": [
    {
     "data": {
      "text/html": [
       "<div>\n",
       "<style scoped>\n",
       "    .dataframe tbody tr th:only-of-type {\n",
       "        vertical-align: middle;\n",
       "    }\n",
       "\n",
       "    .dataframe tbody tr th {\n",
       "        vertical-align: top;\n",
       "    }\n",
       "\n",
       "    .dataframe thead th {\n",
       "        text-align: right;\n",
       "    }\n",
       "</style>\n",
       "<table border=\"1\" class=\"dataframe\">\n",
       "  <thead>\n",
       "    <tr style=\"text-align: right;\">\n",
       "      <th></th>\n",
       "      <th>Unnamed: 34</th>\n",
       "      <th>Unnamed: 37</th>\n",
       "      <th>Unnamed: 47</th>\n",
       "    </tr>\n",
       "  </thead>\n",
       "  <tbody>\n",
       "    <tr>\n",
       "      <th>count</th>\n",
       "      <td>0.00</td>\n",
       "      <td>0.00</td>\n",
       "      <td>0.00</td>\n",
       "    </tr>\n",
       "    <tr>\n",
       "      <th>mean</th>\n",
       "      <td>nan</td>\n",
       "      <td>nan</td>\n",
       "      <td>nan</td>\n",
       "    </tr>\n",
       "    <tr>\n",
       "      <th>std</th>\n",
       "      <td>nan</td>\n",
       "      <td>nan</td>\n",
       "      <td>nan</td>\n",
       "    </tr>\n",
       "    <tr>\n",
       "      <th>min</th>\n",
       "      <td>nan</td>\n",
       "      <td>nan</td>\n",
       "      <td>nan</td>\n",
       "    </tr>\n",
       "    <tr>\n",
       "      <th>25%</th>\n",
       "      <td>nan</td>\n",
       "      <td>nan</td>\n",
       "      <td>nan</td>\n",
       "    </tr>\n",
       "    <tr>\n",
       "      <th>50%</th>\n",
       "      <td>nan</td>\n",
       "      <td>nan</td>\n",
       "      <td>nan</td>\n",
       "    </tr>\n",
       "    <tr>\n",
       "      <th>75%</th>\n",
       "      <td>nan</td>\n",
       "      <td>nan</td>\n",
       "      <td>nan</td>\n",
       "    </tr>\n",
       "    <tr>\n",
       "      <th>max</th>\n",
       "      <td>nan</td>\n",
       "      <td>nan</td>\n",
       "      <td>nan</td>\n",
       "    </tr>\n",
       "  </tbody>\n",
       "</table>\n",
       "</div>"
      ],
      "text/plain": [
       "       Unnamed: 34  Unnamed: 37  Unnamed: 47\n",
       "count         0.00         0.00         0.00\n",
       "mean           nan          nan          nan\n",
       "std            nan          nan          nan\n",
       "min            nan          nan          nan\n",
       "25%            nan          nan          nan\n",
       "50%            nan          nan          nan\n",
       "75%            nan          nan          nan\n",
       "max            nan          nan          nan"
      ]
     },
     "execution_count": 38,
     "metadata": {},
     "output_type": "execute_result"
    }
   ],
   "source": [
    "properties.describe()"
   ]
  },
  {
   "cell_type": "code",
   "execution_count": 39,
   "metadata": {},
   "outputs": [
    {
     "name": "stdout",
     "output_type": "stream",
     "text": [
      "<class 'pandas.core.frame.DataFrame'>\n",
      "RangeIndex: 304 entries, 0 to 303\n",
      "Data columns (total 49 columns):\n",
      " #   Column                Non-Null Count  Dtype         \n",
      "---  ------                --------------  -----         \n",
      " 0   Unnamed: 0            303 non-null    datetime64[ns]\n",
      " 1   City of London        304 non-null    object        \n",
      " 2   Barking & Dagenham    304 non-null    object        \n",
      " 3   Barnet                304 non-null    object        \n",
      " 4   Bexley                304 non-null    object        \n",
      " 5   Brent                 304 non-null    object        \n",
      " 6   Bromley               304 non-null    object        \n",
      " 7   Camden                304 non-null    object        \n",
      " 8   Croydon               304 non-null    object        \n",
      " 9   Ealing                304 non-null    object        \n",
      " 10  Enfield               304 non-null    object        \n",
      " 11  Greenwich             304 non-null    object        \n",
      " 12  Hackney               304 non-null    object        \n",
      " 13  Hammersmith & Fulham  304 non-null    object        \n",
      " 14  Haringey              304 non-null    object        \n",
      " 15  Harrow                304 non-null    object        \n",
      " 16  Havering              304 non-null    object        \n",
      " 17  Hillingdon            304 non-null    object        \n",
      " 18  Hounslow              304 non-null    object        \n",
      " 19  Islington             304 non-null    object        \n",
      " 20  Kensington & Chelsea  304 non-null    object        \n",
      " 21  Kingston upon Thames  304 non-null    object        \n",
      " 22  Lambeth               304 non-null    object        \n",
      " 23  Lewisham              304 non-null    object        \n",
      " 24  Merton                304 non-null    object        \n",
      " 25  Newham                304 non-null    object        \n",
      " 26  Redbridge             304 non-null    object        \n",
      " 27  Richmond upon Thames  304 non-null    object        \n",
      " 28  Southwark             304 non-null    object        \n",
      " 29  Sutton                304 non-null    object        \n",
      " 30  Tower Hamlets         304 non-null    object        \n",
      " 31  Waltham Forest        304 non-null    object        \n",
      " 32  Wandsworth            304 non-null    object        \n",
      " 33  Westminster           304 non-null    object        \n",
      " 34  Unnamed: 34           0 non-null      float64       \n",
      " 35  Inner London          304 non-null    object        \n",
      " 36  Outer London          304 non-null    object        \n",
      " 37  Unnamed: 37           0 non-null      float64       \n",
      " 38  NORTH EAST            304 non-null    object        \n",
      " 39  NORTH WEST            304 non-null    object        \n",
      " 40  YORKS & THE HUMBER    304 non-null    object        \n",
      " 41  EAST MIDLANDS         304 non-null    object        \n",
      " 42  WEST MIDLANDS         304 non-null    object        \n",
      " 43  EAST OF ENGLAND       304 non-null    object        \n",
      " 44  LONDON                304 non-null    object        \n",
      " 45  SOUTH EAST            304 non-null    object        \n",
      " 46  SOUTH WEST            304 non-null    object        \n",
      " 47  Unnamed: 47           0 non-null      float64       \n",
      " 48  England               304 non-null    object        \n",
      "dtypes: datetime64[ns](1), float64(3), object(45)\n",
      "memory usage: 116.5+ KB\n"
     ]
    }
   ],
   "source": [
    "properties.info()"
   ]
  },
  {
   "cell_type": "markdown",
   "metadata": {
    "colab_type": "text",
    "id": "tE9Sqt9-oAta"
   },
   "source": [
    "**Cleaning the data**"
   ]
  },
  {
   "cell_type": "code",
   "execution_count": 40,
   "metadata": {
    "colab": {},
    "colab_type": "code",
    "id": "cdAu1A3YoH_r"
   },
   "outputs": [
    {
     "data": {
      "text/html": [
       "<div>\n",
       "<style scoped>\n",
       "    .dataframe tbody tr th:only-of-type {\n",
       "        vertical-align: middle;\n",
       "    }\n",
       "\n",
       "    .dataframe tbody tr th {\n",
       "        vertical-align: top;\n",
       "    }\n",
       "\n",
       "    .dataframe thead th {\n",
       "        text-align: right;\n",
       "    }\n",
       "</style>\n",
       "<table border=\"1\" class=\"dataframe\">\n",
       "  <thead>\n",
       "    <tr style=\"text-align: right;\">\n",
       "      <th></th>\n",
       "      <th>0</th>\n",
       "      <th>1</th>\n",
       "      <th>2</th>\n",
       "      <th>3</th>\n",
       "      <th>4</th>\n",
       "      <th>5</th>\n",
       "      <th>6</th>\n",
       "      <th>7</th>\n",
       "    </tr>\n",
       "  </thead>\n",
       "  <tbody>\n",
       "    <tr>\n",
       "      <th>Unnamed: 0</th>\n",
       "      <td>NaT</td>\n",
       "      <td>1995-01-01 00:00:00</td>\n",
       "      <td>1995-02-01 00:00:00</td>\n",
       "      <td>1995-03-01 00:00:00</td>\n",
       "      <td>1995-04-01 00:00:00</td>\n",
       "      <td>1995-05-01 00:00:00</td>\n",
       "      <td>1995-06-01 00:00:00</td>\n",
       "      <td>1995-07-01 00:00:00</td>\n",
       "    </tr>\n",
       "    <tr>\n",
       "      <th>City of London</th>\n",
       "      <td>E09000001</td>\n",
       "      <td>91448.98</td>\n",
       "      <td>82202.77</td>\n",
       "      <td>79120.70</td>\n",
       "      <td>77101.21</td>\n",
       "      <td>84409.15</td>\n",
       "      <td>94900.51</td>\n",
       "      <td>110128.04</td>\n",
       "    </tr>\n",
       "    <tr>\n",
       "      <th>Barking &amp; Dagenham</th>\n",
       "      <td>E09000002</td>\n",
       "      <td>50460.23</td>\n",
       "      <td>51085.78</td>\n",
       "      <td>51268.97</td>\n",
       "      <td>53133.51</td>\n",
       "      <td>53042.25</td>\n",
       "      <td>53700.35</td>\n",
       "      <td>52113.12</td>\n",
       "    </tr>\n",
       "    <tr>\n",
       "      <th>Barnet</th>\n",
       "      <td>E09000003</td>\n",
       "      <td>93284.52</td>\n",
       "      <td>93190.17</td>\n",
       "      <td>92247.52</td>\n",
       "      <td>90762.87</td>\n",
       "      <td>90258.00</td>\n",
       "      <td>90107.23</td>\n",
       "      <td>91441.25</td>\n",
       "    </tr>\n",
       "    <tr>\n",
       "      <th>Bexley</th>\n",
       "      <td>E09000004</td>\n",
       "      <td>64958.09</td>\n",
       "      <td>64787.92</td>\n",
       "      <td>64367.49</td>\n",
       "      <td>64277.67</td>\n",
       "      <td>63997.14</td>\n",
       "      <td>64252.32</td>\n",
       "      <td>63722.70</td>\n",
       "    </tr>\n",
       "  </tbody>\n",
       "</table>\n",
       "</div>"
      ],
      "text/plain": [
       "                            0                    1                    2  \\\n",
       "Unnamed: 0                NaT  1995-01-01 00:00:00  1995-02-01 00:00:00   \n",
       "City of London      E09000001             91448.98             82202.77   \n",
       "Barking & Dagenham  E09000002             50460.23             51085.78   \n",
       "Barnet              E09000003             93284.52             93190.17   \n",
       "Bexley              E09000004             64958.09             64787.92   \n",
       "\n",
       "                                      3                    4  \\\n",
       "Unnamed: 0          1995-03-01 00:00:00  1995-04-01 00:00:00   \n",
       "City of London                 79120.70             77101.21   \n",
       "Barking & Dagenham             51268.97             53133.51   \n",
       "Barnet                         92247.52             90762.87   \n",
       "Bexley                         64367.49             64277.67   \n",
       "\n",
       "                                      5                    6  \\\n",
       "Unnamed: 0          1995-05-01 00:00:00  1995-06-01 00:00:00   \n",
       "City of London                 84409.15             94900.51   \n",
       "Barking & Dagenham             53042.25             53700.35   \n",
       "Barnet                         90258.00             90107.23   \n",
       "Bexley                         63997.14             64252.32   \n",
       "\n",
       "                                      7  \n",
       "Unnamed: 0          1995-07-01 00:00:00  \n",
       "City of London                110128.04  \n",
       "Barking & Dagenham             52113.12  \n",
       "Barnet                         91441.25  \n",
       "Bexley                         63722.70  "
      ]
     },
     "execution_count": 40,
     "metadata": {},
     "output_type": "execute_result"
    }
   ],
   "source": [
    "props_tp = properties.transpose()\n",
    "props_tp.iloc[0:5,0:8].head()  # props_tp.head()"
   ]
  },
  {
   "cell_type": "code",
   "execution_count": 41,
   "metadata": {},
   "outputs": [
    {
     "data": {
      "text/html": [
       "<div>\n",
       "<style scoped>\n",
       "    .dataframe tbody tr th:only-of-type {\n",
       "        vertical-align: middle;\n",
       "    }\n",
       "\n",
       "    .dataframe tbody tr th {\n",
       "        vertical-align: top;\n",
       "    }\n",
       "\n",
       "    .dataframe thead th {\n",
       "        text-align: right;\n",
       "    }\n",
       "</style>\n",
       "<table border=\"1\" class=\"dataframe\">\n",
       "  <thead>\n",
       "    <tr style=\"text-align: right;\">\n",
       "      <th>Date</th>\n",
       "      <th>NaT</th>\n",
       "      <th>1995-01-01</th>\n",
       "      <th>1995-02-01</th>\n",
       "      <th>1995-03-01</th>\n",
       "      <th>1995-04-01</th>\n",
       "      <th>1995-05-01</th>\n",
       "      <th>1995-06-01</th>\n",
       "      <th>1995-07-01</th>\n",
       "    </tr>\n",
       "  </thead>\n",
       "  <tbody>\n",
       "    <tr>\n",
       "      <th>Unnamed: 0</th>\n",
       "      <td>NaT</td>\n",
       "      <td>1995-01-01 00:00:00</td>\n",
       "      <td>1995-02-01 00:00:00</td>\n",
       "      <td>1995-03-01 00:00:00</td>\n",
       "      <td>1995-04-01 00:00:00</td>\n",
       "      <td>1995-05-01 00:00:00</td>\n",
       "      <td>1995-06-01 00:00:00</td>\n",
       "      <td>1995-07-01 00:00:00</td>\n",
       "    </tr>\n",
       "    <tr>\n",
       "      <th>City of London</th>\n",
       "      <td>E09000001</td>\n",
       "      <td>91448.98</td>\n",
       "      <td>82202.77</td>\n",
       "      <td>79120.70</td>\n",
       "      <td>77101.21</td>\n",
       "      <td>84409.15</td>\n",
       "      <td>94900.51</td>\n",
       "      <td>110128.04</td>\n",
       "    </tr>\n",
       "    <tr>\n",
       "      <th>Barking &amp; Dagenham</th>\n",
       "      <td>E09000002</td>\n",
       "      <td>50460.23</td>\n",
       "      <td>51085.78</td>\n",
       "      <td>51268.97</td>\n",
       "      <td>53133.51</td>\n",
       "      <td>53042.25</td>\n",
       "      <td>53700.35</td>\n",
       "      <td>52113.12</td>\n",
       "    </tr>\n",
       "    <tr>\n",
       "      <th>Barnet</th>\n",
       "      <td>E09000003</td>\n",
       "      <td>93284.52</td>\n",
       "      <td>93190.17</td>\n",
       "      <td>92247.52</td>\n",
       "      <td>90762.87</td>\n",
       "      <td>90258.00</td>\n",
       "      <td>90107.23</td>\n",
       "      <td>91441.25</td>\n",
       "    </tr>\n",
       "    <tr>\n",
       "      <th>Bexley</th>\n",
       "      <td>E09000004</td>\n",
       "      <td>64958.09</td>\n",
       "      <td>64787.92</td>\n",
       "      <td>64367.49</td>\n",
       "      <td>64277.67</td>\n",
       "      <td>63997.14</td>\n",
       "      <td>64252.32</td>\n",
       "      <td>63722.70</td>\n",
       "    </tr>\n",
       "  </tbody>\n",
       "</table>\n",
       "</div>"
      ],
      "text/plain": [
       "Date                      NaT           1995-01-01           1995-02-01  \\\n",
       "Unnamed: 0                NaT  1995-01-01 00:00:00  1995-02-01 00:00:00   \n",
       "City of London      E09000001             91448.98             82202.77   \n",
       "Barking & Dagenham  E09000002             50460.23             51085.78   \n",
       "Barnet              E09000003             93284.52             93190.17   \n",
       "Bexley              E09000004             64958.09             64787.92   \n",
       "\n",
       "Date                         1995-03-01           1995-04-01  \\\n",
       "Unnamed: 0          1995-03-01 00:00:00  1995-04-01 00:00:00   \n",
       "City of London                 79120.70             77101.21   \n",
       "Barking & Dagenham             51268.97             53133.51   \n",
       "Barnet                         92247.52             90762.87   \n",
       "Bexley                         64367.49             64277.67   \n",
       "\n",
       "Date                         1995-05-01           1995-06-01  \\\n",
       "Unnamed: 0          1995-05-01 00:00:00  1995-06-01 00:00:00   \n",
       "City of London                 84409.15             94900.51   \n",
       "Barking & Dagenham             53042.25             53700.35   \n",
       "Barnet                         90258.00             90107.23   \n",
       "Bexley                         63997.14             64252.32   \n",
       "\n",
       "Date                         1995-07-01  \n",
       "Unnamed: 0          1995-07-01 00:00:00  \n",
       "City of London                110128.04  \n",
       "Barking & Dagenham             52113.12  \n",
       "Barnet                         91441.25  \n",
       "Bexley                         63722.70  "
      ]
     },
     "execution_count": 41,
     "metadata": {},
     "output_type": "execute_result"
    }
   ],
   "source": [
    "# set the column labels\n",
    "props_tp.columns = props_tp.iloc[0].rename('Date')\n",
    "props_tp.iloc[0:5,0:8].head()  # props_tp.head()"
   ]
  },
  {
   "cell_type": "code",
   "execution_count": 42,
   "metadata": {},
   "outputs": [
    {
     "data": {
      "text/html": [
       "<div>\n",
       "<style scoped>\n",
       "    .dataframe tbody tr th:only-of-type {\n",
       "        vertical-align: middle;\n",
       "    }\n",
       "\n",
       "    .dataframe tbody tr th {\n",
       "        vertical-align: top;\n",
       "    }\n",
       "\n",
       "    .dataframe thead th {\n",
       "        text-align: right;\n",
       "    }\n",
       "</style>\n",
       "<table border=\"1\" class=\"dataframe\">\n",
       "  <thead>\n",
       "    <tr style=\"text-align: right;\">\n",
       "      <th>Date</th>\n",
       "      <th>index</th>\n",
       "      <th>NaN</th>\n",
       "      <th>1995-01-01 00:00:00</th>\n",
       "      <th>1995-02-01 00:00:00</th>\n",
       "      <th>1995-03-01 00:00:00</th>\n",
       "      <th>1995-04-01 00:00:00</th>\n",
       "      <th>1995-05-01 00:00:00</th>\n",
       "      <th>1995-06-01 00:00:00</th>\n",
       "    </tr>\n",
       "  </thead>\n",
       "  <tbody>\n",
       "    <tr>\n",
       "      <th>1</th>\n",
       "      <td>City of London</td>\n",
       "      <td>E09000001</td>\n",
       "      <td>91448.98</td>\n",
       "      <td>82202.77</td>\n",
       "      <td>79120.70</td>\n",
       "      <td>77101.21</td>\n",
       "      <td>84409.15</td>\n",
       "      <td>94900.51</td>\n",
       "    </tr>\n",
       "    <tr>\n",
       "      <th>2</th>\n",
       "      <td>Barking &amp; Dagenham</td>\n",
       "      <td>E09000002</td>\n",
       "      <td>50460.23</td>\n",
       "      <td>51085.78</td>\n",
       "      <td>51268.97</td>\n",
       "      <td>53133.51</td>\n",
       "      <td>53042.25</td>\n",
       "      <td>53700.35</td>\n",
       "    </tr>\n",
       "    <tr>\n",
       "      <th>3</th>\n",
       "      <td>Barnet</td>\n",
       "      <td>E09000003</td>\n",
       "      <td>93284.52</td>\n",
       "      <td>93190.17</td>\n",
       "      <td>92247.52</td>\n",
       "      <td>90762.87</td>\n",
       "      <td>90258.00</td>\n",
       "      <td>90107.23</td>\n",
       "    </tr>\n",
       "    <tr>\n",
       "      <th>4</th>\n",
       "      <td>Bexley</td>\n",
       "      <td>E09000004</td>\n",
       "      <td>64958.09</td>\n",
       "      <td>64787.92</td>\n",
       "      <td>64367.49</td>\n",
       "      <td>64277.67</td>\n",
       "      <td>63997.14</td>\n",
       "      <td>64252.32</td>\n",
       "    </tr>\n",
       "    <tr>\n",
       "      <th>5</th>\n",
       "      <td>Brent</td>\n",
       "      <td>E09000005</td>\n",
       "      <td>71306.57</td>\n",
       "      <td>72022.26</td>\n",
       "      <td>72015.76</td>\n",
       "      <td>72965.63</td>\n",
       "      <td>73704.05</td>\n",
       "      <td>74310.48</td>\n",
       "    </tr>\n",
       "  </tbody>\n",
       "</table>\n",
       "</div>"
      ],
      "text/plain": [
       "Date               index        NaN 1995-01-01 00:00:00 1995-02-01 00:00:00  \\\n",
       "1         City of London  E09000001            91448.98            82202.77   \n",
       "2     Barking & Dagenham  E09000002            50460.23            51085.78   \n",
       "3                 Barnet  E09000003            93284.52            93190.17   \n",
       "4                 Bexley  E09000004            64958.09            64787.92   \n",
       "5                  Brent  E09000005            71306.57            72022.26   \n",
       "\n",
       "Date 1995-03-01 00:00:00 1995-04-01 00:00:00 1995-05-01 00:00:00  \\\n",
       "1               79120.70            77101.21            84409.15   \n",
       "2               51268.97            53133.51            53042.25   \n",
       "3               92247.52            90762.87            90258.00   \n",
       "4               64367.49            64277.67            63997.14   \n",
       "5               72015.76            72965.63            73704.05   \n",
       "\n",
       "Date 1995-06-01 00:00:00  \n",
       "1               94900.51  \n",
       "2               53700.35  \n",
       "3               90107.23  \n",
       "4               64252.32  \n",
       "5               74310.48  "
      ]
     },
     "execution_count": 42,
     "metadata": {},
     "output_type": "execute_result"
    }
   ],
   "source": [
    "# drop the first row which we turned into column labels but are not values.\n",
    "props_tp = props_tp.reset_index().drop(0)\n",
    "props_tp.iloc[0:5,0:8].head()  # props_tp.head()"
   ]
  },
  {
   "cell_type": "markdown",
   "metadata": {
    "colab_type": "text",
    "id": "o1uLbJAsoIjK"
   },
   "source": [
    "**Cleaning the data (part 2)**"
   ]
  },
  {
   "cell_type": "code",
   "execution_count": 44,
   "metadata": {
    "colab": {},
    "colab_type": "code",
    "id": "GKkmn1AnoVZS"
   },
   "outputs": [
    {
     "data": {
      "text/html": [
       "<div>\n",
       "<style scoped>\n",
       "    .dataframe tbody tr th:only-of-type {\n",
       "        vertical-align: middle;\n",
       "    }\n",
       "\n",
       "    .dataframe tbody tr th {\n",
       "        vertical-align: top;\n",
       "    }\n",
       "\n",
       "    .dataframe thead th {\n",
       "        text-align: right;\n",
       "    }\n",
       "</style>\n",
       "<table border=\"1\" class=\"dataframe\">\n",
       "  <thead>\n",
       "    <tr style=\"text-align: right;\">\n",
       "      <th>Date</th>\n",
       "      <th>London Borough</th>\n",
       "      <th>ID</th>\n",
       "    </tr>\n",
       "  </thead>\n",
       "  <tbody>\n",
       "    <tr>\n",
       "      <th>1</th>\n",
       "      <td>City of London</td>\n",
       "      <td>E09000001</td>\n",
       "    </tr>\n",
       "    <tr>\n",
       "      <th>2</th>\n",
       "      <td>Barking &amp; Dagenham</td>\n",
       "      <td>E09000002</td>\n",
       "    </tr>\n",
       "    <tr>\n",
       "      <th>3</th>\n",
       "      <td>Barnet</td>\n",
       "      <td>E09000003</td>\n",
       "    </tr>\n",
       "    <tr>\n",
       "      <th>4</th>\n",
       "      <td>Bexley</td>\n",
       "      <td>E09000004</td>\n",
       "    </tr>\n",
       "    <tr>\n",
       "      <th>5</th>\n",
       "      <td>Brent</td>\n",
       "      <td>E09000005</td>\n",
       "    </tr>\n",
       "  </tbody>\n",
       "</table>\n",
       "</div>"
      ],
      "text/plain": [
       "Date      London Borough         ID\n",
       "1         City of London  E09000001\n",
       "2     Barking & Dagenham  E09000002\n",
       "3                 Barnet  E09000003\n",
       "4                 Bexley  E09000004\n",
       "5                  Brent  E09000005"
      ]
     },
     "execution_count": 44,
     "metadata": {},
     "output_type": "execute_result"
    }
   ],
   "source": [
    "# Clean up the column names\n",
    "props_tp_rn = props_tp.rename(columns={'index':'London Borough',\n",
    "                                       pd.NaT:'ID'})\n",
    "props_tp_rn.iloc[0:5,0:2]  # head()"
   ]
  },
  {
   "cell_type": "markdown",
   "metadata": {
    "colab_type": "text",
    "id": "jy8BzXHmoWEw"
   },
   "source": [
    "**Transforming the data**"
   ]
  },
  {
   "cell_type": "code",
   "execution_count": null,
   "metadata": {},
   "outputs": [],
   "source": [
    "# Getting rid of the extraneous rows (and NaNs) is easier if we do it\n",
    "#    BEFORE we melt the frame \n",
    "# We notice that the first row is not a borough.  \n",
    "# Neither are the last 14 rows\n",
    "props_clean = props_tp_rn.iloc[1:33].reset_index(drop=True)\n",
    "\n",
    "# Sanity check\n",
    "props_clean.describe()\n",
    "# props_clean.iloc[:,0:8].describe()"
   ]
  },
  {
   "cell_type": "code",
   "execution_count": null,
   "metadata": {
    "colab": {},
    "colab_type": "code",
    "id": "S2wM0qLuo2Zt"
   },
   "outputs": [],
   "source": [
    "# Melt and rename\n",
    "df = props_clean.melt(id_vars=['London Borough', 'ID'] ,value_name='Avg Price', )\n",
    "df.head()"
   ]
  },
  {
   "cell_type": "markdown",
   "metadata": {
    "colab_type": "text",
    "id": "7kIsgAo7o3mf"
   },
   "source": [
    "**Check the datatypes**"
   ]
  },
  {
   "cell_type": "code",
   "execution_count": null,
   "metadata": {},
   "outputs": [],
   "source": [
    "# checking datatypes\n",
    "df.info()"
   ]
  },
  {
   "cell_type": "code",
   "execution_count": null,
   "metadata": {},
   "outputs": [],
   "source": [
    "# cast the avg price column to floating point\n",
    "df['Avg Price'] = df['Avg Price'].apply(float)"
   ]
  },
  {
   "cell_type": "code",
   "execution_count": null,
   "metadata": {},
   "outputs": [],
   "source": [
    "# checking datatype modifications\n",
    "df.info()"
   ]
  },
  {
   "cell_type": "code",
   "execution_count": null,
   "metadata": {},
   "outputs": [],
   "source": [
    "df.head()"
   ]
  },
  {
   "cell_type": "markdown",
   "metadata": {
    "colab_type": "text",
    "id": "knLUXHLypOtw"
   },
   "source": [
    "**Cleaning the data (part 3)**\n",
    "\n",
    "Check out the contents of the London Borough column, and if you find null values, get rid of them however you see fit. "
   ]
  },
  {
   "cell_type": "code",
   "execution_count": null,
   "metadata": {
    "colab": {},
    "colab_type": "code",
    "id": "BnvTW5a3p0fC"
   },
   "outputs": [],
   "source": [
    "# We cleaned it earlier!\n",
    "df.loc[:,df.isnull().any()]  # Proof"
   ]
  },
  {
   "cell_type": "markdown",
   "metadata": {
    "colab_type": "text",
    "id": "PGEx6mJsp6dG"
   },
   "source": [
    "## Visualizing the data\n",
    "\n",
    "Subsetting and performing EDA on a single borough - Barnet"
   ]
  },
  {
   "cell_type": "code",
   "execution_count": null,
   "metadata": {
    "colab": {},
    "colab_type": "code",
    "id": "nAg5pT9cqHAR"
   },
   "outputs": [],
   "source": [
    "barnet = df[df['London Borough'] == 'Barnet']\n",
    "barnet.head()"
   ]
  },
  {
   "cell_type": "markdown",
   "metadata": {},
   "source": [
    "### Barnet Plot"
   ]
  },
  {
   "cell_type": "code",
   "execution_count": null,
   "metadata": {},
   "outputs": [],
   "source": [
    "plt.plot(barnet['Date'], barnet['Avg Price'])\n",
    "plt.title(\"average price of housing in Barnet by year\")\n",
    "\n",
    "format_ticks()\n",
    "plt.show()"
   ]
  },
  {
   "cell_type": "markdown",
   "metadata": {},
   "source": [
    "#### Adding a Linear Regression to the Barnet Plot"
   ]
  },
  {
   "cell_type": "code",
   "execution_count": null,
   "metadata": {},
   "outputs": [],
   "source": [
    "# The previous plot looks pretty linear --> Linear Regression?\n",
    "\n",
    "# basic line plot for Barnet\n",
    "plt.plot(barnet['Date'], barnet['Avg Price'])\n",
    "\n",
    "# add a linear regression\n",
    "y_barnet_pred = get_linregr_pred(barnet)\n",
    "plt.plot(barnet['Date'], y_barnet_pred, color='red')\n",
    "\n",
    "plt.title(\"The Average Price of Housing in Barnet by Year\")\n",
    "format_ticks()\n",
    "plt.show()"
   ]
  },
  {
   "cell_type": "markdown",
   "metadata": {},
   "source": [
    "### An exploration of slicing, and refitting for Barnet borough"
   ]
  },
  {
   "cell_type": "markdown",
   "metadata": {},
   "source": [
    "The linear relationship seems pretty dominant over the 1995-2008 period.\n",
    "2008 was the year of \"housing crisis\"\n",
    "After this, there was a period of recovery up until around 2016 where there's a new horizontal oscillation.\n",
    "\n",
    "Here we explore the \"before\" and \"after\" 2008"
   ]
  },
  {
   "cell_type": "markdown",
   "metadata": {},
   "source": [
    "##### Barnet - Pre 2008"
   ]
  },
  {
   "cell_type": "code",
   "execution_count": null,
   "metadata": {},
   "outputs": [],
   "source": [
    "# An exploration of slicing, and refitting for Barnet borough\n",
    "# Pre 2008 housing crisis\n",
    "\n",
    "barnet9508 = barnet[barnet['Date'] < '2008']\n",
    "\n",
    "# basic line plot for Barnet up to 2008\n",
    "plt.plot(barnet9508['Date'], barnet9508['Avg Price'])\n",
    "\n",
    "# Add a linear regression\n",
    "y_barnet_pred = get_linregr_pred(barnet9508)\n",
    "plt.plot(barnet9508['Date'], y_barnet_pred, color='red')\n",
    "\n",
    "plt.title(\"Barnet (pre-2008)\")\n",
    "format_ticks()\n",
    "plt.show()\n"
   ]
  },
  {
   "cell_type": "markdown",
   "metadata": {},
   "source": [
    "##### Barnet - Post 2008"
   ]
  },
  {
   "cell_type": "code",
   "execution_count": null,
   "metadata": {},
   "outputs": [],
   "source": [
    "# An exploration of slicing, and refitting for Barnet borough\n",
    "# post 2008 housing crisis\n",
    "\n",
    "barnet08on = barnet[barnet['Date'] > '2008']\n",
    "\n",
    "# basic line plot for Barnet from 2008 on\n",
    "plt.plot(barnet08on['Date'], barnet08on['Avg Price'])\n",
    "\n",
    "# Add a linear regression\n",
    "y_barnet_pred = get_linregr_pred(barnet08on)\n",
    "plt.plot(barnet08on['Date'], y_barnet_pred, color='red')\n",
    "\n",
    "plt.title(\"Barnet post-2008\")\n",
    "format_ticks()\n",
    "plt.show()"
   ]
  },
  {
   "cell_type": "markdown",
   "metadata": {},
   "source": [
    "### Camden Plot"
   ]
  },
  {
   "cell_type": "code",
   "execution_count": null,
   "metadata": {
    "cell_style": "center"
   },
   "outputs": [],
   "source": [
    "# subset for Camden\n",
    "camden = df[df['London Borough'] == 'Camden']\n",
    "\n",
    "# basic line plot for Camden\n",
    "plt.plot(camden['Date'], camden['Avg Price'])\n",
    "\n",
    "# Add a linear Regression \n",
    "ycamden_pred = get_linregr_pred(camden)\n",
    "plt.plot(camden['Date'], ycamden_pred, color='red')\n",
    "\n",
    "plt.title(\"Camden\")\n",
    "format_ticks()\n",
    "plt.show()\n"
   ]
  },
  {
   "cell_type": "markdown",
   "metadata": {},
   "source": [
    "### Westminster Plot"
   ]
  },
  {
   "cell_type": "code",
   "execution_count": null,
   "metadata": {
    "cell_style": "center"
   },
   "outputs": [],
   "source": [
    "# subset for Westminster\n",
    "westminster = df[df['London Borough'] == 'Westminster']\n",
    "\n",
    "# basic line plot for Westminster\n",
    "plt.plot(westminster['Date'], westminster['Avg Price'])\n",
    "\n",
    "# Add a linear Regression \n",
    "ywestminster_pred = get_linregr_pred(westminster)\n",
    "plt.plot(westminster['Date'], ywestminster_pred, color='red')\n",
    "\n",
    "plt.title(\"Westminster\")\n",
    "format_ticks()\n",
    "plt.show()"
   ]
  },
  {
   "cell_type": "markdown",
   "metadata": {},
   "source": [
    "# Answering the Q: which boroughs have seen the greatest price increases?\n",
    "\n",
    "We can answer this question by fitting a linear regression line to each borough and sorting the coefficient of each line.  The lines with the largest coefficient values will have the greatest relative price increase."
   ]
  },
  {
   "cell_type": "code",
   "execution_count": null,
   "metadata": {},
   "outputs": [],
   "source": [
    "# Loop and check the regression coefficient for each borough and get the maximum one.\n",
    "# The max coefficient = greatest avg rate of change --> highest average delta price\n",
    "\n",
    "dfc = pd.DataFrame()  # DataFrame with Coefficients\n",
    "\n",
    "# loop over unique boroughs\n",
    "\n",
    "for b in df['London Borough'].unique():\n",
    "    \n",
    "    # subset the borough from the main df\n",
    "    df_sub = df[df['London Borough'] == b]\n",
    "    \n",
    "    # reshape the data for LR\n",
    "    Xsub = df_sub['Date'].map(dt.datetime.toordinal).values.reshape(-1,1)\n",
    "    Ysub = df_sub['Avg Price'].values.reshape(-1,1)\n",
    "    \n",
    "    # fit the linear regressor\n",
    "    regr = LinearRegression().fit(Xsub, Ysub)\n",
    "    \n",
    "    # generate a dataframe of coefficents\n",
    "    dfc[b] = regr.coef_[0]\n",
    "    \n",
    "# reshape and label the dataframe\n",
    "dfcm = dfc.melt()\n",
    "dfcm.columns = ['London Borough', 'regr coef']\n",
    "\n",
    "#sort the dataframe by coefficients aka growth rate\n",
    "dfcm = dfcm.sort_values('regr coef', ascending=False)\n",
    "\n",
    "print('\\n\\nThe London Borough that showed the highest average growth ' +\n",
    "      f'between 1996 and 2020 is: {dfcm.iloc[0,0]}\\n\\n' +\n",
    "     'The top 5 are listed below:\\n')\n",
    "\n",
    "\n",
    "dfcm.head()\n"
   ]
  },
  {
   "cell_type": "markdown",
   "metadata": {},
   "source": [
    "## Visualizing the relative price increases\n",
    "By plotting the coefficients, we can visually assess the relative performance of each borough in regard to potential profit over time."
   ]
  },
  {
   "cell_type": "code",
   "execution_count": null,
   "metadata": {
    "scrolled": false
   },
   "outputs": [],
   "source": [
    "# generate a horizontal bar plot to visualize the delta price\n",
    "\n",
    "fig, ax = plt.subplots(figsize=(8,10))\n",
    "\n",
    "ypos = np.arange(len(dfcm))\n",
    "ax.barh(ypos, dfcm['regr coef'])\n",
    "\n",
    "# remove the xticks because the actual coef value is not useful\n",
    "plt.tick_params(axis='x', labelbottom=False)\n",
    "\n",
    "ax.set_xlabel('Relative Change in Price')\n",
    "ax.set_ylabel('London Boroughs')\n",
    "ax.set_yticks(ypos)\n",
    "ax.set_yticklabels(dfcm['London Borough'])\n",
    "\n",
    "plt.title(f\"Comparing Relative Price Increase over {df['Date'].min().year} - {df['Date'].max().year} by Borough\")\n",
    "plt.show()"
   ]
  },
  {
   "cell_type": "markdown",
   "metadata": {},
   "source": [
    "## Plotting the borough with the highest price increase: Kensington & Chelsea"
   ]
  },
  {
   "cell_type": "code",
   "execution_count": null,
   "metadata": {},
   "outputs": [],
   "source": [
    "# subset for Kensington & Chelsea (the highest avg price increase)\n",
    "kensington = df[df['London Borough'] == 'Kensington & Chelsea']\n",
    "\n",
    "# basic line plot for Kensington & Chelsea\n",
    "plt.plot(kensington['Date'], kensington['Avg Price'])\n",
    "\n",
    "# Add a linear Regression \n",
    "ykensington_pred = get_linregr_pred(kensington)\n",
    "plt.plot(kensington['Date'], ykensington_pred, color='red')\n",
    "\n",
    "plt.title(\"Kensington & Chelsea\")\n",
    "format_ticks()\n",
    "plt.show()"
   ]
  },
  {
   "cell_type": "markdown",
   "metadata": {},
   "source": [
    "## Plotting the borough with the lowest price increase: Barking & Dagenham"
   ]
  },
  {
   "cell_type": "code",
   "execution_count": null,
   "metadata": {},
   "outputs": [],
   "source": [
    "# subset for Barking & Dagenham (the lowest avg price increase)\n",
    "barking = df[df['London Borough'] == 'Barking & Dagenham']\n",
    "\n",
    "# basic line plot for Barking & Dagenham\n",
    "plt.plot(barking['Date'], barking['Avg Price'])\n",
    "\n",
    "# Add a linear Regression \n",
    "ybarking_pred = get_linregr_pred(barking)\n",
    "plt.plot(barking['Date'], ybarking_pred, color='red')\n",
    "\n",
    "plt.title(\"Barking & Dagenham\")\n",
    "format_ticks()\n",
    "plt.show()"
   ]
  },
  {
   "cell_type": "markdown",
   "metadata": {},
   "source": [
    "## Plots of selected boroughs in a single chart\n",
    "\n",
    "A visual comparison between the price performance of some boroughs, including the highest earning and lowest earning.  Having the data in one chart, with the scale being equal, allows us visually compare all boroughs along with their slope."
   ]
  },
  {
   "cell_type": "code",
   "execution_count": null,
   "metadata": {},
   "outputs": [],
   "source": [
    "# Semi-randomly picked boroughs\n",
    "plt.plot(barnet['Date'], barnet['Avg Price'], label='Barnet', linewidth=0.7, linestyle='--')\n",
    "plt.plot(camden['Date'], camden['Avg Price'], label='Camden', linewidth=0.7, linestyle='--')\n",
    "plt.plot(westminster['Date'], westminster['Avg Price'], label='Westminster', \\\n",
    "         color='green', linewidth=0.7, linestyle='--', alpha=0.8)\n",
    "\n",
    "# Highest Price Change\n",
    "plt.plot(kensington['Date'], kensington['Avg Price'], label='Highest: Kensington & Chelsea', color='blue')\n",
    "plt.plot(kensington['Date'], ykensington_pred, color='red', alpha=0.7)\n",
    "\n",
    "#Lowest Price Change\n",
    "plt.plot(barking['Date'], barking['Avg Price'], label='Lowest: Barking & Dagenham', color='orange')\n",
    "plt.plot(barking['Date'], ybarking_pred, color='red', alpha=0.7)\n",
    "\n",
    "\n",
    "plt.title(\"Selected Boroughs (inc highest and lowest price change)\")\n",
    "plt.legend(loc='upper left')\n",
    "format_ticks()\n",
    "plt.show()"
   ]
  },
  {
   "cell_type": "markdown",
   "metadata": {},
   "source": [
    "## Plot all of the Boroughs in one chart\n",
    "\n",
    "Regression lines have been provided for 'Kensington & Chelsea' as well as 'Barking & Dagenham', respectively representing the highest and lowest average increase in price."
   ]
  },
  {
   "cell_type": "code",
   "execution_count": null,
   "metadata": {},
   "outputs": [],
   "source": [
    "# Loop over and plot all of the boroughs together\n",
    "\n",
    "for b in df['London Borough'].unique():\n",
    "    \n",
    "    # subset the borough from the main df\n",
    "    df_sub = df[df['London Borough'] == b]\n",
    "    \n",
    "    # fit the linear regressor for the highest and lowest positive delta price\n",
    "    # @TODO: remove the hard-coding\n",
    "    if b == 'Kensington & Chelsea':\n",
    "        plt.plot(df_sub['Date'], df_sub['Avg Price'], linewidth=1, color='blue', label=b)\n",
    "                 \n",
    "        ydfsub_pred = get_linregr_pred(df_sub)  \n",
    "        plt.plot(df_sub['Date'], ydfsub_pred, color='red')\n",
    "        \n",
    "    elif b == 'Barking & Dagenham':\n",
    "        plt.plot(df_sub['Date'], df_sub['Avg Price'], linewidth=1, color='orange', label=b)\n",
    "                 \n",
    "        ydfsub_pred = get_linregr_pred(df_sub)  \n",
    "        plt.plot(df_sub['Date'], ydfsub_pred, color='red')        \n",
    "        \n",
    "    else:\n",
    "        # plot the other boroughs without a regression line\n",
    "        plt.plot(df_sub['Date'], df_sub['Avg Price'], linewidth=0.4, alpha=0.8)\n",
    "\n",
    "plt.title(\"Plot of all London Boroughs, avg price by date\")\n",
    "plt.legend(loc='upper left')\n",
    "format_ticks()\n",
    "plt.show()"
   ]
  },
  {
   "cell_type": "markdown",
   "metadata": {},
   "source": [
    "## Important Note\n",
    "\n",
    "It should be noted that the regression line for 'Kensington & Chelsea' fits poorly at the beginning of the dataset.  Therefore, any investment made in 1995 or 1996 would clearly underperform relative to the model by about £150k (constant) (or around 8-11% of the projected profit)."
   ]
  },
  {
   "cell_type": "markdown",
   "metadata": {
    "colab_type": "text",
    "id": "NzYUI7FxJpgv"
   },
   "source": [
    "## Conclusion\n",
    "\n",
    "From the charts, we can clearly see that Kensington & Chelsea homes have had the highest average increase in market value over the time frame (1995-2020)"
   ]
  },
  {
   "cell_type": "code",
   "execution_count": null,
   "metadata": {},
   "outputs": [],
   "source": []
  }
 ],
 "metadata": {
  "colab": {
   "collapsed_sections": [],
   "name": "Springboard Data Science Career Track Unit 4 Challenge - Tier 3 Complete .ipynb",
   "provenance": []
  },
  "kernelspec": {
   "display_name": "Python 3",
   "language": "python",
   "name": "python3"
  },
  "language_info": {
   "codemirror_mode": {
    "name": "ipython",
    "version": 3
   },
   "file_extension": ".py",
   "mimetype": "text/x-python",
   "name": "python",
   "nbconvert_exporter": "python",
   "pygments_lexer": "ipython3",
   "version": "3.6.10"
  },
  "toc": {
   "base_numbering": 1,
   "nav_menu": {},
   "number_sections": false,
   "sideBar": true,
   "skip_h1_title": false,
   "title_cell": "Table of Contents",
   "title_sidebar": "Contents",
   "toc_cell": true,
   "toc_position": {},
   "toc_section_display": true,
   "toc_window_display": true
  },
  "varInspector": {
   "cols": {
    "lenName": 16,
    "lenType": 16,
    "lenVar": 40
   },
   "kernels_config": {
    "python": {
     "delete_cmd_postfix": "",
     "delete_cmd_prefix": "del ",
     "library": "var_list.py",
     "varRefreshCmd": "print(var_dic_list())"
    },
    "r": {
     "delete_cmd_postfix": ") ",
     "delete_cmd_prefix": "rm(",
     "library": "var_list.r",
     "varRefreshCmd": "cat(var_dic_list()) "
    }
   },
   "types_to_exclude": [
    "module",
    "function",
    "builtin_function_or_method",
    "instance",
    "_Feature"
   ],
   "window_display": false
  }
 },
 "nbformat": 4,
 "nbformat_minor": 1
}
