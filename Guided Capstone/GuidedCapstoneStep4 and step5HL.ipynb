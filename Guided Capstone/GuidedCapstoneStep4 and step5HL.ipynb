{
 "cells": [
  {
   "cell_type": "markdown",
   "metadata": {
    "colab_type": "text",
    "id": "cf5CmXQCZyF1"
   },
   "source": [
    "# Guided Capstone Step 4. Pre-Processing and Training Data Development"
   ]
  },
  {
   "cell_type": "markdown",
   "metadata": {
    "toc": true
   },
   "source": [
    "<h1>Table of Contents<span class=\"tocSkip\"></span></h1>\n",
    "<div class=\"toc\"><ul class=\"toc-item\"><li><span><a href=\"#Guided-Capstone-Step-4.-Pre-Processing-and-Training-Data-Development\" data-toc-modified-id=\"Guided-Capstone-Step-4.-Pre-Processing-and-Training-Data-Development-0\"><span class=\"toc-item-num\">0&nbsp;&nbsp;</span>Guided Capstone Step 4. Pre-Processing and Training Data Development</a></span><ul class=\"toc-item\"><li><span><a href=\"#Create-dummy-features-for-categorical-variables\" data-toc-modified-id=\"Create-dummy-features-for-categorical-variables-0.1\"><span class=\"toc-item-num\">0.1&nbsp;&nbsp;</span>Create dummy features for categorical variables</a></span></li><li><span><a href=\"#Standardize-the-magnitude-of-numeric-features\" data-toc-modified-id=\"Standardize-the-magnitude-of-numeric-features-0.2\"><span class=\"toc-item-num\">0.2&nbsp;&nbsp;</span>Standardize the magnitude of numeric features</a></span></li><li><span><a href=\"#Split-into-training-and-testing-datasets\" data-toc-modified-id=\"Split-into-training-and-testing-datasets-0.3\"><span class=\"toc-item-num\">0.3&nbsp;&nbsp;</span>Split into training and testing datasets</a></span></li></ul></li><li><span><a href=\"#Guided-Capstone-Step-5.-Modeling\" data-toc-modified-id=\"Guided-Capstone-Step-5.-Modeling-1\"><span class=\"toc-item-num\">1&nbsp;&nbsp;</span>Guided Capstone Step 5. Modeling</a></span><ul class=\"toc-item\"><li><ul class=\"toc-item\"><li><span><a href=\"#The-Data-Science-Method\" data-toc-modified-id=\"The-Data-Science-Method-1.0.1\"><span class=\"toc-item-num\">1.0.1&nbsp;&nbsp;</span><strong>The Data Science Method</strong></a></span></li></ul></li><li><span><a href=\"#Fit-Models-with-a-Training-Dataset\" data-toc-modified-id=\"Fit-Models-with-a-Training-Dataset-1.1\"><span class=\"toc-item-num\">1.1&nbsp;&nbsp;</span>Fit Models with a Training Dataset</a></span><ul class=\"toc-item\"><li><ul class=\"toc-item\"><li><span><a href=\"#Model-1\" data-toc-modified-id=\"Model-1-1.1.0.1\"><span class=\"toc-item-num\">1.1.0.1&nbsp;&nbsp;</span>Model 1</a></span></li></ul></li></ul></li><li><span><a href=\"#Review-Model-Outcomes-—-Iterate-over-additional-models-as-needed\" data-toc-modified-id=\"Review-Model-Outcomes-—-Iterate-over-additional-models-as-needed-1.2\"><span class=\"toc-item-num\">1.2&nbsp;&nbsp;</span>Review Model Outcomes — Iterate over additional models as needed</a></span><ul class=\"toc-item\"><li><ul class=\"toc-item\"><li><span><a href=\"#Model-2\" data-toc-modified-id=\"Model-2-1.2.0.1\"><span class=\"toc-item-num\">1.2.0.1&nbsp;&nbsp;</span>Model 2</a></span></li><li><span><a href=\"#Model-3\" data-toc-modified-id=\"Model-3-1.2.0.2\"><span class=\"toc-item-num\">1.2.0.2&nbsp;&nbsp;</span>Model 3</a></span></li></ul></li></ul></li><li><span><a href=\"#Identify-the-Final-Model\" data-toc-modified-id=\"Identify-the-Final-Model-1.3\"><span class=\"toc-item-num\">1.3&nbsp;&nbsp;</span>Identify the Final Model</a></span></li></ul></li></ul></div>"
   ]
  },
  {
   "cell_type": "markdown",
   "metadata": {
    "colab_type": "text",
    "id": "b2jue2jPGJlt"
   },
   "source": [
    "**The Data Science Method**  \n",
    "\n",
    "\n",
    "1.   Problem Identification \n",
    "\n",
    "\n",
    "2.   Data Wrangling \n",
    "  \n",
    " \n",
    "3.   Exploratory Data Analysis   \n",
    "\n",
    "4.   **Pre-processing and Training Data Development**  \n",
    " * Create dummy or indicator features for categorical variables\n",
    "  * Standardize the magnitude of numeric features\n",
    "  * Split into testing and training datasets\n",
    "  * Apply scaler to the testing set\n",
    "5.   Modeling \n",
    "  * Fit Models with Training Data Set\n",
    "  * Review Model Outcomes — Iterate over additional models as needed.\n",
    "  * Identify the Final Model\n",
    "\n",
    "6.   Documentation\n",
    "  * Review the Results\n",
    "  * Present and share your findings - storytelling\n",
    "  * Finalize Code \n",
    "  * Finalize Documentation"
   ]
  },
  {
   "cell_type": "markdown",
   "metadata": {
    "colab_type": "text",
    "id": "K8xfkAqqZyF2"
   },
   "source": [
    "**<font color='teal'> Start by loading the necessary packages as we did in step 3 and printing out our current working directory just to confirm we are in the correct project directory. </font>**"
   ]
  },
  {
   "cell_type": "code",
   "execution_count": 1,
   "metadata": {
    "ExecuteTime": {
     "end_time": "2020-07-30T20:36:00.295970Z",
     "start_time": "2020-07-30T20:35:58.641390Z"
    },
    "colab": {},
    "colab_type": "code",
    "id": "ry6WPL5eZyF3"
   },
   "outputs": [],
   "source": [
    "#load python packages\n",
    "#load python packages\n",
    "import os\n",
    "import pandas as pd\n",
    "import datetime\n",
    "import numpy as np\n",
    "%matplotlib inline\n",
    "\n",
    "import seaborn as sns\n",
    "import matplotlib.pyplot as plt\n",
    "import math\n"
   ]
  },
  {
   "cell_type": "code",
   "execution_count": 2,
   "metadata": {
    "ExecuteTime": {
     "end_time": "2020-07-30T20:36:00.312922Z",
     "start_time": "2020-07-30T20:36:00.300956Z"
    }
   },
   "outputs": [],
   "source": [
    "# Extra CSS\n",
    "# from IPython.display import HTML\n",
    "# pd.set_option('display.float_format', lambda x: '{:.2f}'.format(x))\n",
    "# pd.set_option('display.float_format', lambda x: '%.5f' % x)\n",
    "pd.options.display.float_format = '{:.5f}'.format\n",
    "plt.style.use('dark_background')"
   ]
  },
  {
   "cell_type": "markdown",
   "metadata": {
    "colab_type": "text",
    "id": "630T-ogRZyF8"
   },
   "source": [
    "**<font color='teal'>  Load the csv file you created in step 3, remember it should be saved inside your data subfolder and print the first five rows.</font>**"
   ]
  },
  {
   "cell_type": "code",
   "execution_count": 3,
   "metadata": {
    "ExecuteTime": {
     "end_time": "2020-07-30T20:36:00.356804Z",
     "start_time": "2020-07-30T20:36:00.319904Z"
    },
    "colab": {},
    "colab_type": "code",
    "id": "dMNbk0u3ZyF9"
   },
   "outputs": [],
   "source": [
    "path='./data'\n",
    "if os.getcwd()[-4:] != path[-4:]:\n",
    "    os.chdir(path)\n",
    "df = pd.read_csv('step3_output.csv', index_col=0)"
   ]
  },
  {
   "cell_type": "markdown",
   "metadata": {
    "colab_type": "text",
    "id": "zkBHf9smZyGB"
   },
   "source": [
    "## Create dummy features for categorical variables"
   ]
  },
  {
   "cell_type": "markdown",
   "metadata": {
    "colab_type": "text",
    "id": "vWKHm0NhAnrJ"
   },
   "source": [
    "**<font color='teal'> Create dummy variables for `state`. Add the dummies back to the dataframe and remove the original column for `state`. </font>**\n",
    "\n",
    "Hint: you can see an example of how to execute this in Aiden's article on preprocessing [here](https://medium.com/@aiden.dataminer/the-data-science-method-dsm-pre-processing-and-training-data-development-fd2d75182967). "
   ]
  },
  {
   "cell_type": "code",
   "execution_count": 4,
   "metadata": {
    "ExecuteTime": {
     "end_time": "2020-07-30T20:36:00.388719Z",
     "start_time": "2020-07-30T20:36:00.361791Z"
    },
    "colab": {},
    "colab_type": "code",
    "id": "lZqWk8ltZyGZ"
   },
   "outputs": [
    {
     "data": {
      "text/plain": [
       "(173, 60)"
      ]
     },
     "execution_count": 4,
     "metadata": {},
     "output_type": "execute_result"
    }
   ],
   "source": [
    "dfo = df[['state']]\n",
    "df.drop('state', inplace=True, axis=1)\n",
    "# pd.get_dummies(dfo)\n",
    "\n",
    "# dfo=df.select_dtypes(include=['object']) # select object type columns\n",
    "df = pd.concat([df, pd.get_dummies(dfo)], axis=1)\n",
    "df.shape"
   ]
  },
  {
   "cell_type": "markdown",
   "metadata": {
    "colab_type": "text",
    "id": "HnDVhE1-ZyGF"
   },
   "source": [
    "## Standardize the magnitude of numeric features"
   ]
  },
  {
   "cell_type": "markdown",
   "metadata": {
    "colab": {},
    "colab_type": "code",
    "id": "gW3D-WlDZyGG"
   },
   "source": [
    "**<font color='teal'> Using sklearn preprocessing standardize the scale of the features of the dataframe except the name of the resort which we done't need in the dataframe for modeling, so it can be droppped here as well. Also, we want to hold out our response variable(s) so we can have their true values available for model performance review. Let's set `AdultWeekend` to the y variable as our response for scaling and modeling. Later we will go back and consider the `AdultWeekday`, `dayOpenLastYear`, and `projectedDaysOpen`. For now leave them in the development dataframe. </font>**"
   ]
  },
  {
   "cell_type": "code",
   "execution_count": 5,
   "metadata": {
    "ExecuteTime": {
     "end_time": "2020-07-30T20:36:00.451551Z",
     "start_time": "2020-07-30T20:36:00.392709Z"
    },
    "colab": {},
    "colab_type": "code",
    "id": "IZL-q-KtAYI6"
   },
   "outputs": [],
   "source": [
    "# first we import the preprocessing package from the sklearn library\n",
    "from sklearn import preprocessing\n",
    "\n",
    "# Declare an explanatory variable, called X,and assign it the result of \n",
    "# dropping 'Name' and 'AdultWeekend' from the df\n",
    "X = df.drop(columns=['Name','AdultWeekend']).values\n",
    "\n",
    "# Declare a response variable, called y, and assign it the AdultWeekend column of the df \n",
    "y = df.AdultWeekend\n",
    "\n",
    "# Here we use the StandardScaler() method of the preprocessing package, and \n",
    "# then call the fit() method with parameter X \n",
    "scaler = preprocessing.StandardScaler().fit(X)\n",
    "\n",
    "# Declare a variable called X_scaled, and assign it the result of calling \n",
    "# the transform() method with parameter X \n",
    "X_scaled=scaler.transform(X) "
   ]
  },
  {
   "cell_type": "markdown",
   "metadata": {
    "colab_type": "text",
    "id": "GAT8h4_mZyGK"
   },
   "source": [
    "## Split into training and testing datasets"
   ]
  },
  {
   "cell_type": "markdown",
   "metadata": {
    "colab_type": "text",
    "id": "6rdS8EGeAnrW"
   },
   "source": [
    "**<font color='teal'> Using sklearn model selection import train_test_split, and create a 75/25 split with the y = `AdultWeekend`. We will start by using the adult weekend ticket price as our response variable for modeling.</font>**"
   ]
  },
  {
   "cell_type": "code",
   "execution_count": 6,
   "metadata": {
    "ExecuteTime": {
     "end_time": "2020-07-30T20:36:00.499423Z",
     "start_time": "2020-07-30T20:36:00.453545Z"
    },
    "colab": {},
    "colab_type": "code",
    "id": "BSkPut0gguds",
    "run_control": {
     "marked": false
    }
   },
   "outputs": [],
   "source": [
    "## Import the train_test_split function from the sklearn.model_selection utility.  \n",
    "from sklearn.model_selection import train_test_split\n",
    "\n",
    "# Get the 1-dimensional flattened array of our response variable y by \n",
    "# calling the ravel() function on y\n",
    "y = y.ravel()\n",
    "\n",
    "# Call the train_test_split() function with the first two parameters set to X_scaled and y \n",
    "# Declare four variables, X_train, X_test, y_train and y_test separated by commas \n",
    "X_train, X_test, y_train, y_test = train_test_split(X_scaled, y, test_size=0.25, random_state=1)"
   ]
  },
  {
   "cell_type": "markdown",
   "metadata": {
    "colab_type": "text",
    "id": "UayqbwkWAnra"
   },
   "source": [
    "Here we start the actual modeling work. First let's fit a multiple linear regression model to predict the `AdultWeekend` price."
   ]
  },
  {
   "cell_type": "markdown",
   "metadata": {},
   "source": [
    "[[ I am assuming that the the above comment is about Step 5 since that's the modeling step and it starts with a guided linear regression exercise. ]]"
   ]
  },
  {
   "cell_type": "markdown",
   "metadata": {
    "colab_type": "text",
    "id": "83fkLldXFCNd"
   },
   "source": [
    "# Guided Capstone Step 5. Modeling\n"
   ]
  },
  {
   "cell_type": "markdown",
   "metadata": {
    "colab_type": "text",
    "id": "JbZXsVevfr9M"
   },
   "source": [
    "This is the fifth step in the Data Science Method. In the previous steps you cleaned and prepared the datasets. Now it's time to get into the most exciting part: modeling! In this exercise, you'll build three different models and compare each model's performance. In the end, you'll choose the best model for demonstrating insights to Big Mountain management.\n",
    "\n",
    "\n",
    "\n",
    "### **The Data Science Method**  \n",
    "\n",
    "\n",
    "1.   Problem Identification \n",
    "\n",
    "2.   Data Wrangling \n",
    "  \n",
    "3.   Exploratory Data Analysis \n",
    " \n",
    "4.   Pre-processing and Training Data Development\n",
    "\n",
    "5.   **Modeling**\n",
    "  * Fit Models with Training Data Set\n",
    "  * Review Model Outcomes — Iterate over additional models as needed.\n",
    "  * Identify the Final Model\n",
    "\n",
    "6.   Documentation\n",
    "  * Review the Results\n",
    "  * Present and share your findings - storytelling\n",
    "  * Finalize Code \n",
    "  * Finalize Documentation"
   ]
  },
  {
   "cell_type": "markdown",
   "metadata": {
    "colab_type": "text",
    "id": "D_wfsP_-Anra"
   },
   "source": [
    "## Fit Models with a Training Dataset"
   ]
  },
  {
   "cell_type": "markdown",
   "metadata": {
    "colab_type": "text",
    "id": "CoI8S5SwAnrc"
   },
   "source": [
    "**<font color='teal'> Using sklearn, fit the model on your training dataset.</font>**"
   ]
  },
  {
   "cell_type": "markdown",
   "metadata": {
    "colab_type": "text",
    "id": "P_GFr8sRAnrd"
   },
   "source": [
    "#### Model 1"
   ]
  },
  {
   "cell_type": "code",
   "execution_count": 7,
   "metadata": {
    "ExecuteTime": {
     "end_time": "2020-07-30T20:36:00.578214Z",
     "start_time": "2020-07-30T20:36:00.503413Z"
    },
    "colab": {},
    "colab_type": "code",
    "id": "fW6K7uOPAnre"
   },
   "outputs": [
    {
     "data": {
      "text/plain": [
       "0.9199635104875531"
      ]
     },
     "execution_count": 7,
     "metadata": {},
     "output_type": "execute_result"
    }
   ],
   "source": [
    "# all first model set\n",
    "from sklearn import linear_model\n",
    "from sklearn.metrics import explained_variance_score,mean_absolute_error\n",
    "lm = linear_model.LinearRegression()\n",
    "model = lm.fit(X_train,y_train)\n",
    "model.score(X_train, y_train)"
   ]
  },
  {
   "cell_type": "markdown",
   "metadata": {
    "colab_type": "text",
    "id": "1fHqz9-WAnrg"
   },
   "source": [
    "**<font color='teal'> Predict on the testing dataset and score the model performance with the y_test set and the y-pred values. The explained variance is a measure of the variation explained by the model. This is also known as the R-squared value. </font>**\n",
    "\n",
    "Hint: you will have to use the `predict()` method here as it's used in this [DSM article](https://medium.com/@aiden.dataminer/the-data-science-method-dsm-modeling-56b4233cad1b) about modeling. "
   ]
  },
  {
   "cell_type": "code",
   "execution_count": 8,
   "metadata": {
    "ExecuteTime": {
     "end_time": "2020-07-30T20:36:00.641045Z",
     "start_time": "2020-07-30T20:36:00.581205Z"
    },
    "colab": {},
    "colab_type": "code",
    "id": "nIo01lFEAnrh"
   },
   "outputs": [
    {
     "data": {
      "text/html": [
       "<div>\n",
       "<style scoped>\n",
       "    .dataframe tbody tr th:only-of-type {\n",
       "        vertical-align: middle;\n",
       "    }\n",
       "\n",
       "    .dataframe tbody tr th {\n",
       "        vertical-align: top;\n",
       "    }\n",
       "\n",
       "    .dataframe thead th {\n",
       "        text-align: right;\n",
       "    }\n",
       "</style>\n",
       "<table border=\"1\" class=\"dataframe\">\n",
       "  <thead>\n",
       "    <tr style=\"text-align: right;\">\n",
       "      <th></th>\n",
       "      <th>0</th>\n",
       "      <th>1</th>\n",
       "      <th>2</th>\n",
       "      <th>3</th>\n",
       "      <th>4</th>\n",
       "      <th>5</th>\n",
       "      <th>6</th>\n",
       "      <th>7</th>\n",
       "      <th>8</th>\n",
       "      <th>9</th>\n",
       "      <th>...</th>\n",
       "      <th>48</th>\n",
       "      <th>49</th>\n",
       "      <th>50</th>\n",
       "      <th>51</th>\n",
       "      <th>52</th>\n",
       "      <th>53</th>\n",
       "      <th>54</th>\n",
       "      <th>55</th>\n",
       "      <th>56</th>\n",
       "      <th>57</th>\n",
       "    </tr>\n",
       "  </thead>\n",
       "  <tbody>\n",
       "    <tr>\n",
       "      <th>0</th>\n",
       "      <td>-0.71321</td>\n",
       "      <td>-0.57908</td>\n",
       "      <td>0.00000</td>\n",
       "      <td>0.00000</td>\n",
       "      <td>0.00000</td>\n",
       "      <td>-0.40485</td>\n",
       "      <td>-0.76689</td>\n",
       "      <td>-0.16442</td>\n",
       "      <td>0.18042</td>\n",
       "      <td>0.50473</td>\n",
       "      <td>...</td>\n",
       "      <td>-0.07625</td>\n",
       "      <td>-0.07625</td>\n",
       "      <td>-0.07625</td>\n",
       "      <td>-0.13284</td>\n",
       "      <td>-0.22019</td>\n",
       "      <td>-0.10815</td>\n",
       "      <td>-0.13284</td>\n",
       "      <td>-0.13284</td>\n",
       "      <td>-0.26058</td>\n",
       "      <td>-0.17252</td>\n",
       "    </tr>\n",
       "    <tr>\n",
       "      <th>1</th>\n",
       "      <td>-0.60416</td>\n",
       "      <td>-0.63909</td>\n",
       "      <td>0.00000</td>\n",
       "      <td>0.00000</td>\n",
       "      <td>0.00000</td>\n",
       "      <td>-0.40485</td>\n",
       "      <td>-0.76689</td>\n",
       "      <td>-0.97714</td>\n",
       "      <td>0.85894</td>\n",
       "      <td>-0.18827</td>\n",
       "      <td>...</td>\n",
       "      <td>-0.07625</td>\n",
       "      <td>-0.07625</td>\n",
       "      <td>-0.07625</td>\n",
       "      <td>-0.13284</td>\n",
       "      <td>-0.22019</td>\n",
       "      <td>-0.10815</td>\n",
       "      <td>-0.13284</td>\n",
       "      <td>-0.13284</td>\n",
       "      <td>-0.26058</td>\n",
       "      <td>-0.17252</td>\n",
       "    </tr>\n",
       "    <tr>\n",
       "      <th>2</th>\n",
       "      <td>-0.86433</td>\n",
       "      <td>-0.83626</td>\n",
       "      <td>0.00000</td>\n",
       "      <td>0.00000</td>\n",
       "      <td>0.00000</td>\n",
       "      <td>-0.40485</td>\n",
       "      <td>-0.76689</td>\n",
       "      <td>1.46101</td>\n",
       "      <td>-1.17662</td>\n",
       "      <td>0.50473</td>\n",
       "      <td>...</td>\n",
       "      <td>-0.07625</td>\n",
       "      <td>-0.07625</td>\n",
       "      <td>-0.07625</td>\n",
       "      <td>-0.13284</td>\n",
       "      <td>-0.22019</td>\n",
       "      <td>-0.10815</td>\n",
       "      <td>-0.13284</td>\n",
       "      <td>-0.13284</td>\n",
       "      <td>-0.26058</td>\n",
       "      <td>-0.17252</td>\n",
       "    </tr>\n",
       "    <tr>\n",
       "      <th>3</th>\n",
       "      <td>-0.87991</td>\n",
       "      <td>-0.75054</td>\n",
       "      <td>0.00000</td>\n",
       "      <td>0.00000</td>\n",
       "      <td>0.00000</td>\n",
       "      <td>-0.40485</td>\n",
       "      <td>2.08628</td>\n",
       "      <td>1.46101</td>\n",
       "      <td>-1.17662</td>\n",
       "      <td>2.58372</td>\n",
       "      <td>...</td>\n",
       "      <td>-0.07625</td>\n",
       "      <td>-0.07625</td>\n",
       "      <td>-0.07625</td>\n",
       "      <td>-0.13284</td>\n",
       "      <td>-0.22019</td>\n",
       "      <td>-0.10815</td>\n",
       "      <td>-0.13284</td>\n",
       "      <td>-0.13284</td>\n",
       "      <td>-0.26058</td>\n",
       "      <td>-0.17252</td>\n",
       "    </tr>\n",
       "    <tr>\n",
       "      <th>4</th>\n",
       "      <td>-0.63064</td>\n",
       "      <td>-0.32189</td>\n",
       "      <td>0.00000</td>\n",
       "      <td>0.00000</td>\n",
       "      <td>0.00000</td>\n",
       "      <td>-0.40485</td>\n",
       "      <td>-0.76689</td>\n",
       "      <td>3.08645</td>\n",
       "      <td>-1.17662</td>\n",
       "      <td>0.50473</td>\n",
       "      <td>...</td>\n",
       "      <td>-0.07625</td>\n",
       "      <td>-0.07625</td>\n",
       "      <td>-0.07625</td>\n",
       "      <td>-0.13284</td>\n",
       "      <td>-0.22019</td>\n",
       "      <td>-0.10815</td>\n",
       "      <td>-0.13284</td>\n",
       "      <td>-0.13284</td>\n",
       "      <td>-0.26058</td>\n",
       "      <td>-0.17252</td>\n",
       "    </tr>\n",
       "    <tr>\n",
       "      <th>...</th>\n",
       "      <td>...</td>\n",
       "      <td>...</td>\n",
       "      <td>...</td>\n",
       "      <td>...</td>\n",
       "      <td>...</td>\n",
       "      <td>...</td>\n",
       "      <td>...</td>\n",
       "      <td>...</td>\n",
       "      <td>...</td>\n",
       "      <td>...</td>\n",
       "      <td>...</td>\n",
       "      <td>...</td>\n",
       "      <td>...</td>\n",
       "      <td>...</td>\n",
       "      <td>...</td>\n",
       "      <td>...</td>\n",
       "      <td>...</td>\n",
       "      <td>...</td>\n",
       "      <td>...</td>\n",
       "      <td>...</td>\n",
       "      <td>...</td>\n",
       "    </tr>\n",
       "    <tr>\n",
       "      <th>124</th>\n",
       "      <td>-0.96467</td>\n",
       "      <td>-0.66481</td>\n",
       "      <td>0.00000</td>\n",
       "      <td>0.00000</td>\n",
       "      <td>0.00000</td>\n",
       "      <td>-0.40485</td>\n",
       "      <td>-0.76689</td>\n",
       "      <td>-0.16442</td>\n",
       "      <td>0.85894</td>\n",
       "      <td>-0.18827</td>\n",
       "      <td>...</td>\n",
       "      <td>-0.07625</td>\n",
       "      <td>-0.07625</td>\n",
       "      <td>-0.07625</td>\n",
       "      <td>-0.13284</td>\n",
       "      <td>-0.22019</td>\n",
       "      <td>-0.10815</td>\n",
       "      <td>-0.13284</td>\n",
       "      <td>-0.13284</td>\n",
       "      <td>-0.26058</td>\n",
       "      <td>-0.17252</td>\n",
       "    </tr>\n",
       "    <tr>\n",
       "      <th>125</th>\n",
       "      <td>-0.10094</td>\n",
       "      <td>-0.40762</td>\n",
       "      <td>0.00000</td>\n",
       "      <td>0.00000</td>\n",
       "      <td>0.00000</td>\n",
       "      <td>-0.40485</td>\n",
       "      <td>2.08628</td>\n",
       "      <td>-0.97714</td>\n",
       "      <td>-0.49810</td>\n",
       "      <td>-0.88127</td>\n",
       "      <td>...</td>\n",
       "      <td>-0.07625</td>\n",
       "      <td>-0.07625</td>\n",
       "      <td>13.11488</td>\n",
       "      <td>-0.13284</td>\n",
       "      <td>-0.22019</td>\n",
       "      <td>-0.10815</td>\n",
       "      <td>-0.13284</td>\n",
       "      <td>-0.13284</td>\n",
       "      <td>-0.26058</td>\n",
       "      <td>-0.17252</td>\n",
       "    </tr>\n",
       "    <tr>\n",
       "      <th>126</th>\n",
       "      <td>1.52555</td>\n",
       "      <td>2.02707</td>\n",
       "      <td>0.00000</td>\n",
       "      <td>0.00000</td>\n",
       "      <td>0.00000</td>\n",
       "      <td>-0.40485</td>\n",
       "      <td>-0.76689</td>\n",
       "      <td>-0.97714</td>\n",
       "      <td>-0.49810</td>\n",
       "      <td>-0.88127</td>\n",
       "      <td>...</td>\n",
       "      <td>-0.07625</td>\n",
       "      <td>-0.07625</td>\n",
       "      <td>-0.07625</td>\n",
       "      <td>-0.13284</td>\n",
       "      <td>-0.22019</td>\n",
       "      <td>-0.10815</td>\n",
       "      <td>-0.13284</td>\n",
       "      <td>-0.13284</td>\n",
       "      <td>-0.26058</td>\n",
       "      <td>-0.17252</td>\n",
       "    </tr>\n",
       "    <tr>\n",
       "      <th>127</th>\n",
       "      <td>0.86498</td>\n",
       "      <td>0.20962</td>\n",
       "      <td>0.00000</td>\n",
       "      <td>0.00000</td>\n",
       "      <td>0.00000</td>\n",
       "      <td>-0.40485</td>\n",
       "      <td>-0.76689</td>\n",
       "      <td>-0.97714</td>\n",
       "      <td>0.18042</td>\n",
       "      <td>-0.18827</td>\n",
       "      <td>...</td>\n",
       "      <td>-0.07625</td>\n",
       "      <td>-0.07625</td>\n",
       "      <td>-0.07625</td>\n",
       "      <td>7.52773</td>\n",
       "      <td>-0.22019</td>\n",
       "      <td>-0.10815</td>\n",
       "      <td>-0.13284</td>\n",
       "      <td>-0.13284</td>\n",
       "      <td>-0.26058</td>\n",
       "      <td>-0.17252</td>\n",
       "    </tr>\n",
       "    <tr>\n",
       "      <th>128</th>\n",
       "      <td>-0.79267</td>\n",
       "      <td>0.02102</td>\n",
       "      <td>0.00000</td>\n",
       "      <td>0.00000</td>\n",
       "      <td>0.00000</td>\n",
       "      <td>-0.40485</td>\n",
       "      <td>-0.76689</td>\n",
       "      <td>-0.16442</td>\n",
       "      <td>-0.49810</td>\n",
       "      <td>-0.88127</td>\n",
       "      <td>...</td>\n",
       "      <td>-0.07625</td>\n",
       "      <td>-0.07625</td>\n",
       "      <td>-0.07625</td>\n",
       "      <td>-0.13284</td>\n",
       "      <td>-0.22019</td>\n",
       "      <td>-0.10815</td>\n",
       "      <td>-0.13284</td>\n",
       "      <td>-0.13284</td>\n",
       "      <td>-0.26058</td>\n",
       "      <td>-0.17252</td>\n",
       "    </tr>\n",
       "  </tbody>\n",
       "</table>\n",
       "<p>129 rows × 58 columns</p>\n",
       "</div>"
      ],
      "text/plain": [
       "          0        1       2       3       4        5        6        7   \\\n",
       "0   -0.71321 -0.57908 0.00000 0.00000 0.00000 -0.40485 -0.76689 -0.16442   \n",
       "1   -0.60416 -0.63909 0.00000 0.00000 0.00000 -0.40485 -0.76689 -0.97714   \n",
       "2   -0.86433 -0.83626 0.00000 0.00000 0.00000 -0.40485 -0.76689  1.46101   \n",
       "3   -0.87991 -0.75054 0.00000 0.00000 0.00000 -0.40485  2.08628  1.46101   \n",
       "4   -0.63064 -0.32189 0.00000 0.00000 0.00000 -0.40485 -0.76689  3.08645   \n",
       "..       ...      ...     ...     ...     ...      ...      ...      ...   \n",
       "124 -0.96467 -0.66481 0.00000 0.00000 0.00000 -0.40485 -0.76689 -0.16442   \n",
       "125 -0.10094 -0.40762 0.00000 0.00000 0.00000 -0.40485  2.08628 -0.97714   \n",
       "126  1.52555  2.02707 0.00000 0.00000 0.00000 -0.40485 -0.76689 -0.97714   \n",
       "127  0.86498  0.20962 0.00000 0.00000 0.00000 -0.40485 -0.76689 -0.97714   \n",
       "128 -0.79267  0.02102 0.00000 0.00000 0.00000 -0.40485 -0.76689 -0.16442   \n",
       "\n",
       "          8        9   ...       48       49       50       51       52  \\\n",
       "0    0.18042  0.50473  ... -0.07625 -0.07625 -0.07625 -0.13284 -0.22019   \n",
       "1    0.85894 -0.18827  ... -0.07625 -0.07625 -0.07625 -0.13284 -0.22019   \n",
       "2   -1.17662  0.50473  ... -0.07625 -0.07625 -0.07625 -0.13284 -0.22019   \n",
       "3   -1.17662  2.58372  ... -0.07625 -0.07625 -0.07625 -0.13284 -0.22019   \n",
       "4   -1.17662  0.50473  ... -0.07625 -0.07625 -0.07625 -0.13284 -0.22019   \n",
       "..       ...      ...  ...      ...      ...      ...      ...      ...   \n",
       "124  0.85894 -0.18827  ... -0.07625 -0.07625 -0.07625 -0.13284 -0.22019   \n",
       "125 -0.49810 -0.88127  ... -0.07625 -0.07625 13.11488 -0.13284 -0.22019   \n",
       "126 -0.49810 -0.88127  ... -0.07625 -0.07625 -0.07625 -0.13284 -0.22019   \n",
       "127  0.18042 -0.18827  ... -0.07625 -0.07625 -0.07625  7.52773 -0.22019   \n",
       "128 -0.49810 -0.88127  ... -0.07625 -0.07625 -0.07625 -0.13284 -0.22019   \n",
       "\n",
       "          53       54       55       56       57  \n",
       "0   -0.10815 -0.13284 -0.13284 -0.26058 -0.17252  \n",
       "1   -0.10815 -0.13284 -0.13284 -0.26058 -0.17252  \n",
       "2   -0.10815 -0.13284 -0.13284 -0.26058 -0.17252  \n",
       "3   -0.10815 -0.13284 -0.13284 -0.26058 -0.17252  \n",
       "4   -0.10815 -0.13284 -0.13284 -0.26058 -0.17252  \n",
       "..       ...      ...      ...      ...      ...  \n",
       "124 -0.10815 -0.13284 -0.13284 -0.26058 -0.17252  \n",
       "125 -0.10815 -0.13284 -0.13284 -0.26058 -0.17252  \n",
       "126 -0.10815 -0.13284 -0.13284 -0.26058 -0.17252  \n",
       "127 -0.10815 -0.13284 -0.13284 -0.26058 -0.17252  \n",
       "128 -0.10815 -0.13284 -0.13284 -0.26058 -0.17252  \n",
       "\n",
       "[129 rows x 58 columns]"
      ]
     },
     "metadata": {},
     "output_type": "display_data"
    },
    {
     "data": {
      "text/html": [
       "<div>\n",
       "<style scoped>\n",
       "    .dataframe tbody tr th:only-of-type {\n",
       "        vertical-align: middle;\n",
       "    }\n",
       "\n",
       "    .dataframe tbody tr th {\n",
       "        vertical-align: top;\n",
       "    }\n",
       "\n",
       "    .dataframe thead th {\n",
       "        text-align: right;\n",
       "    }\n",
       "</style>\n",
       "<table border=\"1\" class=\"dataframe\">\n",
       "  <thead>\n",
       "    <tr style=\"text-align: right;\">\n",
       "      <th></th>\n",
       "      <th>0</th>\n",
       "    </tr>\n",
       "  </thead>\n",
       "  <tbody>\n",
       "    <tr>\n",
       "      <th>0</th>\n",
       "      <td>71.28113</td>\n",
       "    </tr>\n",
       "    <tr>\n",
       "      <th>1</th>\n",
       "      <td>64.70886</td>\n",
       "    </tr>\n",
       "    <tr>\n",
       "      <th>2</th>\n",
       "      <td>63.66785</td>\n",
       "    </tr>\n",
       "    <tr>\n",
       "      <th>3</th>\n",
       "      <td>62.75769</td>\n",
       "    </tr>\n",
       "    <tr>\n",
       "      <th>4</th>\n",
       "      <td>53.27136</td>\n",
       "    </tr>\n",
       "    <tr>\n",
       "      <th>5</th>\n",
       "      <td>14756593843587.55859</td>\n",
       "    </tr>\n",
       "    <tr>\n",
       "      <th>6</th>\n",
       "      <td>76.07117</td>\n",
       "    </tr>\n",
       "    <tr>\n",
       "      <th>7</th>\n",
       "      <td>79.52722</td>\n",
       "    </tr>\n",
       "    <tr>\n",
       "      <th>8</th>\n",
       "      <td>48.23816</td>\n",
       "    </tr>\n",
       "    <tr>\n",
       "      <th>9</th>\n",
       "      <td>56.53894</td>\n",
       "    </tr>\n",
       "    <tr>\n",
       "      <th>10</th>\n",
       "      <td>85.17175</td>\n",
       "    </tr>\n",
       "    <tr>\n",
       "      <th>11</th>\n",
       "      <td>85.81628</td>\n",
       "    </tr>\n",
       "    <tr>\n",
       "      <th>12</th>\n",
       "      <td>63.40417</td>\n",
       "    </tr>\n",
       "    <tr>\n",
       "      <th>13</th>\n",
       "      <td>14761858398611.72266</td>\n",
       "    </tr>\n",
       "    <tr>\n",
       "      <th>14</th>\n",
       "      <td>33.97937</td>\n",
       "    </tr>\n",
       "    <tr>\n",
       "      <th>15</th>\n",
       "      <td>62.95300</td>\n",
       "    </tr>\n",
       "    <tr>\n",
       "      <th>16</th>\n",
       "      <td>45.79187</td>\n",
       "    </tr>\n",
       "    <tr>\n",
       "      <th>17</th>\n",
       "      <td>46.38367</td>\n",
       "    </tr>\n",
       "    <tr>\n",
       "      <th>18</th>\n",
       "      <td>52.43835</td>\n",
       "    </tr>\n",
       "    <tr>\n",
       "      <th>19</th>\n",
       "      <td>35.58875</td>\n",
       "    </tr>\n",
       "    <tr>\n",
       "      <th>20</th>\n",
       "      <td>57.97839</td>\n",
       "    </tr>\n",
       "    <tr>\n",
       "      <th>21</th>\n",
       "      <td>14756621535295.88086</td>\n",
       "    </tr>\n",
       "    <tr>\n",
       "      <th>22</th>\n",
       "      <td>60.19519</td>\n",
       "    </tr>\n",
       "    <tr>\n",
       "      <th>23</th>\n",
       "      <td>51.28796</td>\n",
       "    </tr>\n",
       "    <tr>\n",
       "      <th>24</th>\n",
       "      <td>47.91101</td>\n",
       "    </tr>\n",
       "    <tr>\n",
       "      <th>25</th>\n",
       "      <td>47.84558</td>\n",
       "    </tr>\n",
       "    <tr>\n",
       "      <th>26</th>\n",
       "      <td>53.57605</td>\n",
       "    </tr>\n",
       "    <tr>\n",
       "      <th>27</th>\n",
       "      <td>51.68152</td>\n",
       "    </tr>\n",
       "    <tr>\n",
       "      <th>28</th>\n",
       "      <td>81.28601</td>\n",
       "    </tr>\n",
       "    <tr>\n",
       "      <th>29</th>\n",
       "      <td>41.25867</td>\n",
       "    </tr>\n",
       "    <tr>\n",
       "      <th>30</th>\n",
       "      <td>46.13953</td>\n",
       "    </tr>\n",
       "    <tr>\n",
       "      <th>31</th>\n",
       "      <td>73.73035</td>\n",
       "    </tr>\n",
       "    <tr>\n",
       "      <th>32</th>\n",
       "      <td>90.76941</td>\n",
       "    </tr>\n",
       "    <tr>\n",
       "      <th>33</th>\n",
       "      <td>75.53894</td>\n",
       "    </tr>\n",
       "    <tr>\n",
       "      <th>34</th>\n",
       "      <td>54.95300</td>\n",
       "    </tr>\n",
       "    <tr>\n",
       "      <th>35</th>\n",
       "      <td>54.39246</td>\n",
       "    </tr>\n",
       "    <tr>\n",
       "      <th>36</th>\n",
       "      <td>32.10925</td>\n",
       "    </tr>\n",
       "    <tr>\n",
       "      <th>37</th>\n",
       "      <td>72.90710</td>\n",
       "    </tr>\n",
       "    <tr>\n",
       "      <th>38</th>\n",
       "      <td>43.90027</td>\n",
       "    </tr>\n",
       "    <tr>\n",
       "      <th>39</th>\n",
       "      <td>37.84363</td>\n",
       "    </tr>\n",
       "    <tr>\n",
       "      <th>40</th>\n",
       "      <td>34.14929</td>\n",
       "    </tr>\n",
       "    <tr>\n",
       "      <th>41</th>\n",
       "      <td>43.63660</td>\n",
       "    </tr>\n",
       "    <tr>\n",
       "      <th>42</th>\n",
       "      <td>43.40808</td>\n",
       "    </tr>\n",
       "    <tr>\n",
       "      <th>43</th>\n",
       "      <td>50.34753</td>\n",
       "    </tr>\n",
       "  </tbody>\n",
       "</table>\n",
       "</div>"
      ],
      "text/plain": [
       "                      0\n",
       "0              71.28113\n",
       "1              64.70886\n",
       "2              63.66785\n",
       "3              62.75769\n",
       "4              53.27136\n",
       "5  14756593843587.55859\n",
       "6              76.07117\n",
       "7              79.52722\n",
       "8              48.23816\n",
       "9              56.53894\n",
       "10             85.17175\n",
       "11             85.81628\n",
       "12             63.40417\n",
       "13 14761858398611.72266\n",
       "14             33.97937\n",
       "15             62.95300\n",
       "16             45.79187\n",
       "17             46.38367\n",
       "18             52.43835\n",
       "19             35.58875\n",
       "20             57.97839\n",
       "21 14756621535295.88086\n",
       "22             60.19519\n",
       "23             51.28796\n",
       "24             47.91101\n",
       "25             47.84558\n",
       "26             53.57605\n",
       "27             51.68152\n",
       "28             81.28601\n",
       "29             41.25867\n",
       "30             46.13953\n",
       "31             73.73035\n",
       "32             90.76941\n",
       "33             75.53894\n",
       "34             54.95300\n",
       "35             54.39246\n",
       "36             32.10925\n",
       "37             72.90710\n",
       "38             43.90027\n",
       "39             37.84363\n",
       "40             34.14929\n",
       "41             43.63660\n",
       "42             43.40808\n",
       "43             50.34753"
      ]
     },
     "metadata": {},
     "output_type": "display_data"
    }
   ],
   "source": [
    "# Make a variable called y_pred and assign it the result of calling \n",
    "# predict() on our model variable with parameter X_test\n",
    "\n",
    "y_pred = model.predict(X_test)\n",
    "# display(pd.DataFrame(y_test))\n",
    "display(pd.DataFrame(X_train))\n",
    "display(pd.DataFrame(y_pred))"
   ]
  },
  {
   "cell_type": "markdown",
   "metadata": {
    "colab_type": "text",
    "id": "N4YS0WE2Anrk"
   },
   "source": [
    "## Review Model Outcomes — Iterate over additional models as needed"
   ]
  },
  {
   "cell_type": "code",
   "execution_count": 9,
   "metadata": {
    "ExecuteTime": {
     "end_time": "2020-07-30T20:36:00.657004Z",
     "start_time": "2020-07-30T20:36:00.644038Z"
    },
    "colab": {},
    "colab_type": "code",
    "id": "HSh9sGIYAnrk"
   },
   "outputs": [
    {
     "data": {
      "text/plain": [
       "-4.776811242857209e+22"
      ]
     },
     "execution_count": 9,
     "metadata": {},
     "output_type": "execute_result"
    }
   ],
   "source": [
    "# You might want to use the explained_variance_score() and mean_absolute_error() metrics.\n",
    "# To do so, you will need to import them from sklearn.metrics. \n",
    "# You can plug y_test and y_pred into the functions to evaluate the model\n",
    "explained_variance_score(y_test, y_pred)"
   ]
  },
  {
   "cell_type": "code",
   "execution_count": 10,
   "metadata": {
    "ExecuteTime": {
     "end_time": "2020-07-30T20:36:00.688917Z",
     "start_time": "2020-07-30T20:36:00.659995Z"
    },
    "colab": {},
    "colab_type": "code",
    "id": "ihzeo8tqAnro"
   },
   "outputs": [
    {
     "data": {
      "text/plain": [
       "1006251676761.9031"
      ]
     },
     "execution_count": 10,
     "metadata": {},
     "output_type": "execute_result"
    }
   ],
   "source": [
    "mean_absolute_error(y_test, y_pred)"
   ]
  },
  {
   "cell_type": "markdown",
   "metadata": {
    "colab_type": "text",
    "id": "NWJcOuSdAnrr"
   },
   "source": [
    "**<font color='teal'> Print the intercept value from the linear model. </font>**\n",
    "\n",
    "Hint: our linear regression model `lm` has an attribute `intercept_` for the intercept"
   ]
  },
  {
   "cell_type": "code",
   "execution_count": 11,
   "metadata": {
    "ExecuteTime": {
     "end_time": "2020-07-30T20:36:00.703877Z",
     "start_time": "2020-07-30T20:36:00.692908Z"
    },
    "colab": {},
    "colab_type": "code",
    "id": "3WzWejn6Anrt"
   },
   "outputs": [
    {
     "data": {
      "text/plain": [
       "255925282007.18933"
      ]
     },
     "execution_count": 11,
     "metadata": {},
     "output_type": "execute_result"
    }
   ],
   "source": [
    "lm.intercept_"
   ]
  },
  {
   "cell_type": "markdown",
   "metadata": {
    "colab_type": "text",
    "id": "edajrenAAnrv"
   },
   "source": [
    "**<font color='teal'> The intercept is the mean `AdultWeekend` price for all the resorts given the other characteristics. The addition or subtraction of each of the coefficient values in the regression are numeric adjustments applied to the intercept to provide a particular observation's value for the resulting `AdultWeekend` value. Also, because we took the time to scale our x values in the training data, we can compare each of the coeeficients for the features to determine the feature importances. Print the coefficient values from the linear model and sort in descending order to identify the top ten most important features.</font>** \n",
    "\n",
    "\n",
    "Hint: make sure to review the absolute value of the coefficients, because the adjustment may be positive or negative, but what we are looking for is the magnitude of impact on our response variable."
   ]
  },
  {
   "cell_type": "code",
   "execution_count": 12,
   "metadata": {
    "ExecuteTime": {
     "end_time": "2020-07-30T20:36:00.734794Z",
     "start_time": "2020-07-30T20:36:00.706869Z"
    },
    "colab": {},
    "colab_type": "code",
    "id": "FEKc_lmZAnrw"
   },
   "outputs": [],
   "source": [
    "# You might want to make a pandas DataFrame displaying the coefficients for each state like so: \n",
    "# pd.DataFrame(abs(lm.coef_), X.columns, columns=['Coefficient'])\n"
   ]
  },
  {
   "cell_type": "markdown",
   "metadata": {
    "colab_type": "text",
    "id": "BpdALMoAAnry"
   },
   "source": [
    "**<font color='teal'>You should see that the top ten important features are different states. However, the state is not something the managers at the Big Mountain Resort can do anything about. Given that we care more about actionable traits associated with ticket pricing, rebuild the model without the state features and compare the results. </font>**\n",
    "\n",
    "Hint: Try to construct another model using exactly the steps we followed above. "
   ]
  },
  {
   "cell_type": "markdown",
   "metadata": {
    "colab_type": "text",
    "id": "-mHYA1BzAnrz"
   },
   "source": [
    "#### Model 2"
   ]
  },
  {
   "cell_type": "code",
   "execution_count": null,
   "metadata": {
    "colab": {},
    "colab_type": "code",
    "id": "Pz1YXAdiAnr0"
   },
   "outputs": [],
   "source": []
  },
  {
   "cell_type": "code",
   "execution_count": null,
   "metadata": {
    "colab": {},
    "colab_type": "code",
    "id": "nM1EGf16Anr2"
   },
   "outputs": [],
   "source": []
  },
  {
   "cell_type": "markdown",
   "metadata": {
    "colab_type": "text",
    "id": "JWjQLr3LAnr6"
   },
   "source": [
    "**<font color='teal'> When reviewing our new model coefficients, we see `summit_elev` is now in the number two spot. This is also difficult to change from a management prespective and highly correlated with `base_elev` and `vertical_drop`.  This time, rebuild the model without the state features and without the `summit_elev` and without `base_elev`and compare the results. </font>**"
   ]
  },
  {
   "cell_type": "markdown",
   "metadata": {
    "colab_type": "text",
    "id": "RXqvcn93Anr7"
   },
   "source": [
    "#### Model 3"
   ]
  },
  {
   "cell_type": "code",
   "execution_count": null,
   "metadata": {
    "colab": {},
    "colab_type": "code",
    "id": "6eugnDNNAnr8"
   },
   "outputs": [],
   "source": []
  },
  {
   "cell_type": "code",
   "execution_count": null,
   "metadata": {
    "colab": {},
    "colab_type": "code",
    "id": "pq0pW7G9Anr_"
   },
   "outputs": [],
   "source": []
  },
  {
   "cell_type": "code",
   "execution_count": null,
   "metadata": {
    "colab": {},
    "colab_type": "code",
    "id": "reXlf0HAAnsG"
   },
   "outputs": [],
   "source": []
  },
  {
   "cell_type": "markdown",
   "metadata": {
    "colab_type": "text",
    "id": "MJvQMns6AnsI"
   },
   "source": [
    "## Identify the Final Model"
   ]
  },
  {
   "cell_type": "markdown",
   "metadata": {
    "colab_type": "text",
    "id": "LD7-3iLcAnsK"
   },
   "source": [
    "**<font color='teal'> Review the model performances in the table below and choose the best model for proving insights to Big Mountain management about what features are driving ski resort lift ticket prices. Type your choice in the final markdown cell — you will discuss this selection more in the next step of the guided casptone. </font>**"
   ]
  },
  {
   "cell_type": "markdown",
   "metadata": {
    "colab_type": "text",
    "id": "La5S9fRPAnsK"
   },
   "source": [
    "| Model | Explained Variance| Mean Absolute Error|Features Dropped|\n",
    "| --- | --- | --- | --- |\n",
    "| Model 1. | 0. |  |-|\n",
    "| Model 2. | 0.| |'state'|\n",
    "| Model 3. | 0. | |'state','summit_elev','base_elev'|"
   ]
  },
  {
   "cell_type": "markdown",
   "metadata": {
    "colab_type": "text",
    "id": "T2c-zn7TAnsL"
   },
   "source": [
    "Model Selection:"
   ]
  },
  {
   "cell_type": "code",
   "execution_count": null,
   "metadata": {
    "colab": {},
    "colab_type": "code",
    "id": "CgC0eMBrAnsM"
   },
   "outputs": [],
   "source": []
  }
 ],
 "metadata": {
  "colab": {
   "collapsed_sections": [
    "RtEspslPZyGY",
    "s0DokMkAZyGc",
    "2iuitnKcZyHS",
    "iAWQxougZyHW",
    "ThMTimlBZyHZ",
    "QwZ-LkjXZyHt",
    "srtXEA3N4-Y9",
    "ChVreJupZyIA",
    "zDgSSsq1ZyID",
    "I3GYKWfi5Llg",
    "pmMvrhbI-viE",
    "ZXDPkW3UZyIX",
    "Dnc_vHQLZyId",
    "daJxuJ-dZyIg",
    "mAQ-oHiPZyIn",
    "hnGOsp3mZyIp"
   ],
   "name": "GuidedCapstoneStep5.ipynb",
   "provenance": []
  },
  "kernelspec": {
   "display_name": "Python 3",
   "language": "python",
   "name": "python3"
  },
  "language_info": {
   "codemirror_mode": {
    "name": "ipython",
    "version": 3
   },
   "file_extension": ".py",
   "mimetype": "text/x-python",
   "name": "python",
   "nbconvert_exporter": "python",
   "pygments_lexer": "ipython3",
   "version": "3.6.10"
  },
  "toc": {
   "base_numbering": "0",
   "nav_menu": {},
   "number_sections": true,
   "sideBar": true,
   "skip_h1_title": false,
   "title_cell": "Table of Contents",
   "title_sidebar": "Contents",
   "toc_cell": true,
   "toc_position": {
    "height": "calc(100% - 180px)",
    "left": "10px",
    "top": "150px",
    "width": "288px"
   },
   "toc_section_display": true,
   "toc_window_display": true
  },
  "varInspector": {
   "cols": {
    "lenName": 16,
    "lenType": 16,
    "lenVar": 40
   },
   "kernels_config": {
    "python": {
     "delete_cmd_postfix": "",
     "delete_cmd_prefix": "del ",
     "library": "var_list.py",
     "varRefreshCmd": "print(var_dic_list())"
    },
    "r": {
     "delete_cmd_postfix": ") ",
     "delete_cmd_prefix": "rm(",
     "library": "var_list.r",
     "varRefreshCmd": "cat(var_dic_list()) "
    }
   },
   "oldHeight": 596.281,
   "position": {
    "height": "829px",
    "left": "1446px",
    "right": "20px",
    "top": "59px",
    "width": "458px"
   },
   "types_to_exclude": [
    "module",
    "function",
    "builtin_function_or_method",
    "instance",
    "_Feature"
   ],
   "varInspector_section_display": "block",
   "window_display": false
  }
 },
 "nbformat": 4,
 "nbformat_minor": 1
}
