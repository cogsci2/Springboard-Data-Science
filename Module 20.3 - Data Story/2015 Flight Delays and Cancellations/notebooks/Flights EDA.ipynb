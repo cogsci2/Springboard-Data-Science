{
 "cells": [
  {
   "cell_type": "code",
   "execution_count": 16,
   "id": "simplified-brisbane",
   "metadata": {
    "execution": {
     "iopub.execute_input": "2021-04-10T08:18:41.570873Z",
     "iopub.status.busy": "2021-04-10T08:18:41.570599Z",
     "iopub.status.idle": "2021-04-10T08:18:41.573517Z",
     "shell.execute_reply": "2021-04-10T08:18:41.572969Z",
     "shell.execute_reply.started": "2021-04-10T08:18:41.570847Z"
    }
   },
   "outputs": [],
   "source": [
    "import pyforest\n",
    "# import lux\n",
    "from pandas_profiling import ProfileReport"
   ]
  },
  {
   "cell_type": "code",
   "execution_count": 17,
   "id": "recorded-channels",
   "metadata": {
    "execution": {
     "iopub.execute_input": "2021-04-10T08:18:41.583928Z",
     "iopub.status.busy": "2021-04-10T08:18:41.583678Z",
     "iopub.status.idle": "2021-04-10T08:18:41.593285Z",
     "shell.execute_reply": "2021-04-10T08:18:41.592746Z",
     "shell.execute_reply.started": "2021-04-10T08:18:41.583906Z"
    }
   },
   "outputs": [
    {
     "data": {
      "application/javascript": [
       "\n",
       "        if (window._pyforest_update_imports_cell) { window._pyforest_update_imports_cell('import pandas as pd\\nimport matplotlib.pyplot as plt'); }\n",
       "    "
      ],
      "text/plain": [
       "<IPython.core.display.Javascript object>"
      ]
     },
     "metadata": {},
     "output_type": "display_data"
    },
    {
     "data": {
      "application/javascript": [
       "\n",
       "        if (window._pyforest_update_imports_cell) { window._pyforest_update_imports_cell('import pandas as pd\\nimport matplotlib.pyplot as plt'); }\n",
       "    "
      ],
      "text/plain": [
       "<IPython.core.display.Javascript object>"
      ]
     },
     "metadata": {},
     "output_type": "display_data"
    },
    {
     "data": {
      "application/javascript": [
       "\n",
       "        if (window._pyforest_update_imports_cell) { window._pyforest_update_imports_cell('import pandas as pd\\nimport matplotlib.pyplot as plt'); }\n",
       "    "
      ],
      "text/plain": [
       "<IPython.core.display.Javascript object>"
      ]
     },
     "metadata": {},
     "output_type": "display_data"
    },
    {
     "data": {
      "text/html": [
       "<style>.container { width:100% !important; }</style>"
      ],
      "text/plain": [
       "<IPython.core.display.HTML object>"
      ]
     },
     "metadata": {},
     "output_type": "display_data"
    }
   ],
   "source": [
    "%matplotlib inline\n",
    "# set sensible default parameters for matplotlib\n",
    "plt.rcParams['figure.figsize'] = [9, 5]\n",
    "plt.rcParams['figure.dpi'] = 120\n",
    "plt.style.use('dark_background')\n",
    "\n",
    "from IPython.core.display import display, HTML\n",
    "display(HTML(\"<style>.container { width:100% !important; }</style>\"))"
   ]
  },
  {
   "cell_type": "code",
   "execution_count": 18,
   "id": "acceptable-custom",
   "metadata": {
    "execution": {
     "iopub.execute_input": "2021-04-10T08:18:41.602285Z",
     "iopub.status.busy": "2021-04-10T08:18:41.602024Z",
     "iopub.status.idle": "2021-04-10T08:18:54.391977Z",
     "shell.execute_reply": "2021-04-10T08:18:54.391505Z",
     "shell.execute_reply.started": "2021-04-10T08:18:41.602259Z"
    }
   },
   "outputs": [
    {
     "data": {
      "application/javascript": [
       "\n",
       "        if (window._pyforest_update_imports_cell) { window._pyforest_update_imports_cell('import pandas as pd\\nimport matplotlib.pyplot as plt'); }\n",
       "    "
      ],
      "text/plain": [
       "<IPython.core.display.Javascript object>"
      ]
     },
     "metadata": {},
     "output_type": "display_data"
    },
    {
     "data": {
      "text/html": [
       "<div>\n",
       "<style scoped>\n",
       "    .dataframe tbody tr th:only-of-type {\n",
       "        vertical-align: middle;\n",
       "    }\n",
       "\n",
       "    .dataframe tbody tr th {\n",
       "        vertical-align: top;\n",
       "    }\n",
       "\n",
       "    .dataframe thead th {\n",
       "        text-align: right;\n",
       "    }\n",
       "</style>\n",
       "<table border=\"1\" class=\"dataframe\">\n",
       "  <thead>\n",
       "    <tr style=\"text-align: right;\">\n",
       "      <th></th>\n",
       "      <th>YEAR</th>\n",
       "      <th>MONTH</th>\n",
       "      <th>DAY</th>\n",
       "      <th>DAY_OF_WEEK</th>\n",
       "      <th>AIRLINE</th>\n",
       "      <th>FLIGHT_NUMBER</th>\n",
       "      <th>TAIL_NUMBER</th>\n",
       "      <th>ORIGIN_AIRPORT</th>\n",
       "      <th>DESTINATION_AIRPORT</th>\n",
       "      <th>SCHEDULED_DEPARTURE</th>\n",
       "      <th>...</th>\n",
       "      <th>ARRIVAL_TIME</th>\n",
       "      <th>ARRIVAL_DELAY</th>\n",
       "      <th>DIVERTED</th>\n",
       "      <th>CANCELLED</th>\n",
       "      <th>CANCELLATION_REASON</th>\n",
       "      <th>AIR_SYSTEM_DELAY</th>\n",
       "      <th>SECURITY_DELAY</th>\n",
       "      <th>AIRLINE_DELAY</th>\n",
       "      <th>LATE_AIRCRAFT_DELAY</th>\n",
       "      <th>WEATHER_DELAY</th>\n",
       "    </tr>\n",
       "  </thead>\n",
       "  <tbody>\n",
       "    <tr>\n",
       "      <th>0</th>\n",
       "      <td>2015</td>\n",
       "      <td>1</td>\n",
       "      <td>1</td>\n",
       "      <td>4</td>\n",
       "      <td>AS</td>\n",
       "      <td>98</td>\n",
       "      <td>N407AS</td>\n",
       "      <td>ANC</td>\n",
       "      <td>SEA</td>\n",
       "      <td>5</td>\n",
       "      <td>...</td>\n",
       "      <td>408.0</td>\n",
       "      <td>-22.0</td>\n",
       "      <td>0</td>\n",
       "      <td>0</td>\n",
       "      <td>NaN</td>\n",
       "      <td>NaN</td>\n",
       "      <td>NaN</td>\n",
       "      <td>NaN</td>\n",
       "      <td>NaN</td>\n",
       "      <td>NaN</td>\n",
       "    </tr>\n",
       "    <tr>\n",
       "      <th>1</th>\n",
       "      <td>2015</td>\n",
       "      <td>1</td>\n",
       "      <td>1</td>\n",
       "      <td>4</td>\n",
       "      <td>AA</td>\n",
       "      <td>2336</td>\n",
       "      <td>N3KUAA</td>\n",
       "      <td>LAX</td>\n",
       "      <td>PBI</td>\n",
       "      <td>10</td>\n",
       "      <td>...</td>\n",
       "      <td>741.0</td>\n",
       "      <td>-9.0</td>\n",
       "      <td>0</td>\n",
       "      <td>0</td>\n",
       "      <td>NaN</td>\n",
       "      <td>NaN</td>\n",
       "      <td>NaN</td>\n",
       "      <td>NaN</td>\n",
       "      <td>NaN</td>\n",
       "      <td>NaN</td>\n",
       "    </tr>\n",
       "    <tr>\n",
       "      <th>2</th>\n",
       "      <td>2015</td>\n",
       "      <td>1</td>\n",
       "      <td>1</td>\n",
       "      <td>4</td>\n",
       "      <td>US</td>\n",
       "      <td>840</td>\n",
       "      <td>N171US</td>\n",
       "      <td>SFO</td>\n",
       "      <td>CLT</td>\n",
       "      <td>20</td>\n",
       "      <td>...</td>\n",
       "      <td>811.0</td>\n",
       "      <td>5.0</td>\n",
       "      <td>0</td>\n",
       "      <td>0</td>\n",
       "      <td>NaN</td>\n",
       "      <td>NaN</td>\n",
       "      <td>NaN</td>\n",
       "      <td>NaN</td>\n",
       "      <td>NaN</td>\n",
       "      <td>NaN</td>\n",
       "    </tr>\n",
       "    <tr>\n",
       "      <th>3</th>\n",
       "      <td>2015</td>\n",
       "      <td>1</td>\n",
       "      <td>1</td>\n",
       "      <td>4</td>\n",
       "      <td>AA</td>\n",
       "      <td>258</td>\n",
       "      <td>N3HYAA</td>\n",
       "      <td>LAX</td>\n",
       "      <td>MIA</td>\n",
       "      <td>20</td>\n",
       "      <td>...</td>\n",
       "      <td>756.0</td>\n",
       "      <td>-9.0</td>\n",
       "      <td>0</td>\n",
       "      <td>0</td>\n",
       "      <td>NaN</td>\n",
       "      <td>NaN</td>\n",
       "      <td>NaN</td>\n",
       "      <td>NaN</td>\n",
       "      <td>NaN</td>\n",
       "      <td>NaN</td>\n",
       "    </tr>\n",
       "    <tr>\n",
       "      <th>4</th>\n",
       "      <td>2015</td>\n",
       "      <td>1</td>\n",
       "      <td>1</td>\n",
       "      <td>4</td>\n",
       "      <td>AS</td>\n",
       "      <td>135</td>\n",
       "      <td>N527AS</td>\n",
       "      <td>SEA</td>\n",
       "      <td>ANC</td>\n",
       "      <td>25</td>\n",
       "      <td>...</td>\n",
       "      <td>259.0</td>\n",
       "      <td>-21.0</td>\n",
       "      <td>0</td>\n",
       "      <td>0</td>\n",
       "      <td>NaN</td>\n",
       "      <td>NaN</td>\n",
       "      <td>NaN</td>\n",
       "      <td>NaN</td>\n",
       "      <td>NaN</td>\n",
       "      <td>NaN</td>\n",
       "    </tr>\n",
       "  </tbody>\n",
       "</table>\n",
       "<p>5 rows × 31 columns</p>\n",
       "</div>"
      ],
      "text/plain": [
       "   YEAR  MONTH  DAY  DAY_OF_WEEK AIRLINE  FLIGHT_NUMBER TAIL_NUMBER  \\\n",
       "0  2015      1    1            4      AS             98      N407AS   \n",
       "1  2015      1    1            4      AA           2336      N3KUAA   \n",
       "2  2015      1    1            4      US            840      N171US   \n",
       "3  2015      1    1            4      AA            258      N3HYAA   \n",
       "4  2015      1    1            4      AS            135      N527AS   \n",
       "\n",
       "  ORIGIN_AIRPORT DESTINATION_AIRPORT  SCHEDULED_DEPARTURE  ...  ARRIVAL_TIME  \\\n",
       "0            ANC                 SEA                    5  ...         408.0   \n",
       "1            LAX                 PBI                   10  ...         741.0   \n",
       "2            SFO                 CLT                   20  ...         811.0   \n",
       "3            LAX                 MIA                   20  ...         756.0   \n",
       "4            SEA                 ANC                   25  ...         259.0   \n",
       "\n",
       "   ARRIVAL_DELAY  DIVERTED  CANCELLED  CANCELLATION_REASON  AIR_SYSTEM_DELAY  \\\n",
       "0          -22.0         0          0                  NaN               NaN   \n",
       "1           -9.0         0          0                  NaN               NaN   \n",
       "2            5.0         0          0                  NaN               NaN   \n",
       "3           -9.0         0          0                  NaN               NaN   \n",
       "4          -21.0         0          0                  NaN               NaN   \n",
       "\n",
       "   SECURITY_DELAY  AIRLINE_DELAY  LATE_AIRCRAFT_DELAY  WEATHER_DELAY  \n",
       "0             NaN            NaN                  NaN            NaN  \n",
       "1             NaN            NaN                  NaN            NaN  \n",
       "2             NaN            NaN                  NaN            NaN  \n",
       "3             NaN            NaN                  NaN            NaN  \n",
       "4             NaN            NaN                  NaN            NaN  \n",
       "\n",
       "[5 rows x 31 columns]"
      ]
     },
     "execution_count": 18,
     "metadata": {},
     "output_type": "execute_result"
    }
   ],
   "source": [
    "df_flights = pd.read_csv('../data/flights.csv', low_memory=False)\n",
    "df_flights.head()"
   ]
  },
  {
   "cell_type": "code",
   "execution_count": 19,
   "id": "toxic-tolerance",
   "metadata": {
    "execution": {
     "iopub.execute_input": "2021-04-10T08:18:54.393018Z",
     "iopub.status.busy": "2021-04-10T08:18:54.392818Z",
     "iopub.status.idle": "2021-04-10T08:18:54.395040Z",
     "shell.execute_reply": "2021-04-10T08:18:54.394604Z",
     "shell.execute_reply.started": "2021-04-10T08:18:54.392996Z"
    }
   },
   "outputs": [],
   "source": [
    "# df_flights['YEAR'] = pd.to_datetime(df_flights['YEAR'], format='%Y')\n",
    "# df_flights['MONTH'] = pd.to_datetime(df_flights['MONTH'], format='%M')\n",
    "# df_flights['DAY'] = pd.to_datetime(df_flights['DAY'], format='%d')"
   ]
  },
  {
   "cell_type": "code",
   "execution_count": 20,
   "id": "cooperative-memphis",
   "metadata": {
    "execution": {
     "iopub.execute_input": "2021-04-10T08:18:54.396177Z",
     "iopub.status.busy": "2021-04-10T08:18:54.395982Z",
     "iopub.status.idle": "2021-04-10T08:18:54.412184Z",
     "shell.execute_reply": "2021-04-10T08:18:54.411704Z",
     "shell.execute_reply.started": "2021-04-10T08:18:54.396156Z"
    }
   },
   "outputs": [
    {
     "data": {
      "application/javascript": [
       "\n",
       "        if (window._pyforest_update_imports_cell) { window._pyforest_update_imports_cell('import pandas as pd\\nimport matplotlib.pyplot as plt'); }\n",
       "    "
      ],
      "text/plain": [
       "<IPython.core.display.Javascript object>"
      ]
     },
     "metadata": {},
     "output_type": "display_data"
    },
    {
     "data": {
      "text/html": [
       "<div>\n",
       "<style scoped>\n",
       "    .dataframe tbody tr th:only-of-type {\n",
       "        vertical-align: middle;\n",
       "    }\n",
       "\n",
       "    .dataframe tbody tr th {\n",
       "        vertical-align: top;\n",
       "    }\n",
       "\n",
       "    .dataframe thead th {\n",
       "        text-align: right;\n",
       "    }\n",
       "</style>\n",
       "<table border=\"1\" class=\"dataframe\">\n",
       "  <thead>\n",
       "    <tr style=\"text-align: right;\">\n",
       "      <th></th>\n",
       "      <th>IATA_CODE</th>\n",
       "      <th>AIRPORT</th>\n",
       "      <th>CITY</th>\n",
       "      <th>STATE</th>\n",
       "      <th>COUNTRY</th>\n",
       "      <th>LATITUDE</th>\n",
       "      <th>LONGITUDE</th>\n",
       "    </tr>\n",
       "  </thead>\n",
       "  <tbody>\n",
       "    <tr>\n",
       "      <th>0</th>\n",
       "      <td>ABE</td>\n",
       "      <td>Lehigh Valley International Airport</td>\n",
       "      <td>Allentown</td>\n",
       "      <td>PA</td>\n",
       "      <td>USA</td>\n",
       "      <td>40.65236</td>\n",
       "      <td>-75.44040</td>\n",
       "    </tr>\n",
       "    <tr>\n",
       "      <th>1</th>\n",
       "      <td>ABI</td>\n",
       "      <td>Abilene Regional Airport</td>\n",
       "      <td>Abilene</td>\n",
       "      <td>TX</td>\n",
       "      <td>USA</td>\n",
       "      <td>32.41132</td>\n",
       "      <td>-99.68190</td>\n",
       "    </tr>\n",
       "    <tr>\n",
       "      <th>2</th>\n",
       "      <td>ABQ</td>\n",
       "      <td>Albuquerque International Sunport</td>\n",
       "      <td>Albuquerque</td>\n",
       "      <td>NM</td>\n",
       "      <td>USA</td>\n",
       "      <td>35.04022</td>\n",
       "      <td>-106.60919</td>\n",
       "    </tr>\n",
       "    <tr>\n",
       "      <th>3</th>\n",
       "      <td>ABR</td>\n",
       "      <td>Aberdeen Regional Airport</td>\n",
       "      <td>Aberdeen</td>\n",
       "      <td>SD</td>\n",
       "      <td>USA</td>\n",
       "      <td>45.44906</td>\n",
       "      <td>-98.42183</td>\n",
       "    </tr>\n",
       "    <tr>\n",
       "      <th>4</th>\n",
       "      <td>ABY</td>\n",
       "      <td>Southwest Georgia Regional Airport</td>\n",
       "      <td>Albany</td>\n",
       "      <td>GA</td>\n",
       "      <td>USA</td>\n",
       "      <td>31.53552</td>\n",
       "      <td>-84.19447</td>\n",
       "    </tr>\n",
       "  </tbody>\n",
       "</table>\n",
       "</div>"
      ],
      "text/plain": [
       "  IATA_CODE                              AIRPORT         CITY STATE COUNTRY  \\\n",
       "0       ABE  Lehigh Valley International Airport    Allentown    PA     USA   \n",
       "1       ABI             Abilene Regional Airport      Abilene    TX     USA   \n",
       "2       ABQ    Albuquerque International Sunport  Albuquerque    NM     USA   \n",
       "3       ABR            Aberdeen Regional Airport     Aberdeen    SD     USA   \n",
       "4       ABY   Southwest Georgia Regional Airport       Albany    GA     USA   \n",
       "\n",
       "   LATITUDE  LONGITUDE  \n",
       "0  40.65236  -75.44040  \n",
       "1  32.41132  -99.68190  \n",
       "2  35.04022 -106.60919  \n",
       "3  45.44906  -98.42183  \n",
       "4  31.53552  -84.19447  "
      ]
     },
     "execution_count": 20,
     "metadata": {},
     "output_type": "execute_result"
    }
   ],
   "source": [
    "df_airports = pd.read_csv('../data/airports.csv', low_memory=False)\n",
    "df_airports.head()"
   ]
  },
  {
   "cell_type": "code",
   "execution_count": 21,
   "id": "written-honduras",
   "metadata": {
    "execution": {
     "iopub.execute_input": "2021-04-10T08:18:54.413215Z",
     "iopub.status.busy": "2021-04-10T08:18:54.413020Z",
     "iopub.status.idle": "2021-04-10T08:18:54.421446Z",
     "shell.execute_reply": "2021-04-10T08:18:54.421007Z",
     "shell.execute_reply.started": "2021-04-10T08:18:54.413195Z"
    }
   },
   "outputs": [
    {
     "data": {
      "application/javascript": [
       "\n",
       "        if (window._pyforest_update_imports_cell) { window._pyforest_update_imports_cell('import pandas as pd\\nimport matplotlib.pyplot as plt'); }\n",
       "    "
      ],
      "text/plain": [
       "<IPython.core.display.Javascript object>"
      ]
     },
     "metadata": {},
     "output_type": "display_data"
    },
    {
     "data": {
      "text/html": [
       "<div>\n",
       "<style scoped>\n",
       "    .dataframe tbody tr th:only-of-type {\n",
       "        vertical-align: middle;\n",
       "    }\n",
       "\n",
       "    .dataframe tbody tr th {\n",
       "        vertical-align: top;\n",
       "    }\n",
       "\n",
       "    .dataframe thead th {\n",
       "        text-align: right;\n",
       "    }\n",
       "</style>\n",
       "<table border=\"1\" class=\"dataframe\">\n",
       "  <thead>\n",
       "    <tr style=\"text-align: right;\">\n",
       "      <th></th>\n",
       "      <th>IATA_CODE</th>\n",
       "      <th>AIRLINE</th>\n",
       "    </tr>\n",
       "  </thead>\n",
       "  <tbody>\n",
       "    <tr>\n",
       "      <th>0</th>\n",
       "      <td>UA</td>\n",
       "      <td>United Air Lines Inc.</td>\n",
       "    </tr>\n",
       "    <tr>\n",
       "      <th>1</th>\n",
       "      <td>AA</td>\n",
       "      <td>American Airlines Inc.</td>\n",
       "    </tr>\n",
       "    <tr>\n",
       "      <th>2</th>\n",
       "      <td>US</td>\n",
       "      <td>US Airways Inc.</td>\n",
       "    </tr>\n",
       "    <tr>\n",
       "      <th>3</th>\n",
       "      <td>F9</td>\n",
       "      <td>Frontier Airlines Inc.</td>\n",
       "    </tr>\n",
       "    <tr>\n",
       "      <th>4</th>\n",
       "      <td>B6</td>\n",
       "      <td>JetBlue Airways</td>\n",
       "    </tr>\n",
       "  </tbody>\n",
       "</table>\n",
       "</div>"
      ],
      "text/plain": [
       "  IATA_CODE                 AIRLINE\n",
       "0        UA   United Air Lines Inc.\n",
       "1        AA  American Airlines Inc.\n",
       "2        US         US Airways Inc.\n",
       "3        F9  Frontier Airlines Inc.\n",
       "4        B6         JetBlue Airways"
      ]
     },
     "execution_count": 21,
     "metadata": {},
     "output_type": "execute_result"
    }
   ],
   "source": [
    "df_airlines = pd.read_csv('../data/airlines.csv')\n",
    "df_airlines.head()"
   ]
  },
  {
   "cell_type": "code",
   "execution_count": 22,
   "id": "offensive-bandwidth",
   "metadata": {
    "execution": {
     "iopub.execute_input": "2021-04-10T08:18:54.422297Z",
     "iopub.status.busy": "2021-04-10T08:18:54.422105Z",
     "iopub.status.idle": "2021-04-10T08:18:56.860417Z",
     "shell.execute_reply": "2021-04-10T08:18:56.859871Z",
     "shell.execute_reply.started": "2021-04-10T08:18:54.422276Z"
    }
   },
   "outputs": [],
   "source": [
    "df = df_flights.join(df_airlines.set_index('IATA_CODE'), on='AIRLINE', lsuffix='_flights', rsuffix='_airlines')"
   ]
  },
  {
   "cell_type": "code",
   "execution_count": 23,
   "id": "appointed-calculator",
   "metadata": {
    "execution": {
     "iopub.execute_input": "2021-04-10T08:18:56.861408Z",
     "iopub.status.busy": "2021-04-10T08:18:56.861202Z",
     "iopub.status.idle": "2021-04-10T08:18:59.606363Z",
     "shell.execute_reply": "2021-04-10T08:18:59.605738Z",
     "shell.execute_reply.started": "2021-04-10T08:18:56.861386Z"
    }
   },
   "outputs": [],
   "source": [
    "df = df.join(df_airports.set_index('IATA_CODE'), on='ORIGIN_AIRPORT', lsuffix='_df', rsuffix='_OriginAirport')"
   ]
  },
  {
   "cell_type": "code",
   "execution_count": 24,
   "id": "recorded-rebound",
   "metadata": {
    "execution": {
     "iopub.execute_input": "2021-04-10T08:18:59.607361Z",
     "iopub.status.busy": "2021-04-10T08:18:59.607158Z",
     "iopub.status.idle": "2021-04-10T08:19:01.632696Z",
     "shell.execute_reply": "2021-04-10T08:19:01.632098Z",
     "shell.execute_reply.started": "2021-04-10T08:18:59.607340Z"
    }
   },
   "outputs": [],
   "source": [
    "df = df.join(df_airports.set_index('IATA_CODE'), on='DESTINATION_AIRPORT', lsuffix='_OriginAirport', rsuffix='_DestinationAirport')"
   ]
  },
  {
   "cell_type": "code",
   "execution_count": 25,
   "id": "spanish-adolescent",
   "metadata": {
    "execution": {
     "iopub.execute_input": "2021-04-10T08:19:01.634338Z",
     "iopub.status.busy": "2021-04-10T08:19:01.634111Z",
     "iopub.status.idle": "2021-04-10T08:19:01.658157Z",
     "shell.execute_reply": "2021-04-10T08:19:01.657482Z",
     "shell.execute_reply.started": "2021-04-10T08:19:01.634316Z"
    }
   },
   "outputs": [
    {
     "data": {
      "text/html": [
       "<div>\n",
       "<style scoped>\n",
       "    .dataframe tbody tr th:only-of-type {\n",
       "        vertical-align: middle;\n",
       "    }\n",
       "\n",
       "    .dataframe tbody tr th {\n",
       "        vertical-align: top;\n",
       "    }\n",
       "\n",
       "    .dataframe thead th {\n",
       "        text-align: right;\n",
       "    }\n",
       "</style>\n",
       "<table border=\"1\" class=\"dataframe\">\n",
       "  <thead>\n",
       "    <tr style=\"text-align: right;\">\n",
       "      <th></th>\n",
       "      <th>YEAR</th>\n",
       "      <th>MONTH</th>\n",
       "      <th>DAY</th>\n",
       "      <th>DAY_OF_WEEK</th>\n",
       "      <th>AIRLINE_flights</th>\n",
       "      <th>FLIGHT_NUMBER</th>\n",
       "      <th>TAIL_NUMBER</th>\n",
       "      <th>ORIGIN_AIRPORT</th>\n",
       "      <th>DESTINATION_AIRPORT</th>\n",
       "      <th>SCHEDULED_DEPARTURE</th>\n",
       "      <th>...</th>\n",
       "      <th>STATE_OriginAirport</th>\n",
       "      <th>COUNTRY_OriginAirport</th>\n",
       "      <th>LATITUDE_OriginAirport</th>\n",
       "      <th>LONGITUDE_OriginAirport</th>\n",
       "      <th>AIRPORT_DestinationAirport</th>\n",
       "      <th>CITY_DestinationAirport</th>\n",
       "      <th>STATE_DestinationAirport</th>\n",
       "      <th>COUNTRY_DestinationAirport</th>\n",
       "      <th>LATITUDE_DestinationAirport</th>\n",
       "      <th>LONGITUDE_DestinationAirport</th>\n",
       "    </tr>\n",
       "  </thead>\n",
       "  <tbody>\n",
       "    <tr>\n",
       "      <th>0</th>\n",
       "      <td>2015</td>\n",
       "      <td>1</td>\n",
       "      <td>1</td>\n",
       "      <td>4</td>\n",
       "      <td>AS</td>\n",
       "      <td>98</td>\n",
       "      <td>N407AS</td>\n",
       "      <td>ANC</td>\n",
       "      <td>SEA</td>\n",
       "      <td>5</td>\n",
       "      <td>...</td>\n",
       "      <td>AK</td>\n",
       "      <td>USA</td>\n",
       "      <td>61.17432</td>\n",
       "      <td>-149.99619</td>\n",
       "      <td>Seattle-Tacoma International Airport</td>\n",
       "      <td>Seattle</td>\n",
       "      <td>WA</td>\n",
       "      <td>USA</td>\n",
       "      <td>47.44898</td>\n",
       "      <td>-122.30931</td>\n",
       "    </tr>\n",
       "    <tr>\n",
       "      <th>1</th>\n",
       "      <td>2015</td>\n",
       "      <td>1</td>\n",
       "      <td>1</td>\n",
       "      <td>4</td>\n",
       "      <td>AA</td>\n",
       "      <td>2336</td>\n",
       "      <td>N3KUAA</td>\n",
       "      <td>LAX</td>\n",
       "      <td>PBI</td>\n",
       "      <td>10</td>\n",
       "      <td>...</td>\n",
       "      <td>CA</td>\n",
       "      <td>USA</td>\n",
       "      <td>33.94254</td>\n",
       "      <td>-118.40807</td>\n",
       "      <td>Palm Beach International Airport</td>\n",
       "      <td>West Palm Beach</td>\n",
       "      <td>FL</td>\n",
       "      <td>USA</td>\n",
       "      <td>26.68316</td>\n",
       "      <td>-80.09559</td>\n",
       "    </tr>\n",
       "    <tr>\n",
       "      <th>2</th>\n",
       "      <td>2015</td>\n",
       "      <td>1</td>\n",
       "      <td>1</td>\n",
       "      <td>4</td>\n",
       "      <td>US</td>\n",
       "      <td>840</td>\n",
       "      <td>N171US</td>\n",
       "      <td>SFO</td>\n",
       "      <td>CLT</td>\n",
       "      <td>20</td>\n",
       "      <td>...</td>\n",
       "      <td>CA</td>\n",
       "      <td>USA</td>\n",
       "      <td>37.61900</td>\n",
       "      <td>-122.37484</td>\n",
       "      <td>Charlotte Douglas International Airport</td>\n",
       "      <td>Charlotte</td>\n",
       "      <td>NC</td>\n",
       "      <td>USA</td>\n",
       "      <td>35.21401</td>\n",
       "      <td>-80.94313</td>\n",
       "    </tr>\n",
       "    <tr>\n",
       "      <th>3</th>\n",
       "      <td>2015</td>\n",
       "      <td>1</td>\n",
       "      <td>1</td>\n",
       "      <td>4</td>\n",
       "      <td>AA</td>\n",
       "      <td>258</td>\n",
       "      <td>N3HYAA</td>\n",
       "      <td>LAX</td>\n",
       "      <td>MIA</td>\n",
       "      <td>20</td>\n",
       "      <td>...</td>\n",
       "      <td>CA</td>\n",
       "      <td>USA</td>\n",
       "      <td>33.94254</td>\n",
       "      <td>-118.40807</td>\n",
       "      <td>Miami International Airport</td>\n",
       "      <td>Miami</td>\n",
       "      <td>FL</td>\n",
       "      <td>USA</td>\n",
       "      <td>25.79325</td>\n",
       "      <td>-80.29056</td>\n",
       "    </tr>\n",
       "    <tr>\n",
       "      <th>4</th>\n",
       "      <td>2015</td>\n",
       "      <td>1</td>\n",
       "      <td>1</td>\n",
       "      <td>4</td>\n",
       "      <td>AS</td>\n",
       "      <td>135</td>\n",
       "      <td>N527AS</td>\n",
       "      <td>SEA</td>\n",
       "      <td>ANC</td>\n",
       "      <td>25</td>\n",
       "      <td>...</td>\n",
       "      <td>WA</td>\n",
       "      <td>USA</td>\n",
       "      <td>47.44898</td>\n",
       "      <td>-122.30931</td>\n",
       "      <td>Ted Stevens Anchorage International Airport</td>\n",
       "      <td>Anchorage</td>\n",
       "      <td>AK</td>\n",
       "      <td>USA</td>\n",
       "      <td>61.17432</td>\n",
       "      <td>-149.99619</td>\n",
       "    </tr>\n",
       "  </tbody>\n",
       "</table>\n",
       "<p>5 rows × 44 columns</p>\n",
       "</div>"
      ],
      "text/plain": [
       "   YEAR  MONTH  DAY  DAY_OF_WEEK AIRLINE_flights  FLIGHT_NUMBER TAIL_NUMBER  \\\n",
       "0  2015      1    1            4              AS             98      N407AS   \n",
       "1  2015      1    1            4              AA           2336      N3KUAA   \n",
       "2  2015      1    1            4              US            840      N171US   \n",
       "3  2015      1    1            4              AA            258      N3HYAA   \n",
       "4  2015      1    1            4              AS            135      N527AS   \n",
       "\n",
       "  ORIGIN_AIRPORT DESTINATION_AIRPORT  SCHEDULED_DEPARTURE  ...  \\\n",
       "0            ANC                 SEA                    5  ...   \n",
       "1            LAX                 PBI                   10  ...   \n",
       "2            SFO                 CLT                   20  ...   \n",
       "3            LAX                 MIA                   20  ...   \n",
       "4            SEA                 ANC                   25  ...   \n",
       "\n",
       "   STATE_OriginAirport  COUNTRY_OriginAirport  LATITUDE_OriginAirport  \\\n",
       "0                   AK                    USA                61.17432   \n",
       "1                   CA                    USA                33.94254   \n",
       "2                   CA                    USA                37.61900   \n",
       "3                   CA                    USA                33.94254   \n",
       "4                   WA                    USA                47.44898   \n",
       "\n",
       "   LONGITUDE_OriginAirport                   AIRPORT_DestinationAirport  \\\n",
       "0               -149.99619         Seattle-Tacoma International Airport   \n",
       "1               -118.40807             Palm Beach International Airport   \n",
       "2               -122.37484      Charlotte Douglas International Airport   \n",
       "3               -118.40807                  Miami International Airport   \n",
       "4               -122.30931  Ted Stevens Anchorage International Airport   \n",
       "\n",
       "   CITY_DestinationAirport  STATE_DestinationAirport  \\\n",
       "0                  Seattle                        WA   \n",
       "1          West Palm Beach                        FL   \n",
       "2                Charlotte                        NC   \n",
       "3                    Miami                        FL   \n",
       "4                Anchorage                        AK   \n",
       "\n",
       "   COUNTRY_DestinationAirport  LATITUDE_DestinationAirport  \\\n",
       "0                         USA                     47.44898   \n",
       "1                         USA                     26.68316   \n",
       "2                         USA                     35.21401   \n",
       "3                         USA                     25.79325   \n",
       "4                         USA                     61.17432   \n",
       "\n",
       "   LONGITUDE_DestinationAirport  \n",
       "0                    -122.30931  \n",
       "1                     -80.09559  \n",
       "2                     -80.94313  \n",
       "3                     -80.29056  \n",
       "4                    -149.99619  \n",
       "\n",
       "[5 rows x 44 columns]"
      ]
     },
     "execution_count": 25,
     "metadata": {},
     "output_type": "execute_result"
    }
   ],
   "source": [
    "df.head()"
   ]
  },
  {
   "cell_type": "code",
   "execution_count": 26,
   "id": "united-chick",
   "metadata": {
    "execution": {
     "iopub.execute_input": "2021-04-10T08:19:01.659253Z",
     "iopub.status.busy": "2021-04-10T08:19:01.659046Z",
     "iopub.status.idle": "2021-04-10T08:19:01.913212Z",
     "shell.execute_reply": "2021-04-10T08:19:01.912607Z",
     "shell.execute_reply.started": "2021-04-10T08:19:01.659230Z"
    }
   },
   "outputs": [
    {
     "data": {
      "text/plain": [
       "0"
      ]
     },
     "execution_count": 26,
     "metadata": {},
     "output_type": "execute_result"
    }
   ],
   "source": [
    "df.DESTINATION_AIRPORT.isna().sum()"
   ]
  },
  {
   "cell_type": "code",
   "execution_count": 27,
   "id": "immune-messaging",
   "metadata": {
    "execution": {
     "iopub.execute_input": "2021-04-10T08:19:01.914260Z",
     "iopub.status.busy": "2021-04-10T08:19:01.913972Z",
     "iopub.status.idle": "2021-04-10T08:19:02.169601Z",
     "shell.execute_reply": "2021-04-10T08:19:02.169087Z",
     "shell.execute_reply.started": "2021-04-10T08:19:01.914238Z"
    }
   },
   "outputs": [
    {
     "data": {
      "text/plain": [
       "0"
      ]
     },
     "execution_count": 27,
     "metadata": {},
     "output_type": "execute_result"
    }
   ],
   "source": [
    "df.ORIGIN_AIRPORT.isna().sum()"
   ]
  },
  {
   "cell_type": "code",
   "execution_count": 28,
   "id": "cardiac-jersey",
   "metadata": {
    "execution": {
     "iopub.execute_input": "2021-04-10T08:19:02.170551Z",
     "iopub.status.busy": "2021-04-10T08:19:02.170354Z",
     "iopub.status.idle": "2021-04-10T08:19:02.174218Z",
     "shell.execute_reply": "2021-04-10T08:19:02.173729Z",
     "shell.execute_reply.started": "2021-04-10T08:19:02.170531Z"
    }
   },
   "outputs": [
    {
     "data": {
      "text/plain": [
       "Index(['YEAR', 'MONTH', 'DAY', 'DAY_OF_WEEK', 'AIRLINE_flights',\n",
       "       'FLIGHT_NUMBER', 'TAIL_NUMBER', 'ORIGIN_AIRPORT', 'DESTINATION_AIRPORT',\n",
       "       'SCHEDULED_DEPARTURE', 'DEPARTURE_TIME', 'DEPARTURE_DELAY', 'TAXI_OUT',\n",
       "       'WHEELS_OFF', 'SCHEDULED_TIME', 'ELAPSED_TIME', 'AIR_TIME', 'DISTANCE',\n",
       "       'WHEELS_ON', 'TAXI_IN', 'SCHEDULED_ARRIVAL', 'ARRIVAL_TIME',\n",
       "       'ARRIVAL_DELAY', 'DIVERTED', 'CANCELLED', 'CANCELLATION_REASON',\n",
       "       'AIR_SYSTEM_DELAY', 'SECURITY_DELAY', 'AIRLINE_DELAY',\n",
       "       'LATE_AIRCRAFT_DELAY', 'WEATHER_DELAY', 'AIRLINE_airlines',\n",
       "       'AIRPORT_OriginAirport', 'CITY_OriginAirport', 'STATE_OriginAirport',\n",
       "       'COUNTRY_OriginAirport', 'LATITUDE_OriginAirport',\n",
       "       'LONGITUDE_OriginAirport', 'AIRPORT_DestinationAirport',\n",
       "       'CITY_DestinationAirport', 'STATE_DestinationAirport',\n",
       "       'COUNTRY_DestinationAirport', 'LATITUDE_DestinationAirport',\n",
       "       'LONGITUDE_DestinationAirport'],\n",
       "      dtype='object')"
      ]
     },
     "execution_count": 28,
     "metadata": {},
     "output_type": "execute_result"
    }
   ],
   "source": [
    "df.columns"
   ]
  },
  {
   "cell_type": "code",
   "execution_count": 31,
   "id": "necessary-regulation",
   "metadata": {
    "execution": {
     "iopub.execute_input": "2021-04-10T08:20:53.929584Z",
     "iopub.status.busy": "2021-04-10T08:20:53.929312Z",
     "iopub.status.idle": "2021-04-10T08:22:45.985797Z",
     "shell.execute_reply": "2021-04-10T08:22:45.985196Z",
     "shell.execute_reply.started": "2021-04-10T08:20:53.929559Z"
    },
    "tags": []
   },
   "outputs": [],
   "source": [
    "df.to_csv('../data/conjoined_df.csv')"
   ]
  },
  {
   "cell_type": "code",
   "execution_count": 30,
   "id": "equivalent-dance",
   "metadata": {
    "execution": {
     "iopub.execute_input": "2021-04-10T08:20:29.920416Z",
     "iopub.status.busy": "2021-04-10T08:20:29.920151Z",
     "iopub.status.idle": "2021-04-10T08:20:29.924883Z",
     "shell.execute_reply": "2021-04-10T08:20:29.924291Z",
     "shell.execute_reply.started": "2021-04-10T08:20:29.920393Z"
    }
   },
   "outputs": [
    {
     "data": {
      "text/plain": [
       "0    AS\n",
       "1    AA\n",
       "2    US\n",
       "3    AA\n",
       "4    AS\n",
       "Name: AIRLINE_flights, dtype: object"
      ]
     },
     "execution_count": 30,
     "metadata": {},
     "output_type": "execute_result"
    }
   ],
   "source": [
    "df.AIRLINE_flights.head()"
   ]
  },
  {
   "cell_type": "code",
   "execution_count": null,
   "id": "continent-ordinance",
   "metadata": {},
   "outputs": [],
   "source": []
  },
  {
   "cell_type": "code",
   "execution_count": 32,
   "id": "equal-dividend",
   "metadata": {
    "execution": {
     "iopub.execute_input": "2021-04-10T08:26:23.323202Z",
     "iopub.status.busy": "2021-04-10T08:26:23.322839Z",
     "iopub.status.idle": "2021-04-10T08:26:23.830440Z",
     "shell.execute_reply": "2021-04-10T08:26:23.829724Z",
     "shell.execute_reply.started": "2021-04-10T08:26:23.323167Z"
    }
   },
   "outputs": [],
   "source": [
    "df.ORIGIN_AIRPORT = df.ORIGIN_AIRPORT.astype('category')"
   ]
  },
  {
   "cell_type": "code",
   "execution_count": 33,
   "id": "monetary-imaging",
   "metadata": {
    "execution": {
     "iopub.execute_input": "2021-04-10T08:26:24.561480Z",
     "iopub.status.busy": "2021-04-10T08:26:24.561218Z",
     "iopub.status.idle": "2021-04-10T08:26:25.163732Z",
     "shell.execute_reply": "2021-04-10T08:26:25.163147Z",
     "shell.execute_reply.started": "2021-04-10T08:26:24.561456Z"
    }
   },
   "outputs": [],
   "source": [
    "df.DESTINATION_AIRPORT = df.DESTINATION_AIRPORT.astype('category')"
   ]
  },
  {
   "cell_type": "code",
   "execution_count": 34,
   "id": "collect-mongolia",
   "metadata": {
    "execution": {
     "iopub.execute_input": "2021-04-10T08:26:25.693059Z",
     "iopub.status.busy": "2021-04-10T08:26:25.692813Z",
     "iopub.status.idle": "2021-04-10T08:26:26.300702Z",
     "shell.execute_reply": "2021-04-10T08:26:26.300132Z",
     "shell.execute_reply.started": "2021-04-10T08:26:25.693035Z"
    }
   },
   "outputs": [],
   "source": [
    "df.CITY_DestinationAirport = df.CITY_DestinationAirport.astype('category')"
   ]
  },
  {
   "cell_type": "code",
   "execution_count": 35,
   "id": "occasional-excellence",
   "metadata": {
    "execution": {
     "iopub.execute_input": "2021-04-10T08:26:26.715084Z",
     "iopub.status.busy": "2021-04-10T08:26:26.714833Z",
     "iopub.status.idle": "2021-04-10T08:26:27.446769Z",
     "shell.execute_reply": "2021-04-10T08:26:27.446116Z",
     "shell.execute_reply.started": "2021-04-10T08:26:26.715062Z"
    }
   },
   "outputs": [],
   "source": [
    "df.CITY_OriginAirport = df.CITY_OriginAirport.astype('category')"
   ]
  },
  {
   "cell_type": "markdown",
   "id": "cordless-ebony",
   "metadata": {},
   "source": [
    "<br>\n",
    "<br>"
   ]
  },
  {
   "cell_type": "markdown",
   "id": "adverse-potato",
   "metadata": {},
   "source": [
    "## Which Airports had the most departure delays in 2015?"
   ]
  },
  {
   "cell_type": "code",
   "execution_count": null,
   "id": "peripheral-norman",
   "metadata": {
    "tags": []
   },
   "outputs": [],
   "source": [
    "gb_orig_delay = df.groupby('AIRPORT_OriginAirport')['DEPARTURE_DELAY'].sum()\n",
    "gb_orig_flights = df.groupby('AIRPORT_OriginAirport')['AIRLINE_flights'].count()\n",
    "gb_orig_delay_flight_minutes = (gb_orig_delay / gb_orig_flights).sort_values(ascending=False)\n",
    "\n",
    "# display(gb_orig_delay, gb_orig_flights, gb_orig_delay_flight_minutes)"
   ]
  },
  {
   "cell_type": "code",
   "execution_count": 38,
   "id": "deadly-passenger",
   "metadata": {
    "execution": {
     "iopub.execute_input": "2021-04-10T08:27:57.558555Z",
     "iopub.status.busy": "2021-04-10T08:27:57.558293Z",
     "iopub.status.idle": "2021-04-10T08:27:57.563715Z",
     "shell.execute_reply": "2021-04-10T08:27:57.563160Z",
     "shell.execute_reply.started": "2021-04-10T08:27:57.558532Z"
    },
    "tags": []
   },
   "outputs": [
    {
     "data": {
      "text/plain": [
       "AIRPORT_OriginAirport\n",
       "Chicago O'Hare International Airport     13.748639\n",
       "Chicago Midway International Airport     12.555560\n",
       "Chippewa County International Airport    10.468189\n",
       "Chippewa Valley Regional Airport          8.817365\n",
       "dtype: float64"
      ]
     },
     "execution_count": 38,
     "metadata": {},
     "output_type": "execute_result"
    }
   ],
   "source": [
    "gb_orig_delay_flight_minutes[gb_orig_delay_flight_minutes.index.str.startswith('Chi')]"
   ]
  },
  {
   "cell_type": "code",
   "execution_count": 45,
   "id": "monthly-remedy",
   "metadata": {
    "execution": {
     "iopub.execute_input": "2021-04-10T08:34:07.637864Z",
     "iopub.status.busy": "2021-04-10T08:34:07.637614Z",
     "iopub.status.idle": "2021-04-10T08:34:07.928868Z",
     "shell.execute_reply": "2021-04-10T08:34:07.928310Z",
     "shell.execute_reply.started": "2021-04-10T08:34:07.637841Z"
    },
    "tags": []
   },
   "outputs": [
    {
     "data": {
      "text/plain": [
       "AIRPORT_OriginAirport\n",
       "Ithaca Tompkins Regional Airport                              12.911765\n",
       "Baltimore-Washington International Airport                    13.111932\n",
       "Newark Liberty International Airport                          13.233267\n",
       "Chicago O'Hare International Airport                          13.748639\n",
       "Columbia Regional Airport                                     14.071101\n",
       "Trenton Mercer Airport                                        14.205654\n",
       "Pago Pago International Airport (Tafuna Airport)              15.102804\n",
       "Northeast Florida Regional Airport (St. Augustine Airport)    15.206452\n",
       "Eagle County Regional Airport                                 15.287671\n",
       "Jack Brooks Regional Airport (Southeast Texas Regional)       15.936280\n",
       "Del Norte County Airport (Jack McNamara Field)                15.947368\n",
       "Nantucket Memorial Airport                                    16.189024\n",
       "Aspen-Pitkin County Airport                                   16.244526\n",
       "Guam International Airport                                    16.547904\n",
       "Gustavus Airport                                              16.948052\n",
       "Southwest Oregon Regional Airport (North Bend Municipal)      17.130909\n",
       "St. Cloud Regional Airport                                    17.566265\n",
       "Barnstable Municipal Airport                                  22.903614\n",
       "Martha's Vineyard Airport                                     25.907317\n",
       "Wilmington Airport                                            28.510000\n",
       "dtype: float64"
      ]
     },
     "metadata": {},
     "output_type": "display_data"
    },
    {
     "data": {
      "application/javascript": [
       "\n",
       "        if (window._pyforest_update_imports_cell) { window._pyforest_update_imports_cell('import pandas as pd\\nimport matplotlib.pyplot as plt\\nimport numpy as np'); }\n",
       "    "
      ],
      "text/plain": [
       "<IPython.core.display.Javascript object>"
      ]
     },
     "metadata": {},
     "output_type": "display_data"
    },
    {
     "data": {
      "application/javascript": [
       "\n",
       "        if (window._pyforest_update_imports_cell) { window._pyforest_update_imports_cell('import pandas as pd\\nimport matplotlib.pyplot as plt\\nimport numpy as np'); }\n",
       "    "
      ],
      "text/plain": [
       "<IPython.core.display.Javascript object>"
      ]
     },
     "metadata": {},
     "output_type": "display_data"
    },
    {
     "data": {
      "application/javascript": [
       "\n",
       "        if (window._pyforest_update_imports_cell) { window._pyforest_update_imports_cell('import pandas as pd\\nimport matplotlib.pyplot as plt\\nimport numpy as np'); }\n",
       "    "
      ],
      "text/plain": [
       "<IPython.core.display.Javascript object>"
      ]
     },
     "metadata": {},
     "output_type": "display_data"
    },
    {
     "data": {
      "application/javascript": [
       "\n",
       "        if (window._pyforest_update_imports_cell) { window._pyforest_update_imports_cell('import pandas as pd\\nimport matplotlib.pyplot as plt\\nimport numpy as np'); }\n",
       "    "
      ],
      "text/plain": [
       "<IPython.core.display.Javascript object>"
      ]
     },
     "metadata": {},
     "output_type": "display_data"
    },
    {
     "data": {
      "application/javascript": [
       "\n",
       "        if (window._pyforest_update_imports_cell) { window._pyforest_update_imports_cell('import pandas as pd\\nimport matplotlib.pyplot as plt\\nimport numpy as np'); }\n",
       "    "
      ],
      "text/plain": [
       "<IPython.core.display.Javascript object>"
      ]
     },
     "metadata": {},
     "output_type": "display_data"
    },
    {
     "data": {
      "image/png": "[encoded data removed]",
      "text/plain": [
       "<Figure size 1080x600 with 1 Axes>"
      ]
     },
     "metadata": {},
     "output_type": "display_data"
    }
   ],
   "source": [
    "top20_delayed = gb_orig_delay_flight_minutes[:20].sort_values()\n",
    "\n",
    "display(top20_delayed)\n",
    "ax = top20_delayed.plot.barh()\n",
    "plt.xticks(rotation=90)\n",
    "labels = list(top20_delayed.index)\n",
    "# ax.set_xticks(np.arange(len(labels)))\n",
    "# ax.set_xticklabels(labels)\n",
    "plt.xlabel('Avg Delay Time in Minutes')\n",
    "plt.ylabel('Airports')\n",
    "plt.title('Top 20 Airports with Delays')\n",
    "plt.show()"
   ]
  },
  {
   "cell_type": "code",
   "execution_count": null,
   "id": "developing-yacht",
   "metadata": {},
   "outputs": [],
   "source": []
  },
  {
   "cell_type": "code",
   "execution_count": null,
   "id": "increased-marathon",
   "metadata": {},
   "outputs": [],
   "source": []
  },
  {
   "cell_type": "markdown",
   "id": "hundred-romantic",
   "metadata": {},
   "source": [
    "<br>\n",
    "<br>"
   ]
  },
  {
   "cell_type": "markdown",
   "id": "nearby-holmes",
   "metadata": {
    "tags": []
   },
   "source": [
    "## Which Airlines had the most departure delays in 2015?"
   ]
  },
  {
   "cell_type": "code",
   "execution_count": 51,
   "id": "dependent-football",
   "metadata": {
    "execution": {
     "iopub.execute_input": "2021-04-10T09:07:51.815333Z",
     "iopub.status.busy": "2021-04-10T09:07:51.815096Z",
     "iopub.status.idle": "2021-04-10T09:07:53.192930Z",
     "shell.execute_reply": "2021-04-10T09:07:53.192335Z",
     "shell.execute_reply.started": "2021-04-10T09:07:51.815309Z"
    },
    "tags": []
   },
   "outputs": [
    {
     "data": {
      "text/plain": [
       "AIRLINE_airlines\n",
       "Spirit Air Lines                15.683274\n",
       "United Air Lines Inc.           14.262207\n",
       "Frontier Airlines Inc.          13.270609\n",
       "JetBlue Airways                 11.333045\n",
       "Southwest Airlines Co.          10.450107\n",
       "American Eagle Airlines Inc.     9.632043\n",
       "Virgin America                   8.947095\n",
       "American Airlines Inc.           8.773520\n",
       "Atlantic Southeast Airlines      8.492191\n",
       "Skywest Airlines Inc.            7.678231\n",
       "Delta Air Lines Inc.             7.338090\n",
       "US Airways Inc.                  6.020919\n",
       "Alaska Airlines Inc.             1.779476\n",
       "Hawaiian Airlines Inc.           0.484739\n",
       "dtype: float64"
      ]
     },
     "execution_count": 51,
     "metadata": {},
     "output_type": "execute_result"
    }
   ],
   "source": [
    "airline_delay = df.groupby('AIRLINE_airlines')['DEPARTURE_DELAY'].sum()\n",
    "airline_flights = df.groupby('AIRLINE_airlines')['AIRLINE_airlines'].count()\n",
    "# gb_orig_delay_flight_minutes = (gb_orig_delay / gb_orig_flights).sort_values(ascending=False)\n",
    "avg_airline_delay = (airline_delay / airline_flights).sort_values(ascending=False)[0:20]\n",
    "# display(airline_delay.head(), airline_flights.head())\n",
    "avg_airline_delay"
   ]
  },
  {
   "cell_type": "code",
   "execution_count": 53,
   "id": "jewish-ranch",
   "metadata": {
    "execution": {
     "iopub.execute_input": "2021-04-10T09:10:26.770874Z",
     "iopub.status.busy": "2021-04-10T09:10:26.770615Z",
     "iopub.status.idle": "2021-04-10T09:10:26.997292Z",
     "shell.execute_reply": "2021-04-10T09:10:26.996745Z",
     "shell.execute_reply.started": "2021-04-10T09:10:26.770850Z"
    },
    "tags": []
   },
   "outputs": [
    {
     "data": {
      "application/javascript": [
       "\n",
       "        if (window._pyforest_update_imports_cell) { window._pyforest_update_imports_cell('import pandas as pd\\nimport matplotlib.pyplot as plt\\nimport numpy as np'); }\n",
       "    "
      ],
      "text/plain": [
       "<IPython.core.display.Javascript object>"
      ]
     },
     "metadata": {},
     "output_type": "display_data"
    },
    {
     "data": {
      "application/javascript": [
       "\n",
       "        if (window._pyforest_update_imports_cell) { window._pyforest_update_imports_cell('import pandas as pd\\nimport matplotlib.pyplot as plt\\nimport numpy as np'); }\n",
       "    "
      ],
      "text/plain": [
       "<IPython.core.display.Javascript object>"
      ]
     },
     "metadata": {},
     "output_type": "display_data"
    },
    {
     "data": {
      "application/javascript": [
       "\n",
       "        if (window._pyforest_update_imports_cell) { window._pyforest_update_imports_cell('import pandas as pd\\nimport matplotlib.pyplot as plt\\nimport numpy as np'); }\n",
       "    "
      ],
      "text/plain": [
       "<IPython.core.display.Javascript object>"
      ]
     },
     "metadata": {},
     "output_type": "display_data"
    },
    {
     "data": {
      "application/javascript": [
       "\n",
       "        if (window._pyforest_update_imports_cell) { window._pyforest_update_imports_cell('import pandas as pd\\nimport matplotlib.pyplot as plt\\nimport numpy as np'); }\n",
       "    "
      ],
      "text/plain": [
       "<IPython.core.display.Javascript object>"
      ]
     },
     "metadata": {},
     "output_type": "display_data"
    },
    {
     "data": {
      "application/javascript": [
       "\n",
       "        if (window._pyforest_update_imports_cell) { window._pyforest_update_imports_cell('import pandas as pd\\nimport matplotlib.pyplot as plt\\nimport numpy as np'); }\n",
       "    "
      ],
      "text/plain": [
       "<IPython.core.display.Javascript object>"
      ]
     },
     "metadata": {},
     "output_type": "display_data"
    },
    {
     "data": {
      "image/png": "[encoded data removed]",
      "text/plain": [
       "<Figure size 1080x600 with 1 Axes>"
      ]
     },
     "metadata": {},
     "output_type": "display_data"
    }
   ],
   "source": [
    "# airline_delay = gb_orig_delay_flight_minutes[:20].sort_values()\n",
    "\n",
    "ax = avg_airline_delay.plot.barh()\n",
    "plt.xticks(rotation=90)\n",
    "labels = list(avg_airline_delay.index)\n",
    "# ax.set_xticks(np.arange(len(labels)))\n",
    "# ax.set_xticklabels(labels)\n",
    "plt.xlabel('Avg Time in Minutes / Flight')\n",
    "plt.ylabel('Airlines')\n",
    "plt.title('Top 20 Airlines with Delays')\n",
    "plt.show()"
   ]
  },
  {
   "cell_type": "code",
   "execution_count": null,
   "id": "boring-cause",
   "metadata": {},
   "outputs": [],
   "source": []
  },
  {
   "cell_type": "code",
   "execution_count": null,
   "id": "breeding-criminal",
   "metadata": {},
   "outputs": [],
   "source": []
  },
  {
   "cell_type": "markdown",
   "id": "wrong-titanium",
   "metadata": {},
   "source": [
    "<br>\n",
    "<br>"
   ]
  },
  {
   "cell_type": "markdown",
   "id": "attempted-uzbekistan",
   "metadata": {},
   "source": [
    "## During Nov, Dec, Jan which airports had the most delays?"
   ]
  },
  {
   "cell_type": "code",
   "execution_count": 65,
   "id": "surrounded-advancement",
   "metadata": {
    "execution": {
     "iopub.execute_input": "2021-04-10T09:41:55.396621Z",
     "iopub.status.busy": "2021-04-10T09:41:55.396366Z",
     "iopub.status.idle": "2021-04-10T09:41:56.595409Z",
     "shell.execute_reply": "2021-04-10T09:41:56.594868Z",
     "shell.execute_reply.started": "2021-04-10T09:41:55.396597Z"
    },
    "tags": []
   },
   "outputs": [
    {
     "data": {
      "text/html": [
       "<div>\n",
       "<style scoped>\n",
       "    .dataframe tbody tr th:only-of-type {\n",
       "        vertical-align: middle;\n",
       "    }\n",
       "\n",
       "    .dataframe tbody tr th {\n",
       "        vertical-align: top;\n",
       "    }\n",
       "\n",
       "    .dataframe thead th {\n",
       "        text-align: right;\n",
       "    }\n",
       "</style>\n",
       "<table border=\"1\" class=\"dataframe\">\n",
       "  <thead>\n",
       "    <tr style=\"text-align: right;\">\n",
       "      <th></th>\n",
       "      <th>YEAR</th>\n",
       "      <th>MONTH</th>\n",
       "      <th>DAY</th>\n",
       "      <th>DAY_OF_WEEK</th>\n",
       "      <th>AIRLINE_flights</th>\n",
       "      <th>FLIGHT_NUMBER</th>\n",
       "      <th>TAIL_NUMBER</th>\n",
       "      <th>ORIGIN_AIRPORT</th>\n",
       "      <th>DESTINATION_AIRPORT</th>\n",
       "      <th>SCHEDULED_DEPARTURE</th>\n",
       "      <th>...</th>\n",
       "      <th>STATE_OriginAirport</th>\n",
       "      <th>COUNTRY_OriginAirport</th>\n",
       "      <th>LATITUDE_OriginAirport</th>\n",
       "      <th>LONGITUDE_OriginAirport</th>\n",
       "      <th>AIRPORT_DestinationAirport</th>\n",
       "      <th>CITY_DestinationAirport</th>\n",
       "      <th>STATE_DestinationAirport</th>\n",
       "      <th>COUNTRY_DestinationAirport</th>\n",
       "      <th>LATITUDE_DestinationAirport</th>\n",
       "      <th>LONGITUDE_DestinationAirport</th>\n",
       "    </tr>\n",
       "  </thead>\n",
       "  <tbody>\n",
       "    <tr>\n",
       "      <th>0</th>\n",
       "      <td>2015</td>\n",
       "      <td>1</td>\n",
       "      <td>1</td>\n",
       "      <td>4</td>\n",
       "      <td>AS</td>\n",
       "      <td>98</td>\n",
       "      <td>N407AS</td>\n",
       "      <td>ANC</td>\n",
       "      <td>SEA</td>\n",
       "      <td>5</td>\n",
       "      <td>...</td>\n",
       "      <td>AK</td>\n",
       "      <td>USA</td>\n",
       "      <td>61.17432</td>\n",
       "      <td>-149.99619</td>\n",
       "      <td>Seattle-Tacoma International Airport</td>\n",
       "      <td>Seattle</td>\n",
       "      <td>WA</td>\n",
       "      <td>USA</td>\n",
       "      <td>47.44898</td>\n",
       "      <td>-122.30931</td>\n",
       "    </tr>\n",
       "    <tr>\n",
       "      <th>1</th>\n",
       "      <td>2015</td>\n",
       "      <td>1</td>\n",
       "      <td>1</td>\n",
       "      <td>4</td>\n",
       "      <td>AA</td>\n",
       "      <td>2336</td>\n",
       "      <td>N3KUAA</td>\n",
       "      <td>LAX</td>\n",
       "      <td>PBI</td>\n",
       "      <td>10</td>\n",
       "      <td>...</td>\n",
       "      <td>CA</td>\n",
       "      <td>USA</td>\n",
       "      <td>33.94254</td>\n",
       "      <td>-118.40807</td>\n",
       "      <td>Palm Beach International Airport</td>\n",
       "      <td>West Palm Beach</td>\n",
       "      <td>FL</td>\n",
       "      <td>USA</td>\n",
       "      <td>26.68316</td>\n",
       "      <td>-80.09559</td>\n",
       "    </tr>\n",
       "    <tr>\n",
       "      <th>2</th>\n",
       "      <td>2015</td>\n",
       "      <td>1</td>\n",
       "      <td>1</td>\n",
       "      <td>4</td>\n",
       "      <td>US</td>\n",
       "      <td>840</td>\n",
       "      <td>N171US</td>\n",
       "      <td>SFO</td>\n",
       "      <td>CLT</td>\n",
       "      <td>20</td>\n",
       "      <td>...</td>\n",
       "      <td>CA</td>\n",
       "      <td>USA</td>\n",
       "      <td>37.61900</td>\n",
       "      <td>-122.37484</td>\n",
       "      <td>Charlotte Douglas International Airport</td>\n",
       "      <td>Charlotte</td>\n",
       "      <td>NC</td>\n",
       "      <td>USA</td>\n",
       "      <td>35.21401</td>\n",
       "      <td>-80.94313</td>\n",
       "    </tr>\n",
       "    <tr>\n",
       "      <th>3</th>\n",
       "      <td>2015</td>\n",
       "      <td>1</td>\n",
       "      <td>1</td>\n",
       "      <td>4</td>\n",
       "      <td>AA</td>\n",
       "      <td>258</td>\n",
       "      <td>N3HYAA</td>\n",
       "      <td>LAX</td>\n",
       "      <td>MIA</td>\n",
       "      <td>20</td>\n",
       "      <td>...</td>\n",
       "      <td>CA</td>\n",
       "      <td>USA</td>\n",
       "      <td>33.94254</td>\n",
       "      <td>-118.40807</td>\n",
       "      <td>Miami International Airport</td>\n",
       "      <td>Miami</td>\n",
       "      <td>FL</td>\n",
       "      <td>USA</td>\n",
       "      <td>25.79325</td>\n",
       "      <td>-80.29056</td>\n",
       "    </tr>\n",
       "    <tr>\n",
       "      <th>4</th>\n",
       "      <td>2015</td>\n",
       "      <td>1</td>\n",
       "      <td>1</td>\n",
       "      <td>4</td>\n",
       "      <td>AS</td>\n",
       "      <td>135</td>\n",
       "      <td>N527AS</td>\n",
       "      <td>SEA</td>\n",
       "      <td>ANC</td>\n",
       "      <td>25</td>\n",
       "      <td>...</td>\n",
       "      <td>WA</td>\n",
       "      <td>USA</td>\n",
       "      <td>47.44898</td>\n",
       "      <td>-122.30931</td>\n",
       "      <td>Ted Stevens Anchorage International Airport</td>\n",
       "      <td>Anchorage</td>\n",
       "      <td>AK</td>\n",
       "      <td>USA</td>\n",
       "      <td>61.17432</td>\n",
       "      <td>-149.99619</td>\n",
       "    </tr>\n",
       "    <tr>\n",
       "      <th>...</th>\n",
       "      <td>...</td>\n",
       "      <td>...</td>\n",
       "      <td>...</td>\n",
       "      <td>...</td>\n",
       "      <td>...</td>\n",
       "      <td>...</td>\n",
       "      <td>...</td>\n",
       "      <td>...</td>\n",
       "      <td>...</td>\n",
       "      <td>...</td>\n",
       "      <td>...</td>\n",
       "      <td>...</td>\n",
       "      <td>...</td>\n",
       "      <td>...</td>\n",
       "      <td>...</td>\n",
       "      <td>...</td>\n",
       "      <td>...</td>\n",
       "      <td>...</td>\n",
       "      <td>...</td>\n",
       "      <td>...</td>\n",
       "      <td>...</td>\n",
       "    </tr>\n",
       "    <tr>\n",
       "      <th>5819074</th>\n",
       "      <td>2015</td>\n",
       "      <td>12</td>\n",
       "      <td>31</td>\n",
       "      <td>4</td>\n",
       "      <td>B6</td>\n",
       "      <td>688</td>\n",
       "      <td>N657JB</td>\n",
       "      <td>LAX</td>\n",
       "      <td>BOS</td>\n",
       "      <td>2359</td>\n",
       "      <td>...</td>\n",
       "      <td>CA</td>\n",
       "      <td>USA</td>\n",
       "      <td>33.94254</td>\n",
       "      <td>-118.40807</td>\n",
       "      <td>Gen. Edward Lawrence Logan International Airport</td>\n",
       "      <td>Boston</td>\n",
       "      <td>MA</td>\n",
       "      <td>USA</td>\n",
       "      <td>42.36435</td>\n",
       "      <td>-71.00518</td>\n",
       "    </tr>\n",
       "    <tr>\n",
       "      <th>5819075</th>\n",
       "      <td>2015</td>\n",
       "      <td>12</td>\n",
       "      <td>31</td>\n",
       "      <td>4</td>\n",
       "      <td>B6</td>\n",
       "      <td>745</td>\n",
       "      <td>N828JB</td>\n",
       "      <td>JFK</td>\n",
       "      <td>PSE</td>\n",
       "      <td>2359</td>\n",
       "      <td>...</td>\n",
       "      <td>NY</td>\n",
       "      <td>USA</td>\n",
       "      <td>40.63975</td>\n",
       "      <td>-73.77893</td>\n",
       "      <td>Mercedita Airport</td>\n",
       "      <td>Ponce</td>\n",
       "      <td>PR</td>\n",
       "      <td>USA</td>\n",
       "      <td>18.00830</td>\n",
       "      <td>-66.56301</td>\n",
       "    </tr>\n",
       "    <tr>\n",
       "      <th>5819076</th>\n",
       "      <td>2015</td>\n",
       "      <td>12</td>\n",
       "      <td>31</td>\n",
       "      <td>4</td>\n",
       "      <td>B6</td>\n",
       "      <td>1503</td>\n",
       "      <td>N913JB</td>\n",
       "      <td>JFK</td>\n",
       "      <td>SJU</td>\n",
       "      <td>2359</td>\n",
       "      <td>...</td>\n",
       "      <td>NY</td>\n",
       "      <td>USA</td>\n",
       "      <td>40.63975</td>\n",
       "      <td>-73.77893</td>\n",
       "      <td>Luis Muñoz Marín International Airport</td>\n",
       "      <td>San Juan</td>\n",
       "      <td>PR</td>\n",
       "      <td>USA</td>\n",
       "      <td>18.43942</td>\n",
       "      <td>-66.00183</td>\n",
       "    </tr>\n",
       "    <tr>\n",
       "      <th>5819077</th>\n",
       "      <td>2015</td>\n",
       "      <td>12</td>\n",
       "      <td>31</td>\n",
       "      <td>4</td>\n",
       "      <td>B6</td>\n",
       "      <td>333</td>\n",
       "      <td>N527JB</td>\n",
       "      <td>MCO</td>\n",
       "      <td>SJU</td>\n",
       "      <td>2359</td>\n",
       "      <td>...</td>\n",
       "      <td>FL</td>\n",
       "      <td>USA</td>\n",
       "      <td>28.42889</td>\n",
       "      <td>-81.31603</td>\n",
       "      <td>Luis Muñoz Marín International Airport</td>\n",
       "      <td>San Juan</td>\n",
       "      <td>PR</td>\n",
       "      <td>USA</td>\n",
       "      <td>18.43942</td>\n",
       "      <td>-66.00183</td>\n",
       "    </tr>\n",
       "    <tr>\n",
       "      <th>5819078</th>\n",
       "      <td>2015</td>\n",
       "      <td>12</td>\n",
       "      <td>31</td>\n",
       "      <td>4</td>\n",
       "      <td>B6</td>\n",
       "      <td>839</td>\n",
       "      <td>N534JB</td>\n",
       "      <td>JFK</td>\n",
       "      <td>BQN</td>\n",
       "      <td>2359</td>\n",
       "      <td>...</td>\n",
       "      <td>NY</td>\n",
       "      <td>USA</td>\n",
       "      <td>40.63975</td>\n",
       "      <td>-73.77893</td>\n",
       "      <td>Rafael Hernández Airport</td>\n",
       "      <td>Aguadilla</td>\n",
       "      <td>PR</td>\n",
       "      <td>USA</td>\n",
       "      <td>18.49486</td>\n",
       "      <td>-67.12944</td>\n",
       "    </tr>\n",
       "  </tbody>\n",
       "</table>\n",
       "<p>1417170 rows × 44 columns</p>\n",
       "</div>"
      ],
      "text/plain": [
       "         YEAR  MONTH  DAY  DAY_OF_WEEK AIRLINE_flights  FLIGHT_NUMBER  \\\n",
       "0        2015      1    1            4              AS             98   \n",
       "1        2015      1    1            4              AA           2336   \n",
       "2        2015      1    1            4              US            840   \n",
       "3        2015      1    1            4              AA            258   \n",
       "4        2015      1    1            4              AS            135   \n",
       "...       ...    ...  ...          ...             ...            ...   \n",
       "5819074  2015     12   31            4              B6            688   \n",
       "5819075  2015     12   31            4              B6            745   \n",
       "5819076  2015     12   31            4              B6           1503   \n",
       "5819077  2015     12   31            4              B6            333   \n",
       "5819078  2015     12   31            4              B6            839   \n",
       "\n",
       "        TAIL_NUMBER ORIGIN_AIRPORT DESTINATION_AIRPORT  SCHEDULED_DEPARTURE  \\\n",
       "0            N407AS            ANC                 SEA                    5   \n",
       "1            N3KUAA            LAX                 PBI                   10   \n",
       "2            N171US            SFO                 CLT                   20   \n",
       "3            N3HYAA            LAX                 MIA                   20   \n",
       "4            N527AS            SEA                 ANC                   25   \n",
       "...             ...            ...                 ...                  ...   \n",
       "5819074      N657JB            LAX                 BOS                 2359   \n",
       "5819075      N828JB            JFK                 PSE                 2359   \n",
       "5819076      N913JB            JFK                 SJU                 2359   \n",
       "5819077      N527JB            MCO                 SJU                 2359   \n",
       "5819078      N534JB            JFK                 BQN                 2359   \n",
       "\n",
       "         ...  STATE_OriginAirport  COUNTRY_OriginAirport  \\\n",
       "0        ...                   AK                    USA   \n",
       "1        ...                   CA                    USA   \n",
       "2        ...                   CA                    USA   \n",
       "3        ...                   CA                    USA   \n",
       "4        ...                   WA                    USA   \n",
       "...      ...                  ...                    ...   \n",
       "5819074  ...                   CA                    USA   \n",
       "5819075  ...                   NY                    USA   \n",
       "5819076  ...                   NY                    USA   \n",
       "5819077  ...                   FL                    USA   \n",
       "5819078  ...                   NY                    USA   \n",
       "\n",
       "         LATITUDE_OriginAirport  LONGITUDE_OriginAirport  \\\n",
       "0                      61.17432               -149.99619   \n",
       "1                      33.94254               -118.40807   \n",
       "2                      37.61900               -122.37484   \n",
       "3                      33.94254               -118.40807   \n",
       "4                      47.44898               -122.30931   \n",
       "...                         ...                      ...   \n",
       "5819074                33.94254               -118.40807   \n",
       "5819075                40.63975                -73.77893   \n",
       "5819076                40.63975                -73.77893   \n",
       "5819077                28.42889                -81.31603   \n",
       "5819078                40.63975                -73.77893   \n",
       "\n",
       "                               AIRPORT_DestinationAirport  \\\n",
       "0                    Seattle-Tacoma International Airport   \n",
       "1                        Palm Beach International Airport   \n",
       "2                 Charlotte Douglas International Airport   \n",
       "3                             Miami International Airport   \n",
       "4             Ted Stevens Anchorage International Airport   \n",
       "...                                                   ...   \n",
       "5819074  Gen. Edward Lawrence Logan International Airport   \n",
       "5819075                                 Mercedita Airport   \n",
       "5819076            Luis Muñoz Marín International Airport   \n",
       "5819077            Luis Muñoz Marín International Airport   \n",
       "5819078                          Rafael Hernández Airport   \n",
       "\n",
       "         CITY_DestinationAirport  STATE_DestinationAirport  \\\n",
       "0                        Seattle                        WA   \n",
       "1                West Palm Beach                        FL   \n",
       "2                      Charlotte                        NC   \n",
       "3                          Miami                        FL   \n",
       "4                      Anchorage                        AK   \n",
       "...                          ...                       ...   \n",
       "5819074                   Boston                        MA   \n",
       "5819075                    Ponce                        PR   \n",
       "5819076                 San Juan                        PR   \n",
       "5819077                 San Juan                        PR   \n",
       "5819078                Aguadilla                        PR   \n",
       "\n",
       "         COUNTRY_DestinationAirport  LATITUDE_DestinationAirport  \\\n",
       "0                               USA                     47.44898   \n",
       "1                               USA                     26.68316   \n",
       "2                               USA                     35.21401   \n",
       "3                               USA                     25.79325   \n",
       "4                               USA                     61.17432   \n",
       "...                             ...                          ...   \n",
       "5819074                         USA                     42.36435   \n",
       "5819075                         USA                     18.00830   \n",
       "5819076                         USA                     18.43942   \n",
       "5819077                         USA                     18.43942   \n",
       "5819078                         USA                     18.49486   \n",
       "\n",
       "         LONGITUDE_DestinationAirport  \n",
       "0                          -122.30931  \n",
       "1                           -80.09559  \n",
       "2                           -80.94313  \n",
       "3                           -80.29056  \n",
       "4                          -149.99619  \n",
       "...                               ...  \n",
       "5819074                     -71.00518  \n",
       "5819075                     -66.56301  \n",
       "5819076                     -66.00183  \n",
       "5819077                     -66.00183  \n",
       "5819078                     -67.12944  \n",
       "\n",
       "[1417170 rows x 44 columns]"
      ]
     },
     "metadata": {},
     "output_type": "display_data"
    }
   ],
   "source": [
    "df_winter = df[df['MONTH'].isin([11,12,1])]\n",
    "display(df_winter)"
   ]
  },
  {
   "cell_type": "code",
   "execution_count": 75,
   "id": "dominant-necessity",
   "metadata": {
    "execution": {
     "iopub.execute_input": "2021-04-10T10:28:23.471407Z",
     "iopub.status.busy": "2021-04-10T10:28:23.471139Z",
     "iopub.status.idle": "2021-04-10T10:28:24.117186Z",
     "shell.execute_reply": "2021-04-10T10:28:24.116464Z",
     "shell.execute_reply.started": "2021-04-10T10:28:23.471382Z"
    },
    "tags": []
   },
   "outputs": [
    {
     "data": {
      "text/plain": [
       "MONTH  AIRPORT_OriginAirport                         STATE_OriginAirport\n",
       "1      Aberdeen Regional Airport                     SD                     1470.0\n",
       "       Abilene Regional Airport                      TX                     1382.0\n",
       "       Abraham Lincoln Capital Airport               IL                      997.0\n",
       "       Adak Airport                                  AK                      -60.0\n",
       "       Akron-Canton Regional Airport                 OH                     2942.0\n",
       "                                                                             ...  \n",
       "12     Yakutat Airport                               AK                     -773.0\n",
       "       Yampa Valley Airport (Yampa Valley Regional)  CO                     2373.0\n",
       "       Yeager Airport                                WV                     2191.0\n",
       "       Yellowstone Regional Airport                  WY                      409.0\n",
       "       Yuma International Airport                    AZ                     -268.0\n",
       "Name: DEPARTURE_DELAY, Length: 924, dtype: float64"
      ]
     },
     "metadata": {},
     "output_type": "display_data"
    },
    {
     "data": {
      "text/plain": [
       "MONTH  AIRPORT_OriginAirport                         STATE_OriginAirport\n",
       "1      Aberdeen Regional Airport                     SD                      62\n",
       "       Abilene Regional Airport                      TX                     239\n",
       "       Abraham Lincoln Capital Airport               IL                     129\n",
       "       Adak Airport                                  AK                       9\n",
       "       Akron-Canton Regional Airport                 OH                     559\n",
       "                                                                           ... \n",
       "12     Yakutat Airport                               AK                      60\n",
       "       Yampa Valley Airport (Yampa Valley Regional)  CO                     128\n",
       "       Yeager Airport                                WV                     213\n",
       "       Yellowstone Regional Airport                  WY                      35\n",
       "       Yuma International Airport                    AZ                     176\n",
       "Name: AIRLINE_flights, Length: 924, dtype: int64"
      ]
     },
     "metadata": {},
     "output_type": "display_data"
    },
    {
     "data": {
      "text/plain": [
       "MONTH  AIRPORT_OriginAirport                                     STATE_OriginAirport\n",
       "11     Gunnison-Crested Butte Regional Airport                   CO                     74.500000\n",
       "12     Pago Pago International Airport (Tafuna Airport)          AS                     71.300000\n",
       "       Southwest Oregon Regional Airport (North Bend Municipal)  OR                     46.000000\n",
       "       Aspen-Pitkin County Airport                               CO                     43.649123\n",
       "       Eagle County Regional Airport                             CO                     33.208556\n",
       "                                                                                          ...    \n",
       "11     Merle K. (Mudhole) Smith Airport                          AK                     -9.948276\n",
       "       Eagle County Regional Airport                             CO                    -12.000000\n",
       "12     Yakutat Airport                                           AK                    -12.883333\n",
       "11     Yakutat Airport                                           AK                    -13.344828\n",
       "12     Merle K. (Mudhole) Smith Airport                          AK                    -15.133333\n",
       "Length: 924, dtype: float64"
      ]
     },
     "metadata": {},
     "output_type": "display_data"
    }
   ],
   "source": [
    "gb_orig_delay = df_winter.groupby(['MONTH','AIRPORT_OriginAirport', 'STATE_OriginAirport'])['DEPARTURE_DELAY'].sum()\n",
    "gb_orig_flights = df_winter.groupby(['MONTH','AIRPORT_OriginAirport', 'STATE_OriginAirport'])['AIRLINE_flights'].count()\n",
    "gb_orig_delay_flight_minutes = (gb_orig_delay / gb_orig_flights).sort_values(ascending=False)\n",
    "\n",
    "display(gb_orig_delay, gb_orig_flights, gb_orig_delay_flight_minutes)"
   ]
  },
  {
   "cell_type": "code",
   "execution_count": 67,
   "id": "occasional-highlight",
   "metadata": {
    "execution": {
     "iopub.execute_input": "2021-04-10T09:43:09.564439Z",
     "iopub.status.busy": "2021-04-10T09:43:09.564176Z",
     "iopub.status.idle": "2021-04-10T09:43:09.870684Z",
     "shell.execute_reply": "2021-04-10T09:43:09.870144Z",
     "shell.execute_reply.started": "2021-04-10T09:43:09.564416Z"
    },
    "tags": []
   },
   "outputs": [
    {
     "data": {
      "text/plain": [
       "MONTH  AIRPORT_OriginAirport                                     STATE_OriginAirport\n",
       "1      Trenton Mercer Airport                                    NJ                     25.702929\n",
       "12     Rock Springs-Sweetwater County Airport                    WY                     25.947368\n",
       "11     Adak Airport                                              AK                     26.000000\n",
       "12     Albert J. Ellis Airport                                   NC                     26.224490\n",
       "1      Wilmington Airport                                        DE                     26.461538\n",
       "12     Abraham Lincoln Capital Airport                           IL                     26.972973\n",
       "       Jackson Hole Airport                                      WY                     27.424242\n",
       "1      Jamestown Regional Airport                                ND                     28.373333\n",
       "       Del Norte County Airport (Jack McNamara Field)            CA                     28.400000\n",
       "       Southwest Oregon Regional Airport (North Bend Municipal)  OR                     28.588235\n",
       "12     Bert Mooney Airport                                       MT                     30.393443\n",
       "1      Ford Airport                                              MI                     30.706897\n",
       "12     Mammoth Yosemite Airport                                  CA                     31.117647\n",
       "1      Devils Lake Regional Airport                              ND                     31.265306\n",
       "11     Greater Binghamton Airport                                NY                     32.724138\n",
       "12     Eagle County Regional Airport                             CO                     33.208556\n",
       "       Aspen-Pitkin County Airport                               CO                     43.649123\n",
       "       Southwest Oregon Regional Airport (North Bend Municipal)  OR                     46.000000\n",
       "       Pago Pago International Airport (Tafuna Airport)          AS                     71.300000\n",
       "11     Gunnison-Crested Butte Regional Airport                   CO                     74.500000\n",
       "dtype: float64"
      ]
     },
     "metadata": {},
     "output_type": "display_data"
    },
    {
     "data": {
      "application/javascript": [
       "\n",
       "        if (window._pyforest_update_imports_cell) { window._pyforest_update_imports_cell('import pandas as pd\\nimport matplotlib.pyplot as plt\\nimport numpy as np'); }\n",
       "    "
      ],
      "text/plain": [
       "<IPython.core.display.Javascript object>"
      ]
     },
     "metadata": {},
     "output_type": "display_data"
    },
    {
     "data": {
      "application/javascript": [
       "\n",
       "        if (window._pyforest_update_imports_cell) { window._pyforest_update_imports_cell('import pandas as pd\\nimport matplotlib.pyplot as plt\\nimport numpy as np'); }\n",
       "    "
      ],
      "text/plain": [
       "<IPython.core.display.Javascript object>"
      ]
     },
     "metadata": {},
     "output_type": "display_data"
    },
    {
     "data": {
      "application/javascript": [
       "\n",
       "        if (window._pyforest_update_imports_cell) { window._pyforest_update_imports_cell('import pandas as pd\\nimport matplotlib.pyplot as plt\\nimport numpy as np'); }\n",
       "    "
      ],
      "text/plain": [
       "<IPython.core.display.Javascript object>"
      ]
     },
     "metadata": {},
     "output_type": "display_data"
    },
    {
     "data": {
      "application/javascript": [
       "\n",
       "        if (window._pyforest_update_imports_cell) { window._pyforest_update_imports_cell('import pandas as pd\\nimport matplotlib.pyplot as plt\\nimport numpy as np'); }\n",
       "    "
      ],
      "text/plain": [
       "<IPython.core.display.Javascript object>"
      ]
     },
     "metadata": {},
     "output_type": "display_data"
    },
    {
     "data": {
      "application/javascript": [
       "\n",
       "        if (window._pyforest_update_imports_cell) { window._pyforest_update_imports_cell('import pandas as pd\\nimport matplotlib.pyplot as plt\\nimport numpy as np'); }\n",
       "    "
      ],
      "text/plain": [
       "<IPython.core.display.Javascript object>"
      ]
     },
     "metadata": {},
     "output_type": "display_data"
    },
    {
     "data": {
      "image/png": "[encoded data removed]",
      "text/plain": [
       "<Figure size 1080x600 with 1 Axes>"
      ]
     },
     "metadata": {},
     "output_type": "display_data"
    }
   ],
   "source": [
    "top20_delayed = gb_orig_delay_flight_minutes[:20].sort_values()\n",
    "\n",
    "display(top20_delayed)\n",
    "ax = top20_delayed.plot.barh()\n",
    "plt.xticks(rotation=90)\n",
    "labels = list(top20_delayed.index)\n",
    "# ax.set_xticks(np.arange(len(labels)))\n",
    "# ax.set_xticklabels(labels)\n",
    "plt.xlabel('Avg Delay Time in Minutes')\n",
    "plt.ylabel('Airports')\n",
    "plt.title('Top 20 Airports with Delays')\n",
    "plt.show()"
   ]
  },
  {
   "cell_type": "code",
   "execution_count": null,
   "id": "tight-advice",
   "metadata": {},
   "outputs": [],
   "source": []
  },
  {
   "cell_type": "markdown",
   "id": "engaged-stopping",
   "metadata": {},
   "source": [
    "<br>\n",
    "<br>"
   ]
  },
  {
   "cell_type": "markdown",
   "id": "thermal-florist",
   "metadata": {},
   "source": [
    "## Looking for Boston Logan..."
   ]
  },
  {
   "cell_type": "code",
   "execution_count": 91,
   "id": "formal-outreach",
   "metadata": {
    "execution": {
     "iopub.execute_input": "2021-04-10T10:36:58.019102Z",
     "iopub.status.busy": "2021-04-10T10:36:58.018736Z",
     "iopub.status.idle": "2021-04-10T10:36:58.033061Z",
     "shell.execute_reply": "2021-04-10T10:36:58.032439Z",
     "shell.execute_reply.started": "2021-04-10T10:36:58.019068Z"
    },
    "tags": []
   },
   "outputs": [
    {
     "data": {
      "text/html": [
       "<div>\n",
       "<style scoped>\n",
       "    .dataframe tbody tr th:only-of-type {\n",
       "        vertical-align: middle;\n",
       "    }\n",
       "\n",
       "    .dataframe tbody tr th {\n",
       "        vertical-align: top;\n",
       "    }\n",
       "\n",
       "    .dataframe thead th {\n",
       "        text-align: right;\n",
       "    }\n",
       "</style>\n",
       "<table border=\"1\" class=\"dataframe\">\n",
       "  <thead>\n",
       "    <tr style=\"text-align: right;\">\n",
       "      <th></th>\n",
       "      <th>MONTH</th>\n",
       "      <th>AIRPORT_OriginAirport</th>\n",
       "      <th>STATE_OriginAirport</th>\n",
       "      <th>0</th>\n",
       "    </tr>\n",
       "  </thead>\n",
       "  <tbody>\n",
       "    <tr>\n",
       "      <th>149</th>\n",
       "      <td>12</td>\n",
       "      <td>Gen. Edward Lawrence Logan International Airport</td>\n",
       "      <td>MA</td>\n",
       "      <td>12.857456</td>\n",
       "    </tr>\n",
       "    <tr>\n",
       "      <th>407</th>\n",
       "      <td>1</td>\n",
       "      <td>Gen. Edward Lawrence Logan International Airport</td>\n",
       "      <td>MA</td>\n",
       "      <td>8.353627</td>\n",
       "    </tr>\n",
       "    <tr>\n",
       "      <th>730</th>\n",
       "      <td>11</td>\n",
       "      <td>Gen. Edward Lawrence Logan International Airport</td>\n",
       "      <td>MA</td>\n",
       "      <td>3.706255</td>\n",
       "    </tr>\n",
       "  </tbody>\n",
       "</table>\n",
       "</div>"
      ],
      "text/plain": [
       "     MONTH                             AIRPORT_OriginAirport  \\\n",
       "149     12  Gen. Edward Lawrence Logan International Airport   \n",
       "407      1  Gen. Edward Lawrence Logan International Airport   \n",
       "730     11  Gen. Edward Lawrence Logan International Airport   \n",
       "\n",
       "    STATE_OriginAirport          0  \n",
       "149                  MA  12.857456  \n",
       "407                  MA   8.353627  \n",
       "730                  MA   3.706255  "
      ]
     },
     "execution_count": 91,
     "metadata": {},
     "output_type": "execute_result"
    }
   ],
   "source": [
    "bos =  gb_orig_delay_flight_minutes.sort_values(ascending=False).reset_index()\n",
    "bos[bos['AIRPORT_OriginAirport'] == 'Gen. Edward Lawrence Logan International Airport']"
   ]
  },
  {
   "cell_type": "markdown",
   "id": "narrow-salmon",
   "metadata": {},
   "source": [
    "<br>\n",
    "<br>"
   ]
  },
  {
   "cell_type": "markdown",
   "id": "clinical-lover",
   "metadata": {},
   "source": [
    "## Which airlines had the most airline-related delays?"
   ]
  },
  {
   "cell_type": "code",
   "execution_count": 101,
   "id": "tropical-literature",
   "metadata": {
    "execution": {
     "iopub.execute_input": "2021-04-10T11:14:24.427694Z",
     "iopub.status.busy": "2021-04-10T11:14:24.427379Z",
     "iopub.status.idle": "2021-04-10T11:14:24.648352Z",
     "shell.execute_reply": "2021-04-10T11:14:24.647814Z",
     "shell.execute_reply.started": "2021-04-10T11:14:24.427670Z"
    },
    "tags": []
   },
   "outputs": [],
   "source": [
    "df_delay = df[df['AIRLINE_DELAY'] > 0]"
   ]
  },
  {
   "cell_type": "code",
   "execution_count": 102,
   "id": "bright-syndicate",
   "metadata": {
    "execution": {
     "iopub.execute_input": "2021-04-10T11:14:25.926572Z",
     "iopub.status.busy": "2021-04-10T11:14:25.926316Z",
     "iopub.status.idle": "2021-04-10T11:14:26.907296Z",
     "shell.execute_reply": "2021-04-10T11:14:26.906760Z",
     "shell.execute_reply.started": "2021-04-10T11:14:25.926548Z"
    },
    "tags": []
   },
   "outputs": [],
   "source": [
    "df_airline_delay_by_airline = df_delay.groupby('AIRLINE_airlines').sum()['AIRLINE_DELAY']\n",
    "airline_flights = df.groupby('AIRLINE_airlines')['AIRLINE_airlines'].count()\n",
    "df_airline_delay_by_airline_avg = (df_airline_delay_by_airline / airline_flights).sort_values(ascending=False)[0:20]"
   ]
  },
  {
   "cell_type": "code",
   "execution_count": 105,
   "id": "parliamentary-oxygen",
   "metadata": {
    "execution": {
     "iopub.execute_input": "2021-04-10T11:17:45.130073Z",
     "iopub.status.busy": "2021-04-10T11:17:45.129809Z",
     "iopub.status.idle": "2021-04-10T11:17:45.343970Z",
     "shell.execute_reply": "2021-04-10T11:17:45.343419Z",
     "shell.execute_reply.started": "2021-04-10T11:17:45.130049Z"
    },
    "tags": []
   },
   "outputs": [
    {
     "data": {
      "application/javascript": [
       "\n",
       "        if (window._pyforest_update_imports_cell) { window._pyforest_update_imports_cell('import pandas as pd\\nimport matplotlib.pyplot as plt\\nimport numpy as np'); }\n",
       "    "
      ],
      "text/plain": [
       "<IPython.core.display.Javascript object>"
      ]
     },
     "metadata": {},
     "output_type": "display_data"
    },
    {
     "data": {
      "application/javascript": [
       "\n",
       "        if (window._pyforest_update_imports_cell) { window._pyforest_update_imports_cell('import pandas as pd\\nimport matplotlib.pyplot as plt\\nimport numpy as np'); }\n",
       "    "
      ],
      "text/plain": [
       "<IPython.core.display.Javascript object>"
      ]
     },
     "metadata": {},
     "output_type": "display_data"
    },
    {
     "data": {
      "application/javascript": [
       "\n",
       "        if (window._pyforest_update_imports_cell) { window._pyforest_update_imports_cell('import pandas as pd\\nimport matplotlib.pyplot as plt\\nimport numpy as np'); }\n",
       "    "
      ],
      "text/plain": [
       "<IPython.core.display.Javascript object>"
      ]
     },
     "metadata": {},
     "output_type": "display_data"
    },
    {
     "data": {
      "application/javascript": [
       "\n",
       "        if (window._pyforest_update_imports_cell) { window._pyforest_update_imports_cell('import pandas as pd\\nimport matplotlib.pyplot as plt\\nimport numpy as np'); }\n",
       "    "
      ],
      "text/plain": [
       "<IPython.core.display.Javascript object>"
      ]
     },
     "metadata": {},
     "output_type": "display_data"
    },
    {
     "data": {
      "application/javascript": [
       "\n",
       "        if (window._pyforest_update_imports_cell) { window._pyforest_update_imports_cell('import pandas as pd\\nimport matplotlib.pyplot as plt\\nimport numpy as np'); }\n",
       "    "
      ],
      "text/plain": [
       "<IPython.core.display.Javascript object>"
      ]
     },
     "metadata": {},
     "output_type": "display_data"
    },
    {
     "data": {
      "image/png": "[encoded data removed]",
      "text/plain": [
       "<Figure size 1080x600 with 1 Axes>"
      ]
     },
     "metadata": {},
     "output_type": "display_data"
    }
   ],
   "source": [
    "# airline_delay = gb_orig_delay_flight_minutes[:20].sort_values()\n",
    "\n",
    "ax = df_airline_delay_by_airline_avg.plot.barh()\n",
    "plt.xticks(rotation=90)\n",
    "labels = list(df_airline_delay_by_airline_avg.index)\n",
    "# ax.set_xticks(np.arange(len(labels)))\n",
    "# ax.set_xticklabels(labels)\n",
    "plt.xlabel('Avg Minutes where the Airlines Delayed the Flight (over all Flights)')\n",
    "plt.ylabel('Airlines')\n",
    "plt.title('Top 20 Delays where the Airline was the Cause')\n",
    "plt.show()"
   ]
  },
  {
   "cell_type": "code",
   "execution_count": null,
   "id": "frank-detective",
   "metadata": {},
   "outputs": [],
   "source": []
  },
  {
   "cell_type": "code",
   "execution_count": null,
   "id": "monetary-determination",
   "metadata": {},
   "outputs": [],
   "source": []
  },
  {
   "cell_type": "code",
   "execution_count": null,
   "id": "enhanced-burton",
   "metadata": {},
   "outputs": [],
   "source": []
  },
  {
   "cell_type": "code",
   "execution_count": null,
   "id": "ideal-crazy",
   "metadata": {},
   "outputs": [],
   "source": [
    "df_10k = df.sample(10000)"
   ]
  },
  {
   "cell_type": "code",
   "execution_count": null,
   "id": "strategic-active",
   "metadata": {},
   "outputs": [],
   "source": [
    "import gc\n",
    "del df_flights\n",
    "del df_airports\n",
    "del df_airlines\n",
    "# del df\n",
    "# del profile\n",
    "gc.collect()"
   ]
  },
  {
   "cell_type": "code",
   "execution_count": null,
   "id": "atomic-miniature",
   "metadata": {
    "scrolled": true
   },
   "outputs": [],
   "source": [
    "df_10k"
   ]
  },
  {
   "cell_type": "code",
   "execution_count": null,
   "id": "harmful-generator",
   "metadata": {},
   "outputs": [],
   "source": [
    "profile = ProfileReport(df_10k, title='Flights Profiling Report', explorative=True)"
   ]
  },
  {
   "cell_type": "code",
   "execution_count": null,
   "id": "sound-castle",
   "metadata": {},
   "outputs": [],
   "source": [
    "profile.to_widgets()"
   ]
  },
  {
   "cell_type": "code",
   "execution_count": null,
   "id": "powerful-juice",
   "metadata": {},
   "outputs": [],
   "source": [
    "df_10k.to_csv('../data/conjoined_flights_10k.csv')"
   ]
  },
  {
   "cell_type": "code",
   "execution_count": 3,
   "id": "answering-spectacular",
   "metadata": {},
   "outputs": [
    {
     "data": {
      "application/javascript": [
       "\n",
       "        if (window._pyforest_update_imports_cell) { window._pyforest_update_imports_cell('import pandas as pd'); }\n",
       "    "
      ],
      "text/plain": [
       "<IPython.core.display.Javascript object>"
      ]
     },
     "metadata": {},
     "output_type": "display_data"
    }
   ],
   "source": [
    "df_10k = pd.read_csv('../data/conjoined_flights_10k.csv')"
   ]
  },
  {
   "cell_type": "code",
   "execution_count": 4,
   "id": "advance-shame",
   "metadata": {
    "scrolled": true
   },
   "outputs": [
    {
     "data": {
      "text/html": [
       "<div>\n",
       "<style scoped>\n",
       "    .dataframe tbody tr th:only-of-type {\n",
       "        vertical-align: middle;\n",
       "    }\n",
       "\n",
       "    .dataframe tbody tr th {\n",
       "        vertical-align: top;\n",
       "    }\n",
       "\n",
       "    .dataframe thead th {\n",
       "        text-align: right;\n",
       "    }\n",
       "</style>\n",
       "<table border=\"1\" class=\"dataframe\">\n",
       "  <thead>\n",
       "    <tr style=\"text-align: right;\">\n",
       "      <th></th>\n",
       "      <th>Unnamed: 0</th>\n",
       "      <th>YEAR</th>\n",
       "      <th>MONTH</th>\n",
       "      <th>DAY</th>\n",
       "      <th>DAY_OF_WEEK</th>\n",
       "      <th>AIRLINE_flights</th>\n",
       "      <th>FLIGHT_NUMBER</th>\n",
       "      <th>TAIL_NUMBER</th>\n",
       "      <th>ORIGIN_AIRPORT</th>\n",
       "      <th>DESTINATION_AIRPORT</th>\n",
       "      <th>...</th>\n",
       "      <th>STATE_OriginAirport</th>\n",
       "      <th>COUNTRY_OriginAirport</th>\n",
       "      <th>LATITUDE_OriginAirport</th>\n",
       "      <th>LONGITUDE_OriginAirport</th>\n",
       "      <th>AIRPORT_DestinationAirport</th>\n",
       "      <th>CITY_DestinationAirport</th>\n",
       "      <th>STATE_DestinationAirport</th>\n",
       "      <th>COUNTRY_DestinationAirport</th>\n",
       "      <th>LATITUDE_DestinationAirport</th>\n",
       "      <th>LONGITUDE_DestinationAirport</th>\n",
       "    </tr>\n",
       "  </thead>\n",
       "  <tbody>\n",
       "    <tr>\n",
       "      <th>0</th>\n",
       "      <td>339652</td>\n",
       "      <td>2015-01-01 00:00:00</td>\n",
       "      <td>1900-01-01 00:01:00</td>\n",
       "      <td>1900-01-23 00:00:00</td>\n",
       "      <td>5</td>\n",
       "      <td>WN</td>\n",
       "      <td>319</td>\n",
       "      <td>N751SW</td>\n",
       "      <td>ATL</td>\n",
       "      <td>BOS</td>\n",
       "      <td>...</td>\n",
       "      <td>GA</td>\n",
       "      <td>USA</td>\n",
       "      <td>33.64044</td>\n",
       "      <td>-84.42694</td>\n",
       "      <td>Gen. Edward Lawrence Logan International Airport</td>\n",
       "      <td>Boston</td>\n",
       "      <td>MA</td>\n",
       "      <td>USA</td>\n",
       "      <td>42.36435</td>\n",
       "      <td>-71.00518</td>\n",
       "    </tr>\n",
       "    <tr>\n",
       "      <th>1</th>\n",
       "      <td>2009574</td>\n",
       "      <td>2015-01-01 00:00:00</td>\n",
       "      <td>1900-01-01 00:05:00</td>\n",
       "      <td>1900-01-08 00:00:00</td>\n",
       "      <td>5</td>\n",
       "      <td>EV</td>\n",
       "      <td>4989</td>\n",
       "      <td>N722EV</td>\n",
       "      <td>GSO</td>\n",
       "      <td>ATL</td>\n",
       "      <td>...</td>\n",
       "      <td>NC</td>\n",
       "      <td>USA</td>\n",
       "      <td>36.09775</td>\n",
       "      <td>-79.93730</td>\n",
       "      <td>Hartsfield-Jackson Atlanta International Airport</td>\n",
       "      <td>Atlanta</td>\n",
       "      <td>GA</td>\n",
       "      <td>USA</td>\n",
       "      <td>33.64044</td>\n",
       "      <td>-84.42694</td>\n",
       "    </tr>\n",
       "    <tr>\n",
       "      <th>2</th>\n",
       "      <td>765050</td>\n",
       "      <td>2015-01-01 00:00:00</td>\n",
       "      <td>1900-01-01 00:02:00</td>\n",
       "      <td>1900-01-20 00:00:00</td>\n",
       "      <td>5</td>\n",
       "      <td>OO</td>\n",
       "      <td>6394</td>\n",
       "      <td>N507CA</td>\n",
       "      <td>DEN</td>\n",
       "      <td>MSN</td>\n",
       "      <td>...</td>\n",
       "      <td>CO</td>\n",
       "      <td>USA</td>\n",
       "      <td>39.85841</td>\n",
       "      <td>-104.66700</td>\n",
       "      <td>Dane County Regional Airport</td>\n",
       "      <td>Madison</td>\n",
       "      <td>WI</td>\n",
       "      <td>USA</td>\n",
       "      <td>43.13986</td>\n",
       "      <td>-89.33751</td>\n",
       "    </tr>\n",
       "    <tr>\n",
       "      <th>3</th>\n",
       "      <td>5692858</td>\n",
       "      <td>2015-01-01 00:00:00</td>\n",
       "      <td>1900-01-01 00:12:00</td>\n",
       "      <td>1900-01-23 00:00:00</td>\n",
       "      <td>3</td>\n",
       "      <td>OO</td>\n",
       "      <td>5231</td>\n",
       "      <td>N971SW</td>\n",
       "      <td>DEN</td>\n",
       "      <td>SLC</td>\n",
       "      <td>...</td>\n",
       "      <td>CO</td>\n",
       "      <td>USA</td>\n",
       "      <td>39.85841</td>\n",
       "      <td>-104.66700</td>\n",
       "      <td>Salt Lake City International Airport</td>\n",
       "      <td>Salt Lake City</td>\n",
       "      <td>UT</td>\n",
       "      <td>USA</td>\n",
       "      <td>40.78839</td>\n",
       "      <td>-111.97777</td>\n",
       "    </tr>\n",
       "    <tr>\n",
       "      <th>4</th>\n",
       "      <td>1964641</td>\n",
       "      <td>2015-01-01 00:00:00</td>\n",
       "      <td>1900-01-01 00:05:00</td>\n",
       "      <td>1900-01-05 00:00:00</td>\n",
       "      <td>2</td>\n",
       "      <td>AA</td>\n",
       "      <td>2299</td>\n",
       "      <td>N502AA</td>\n",
       "      <td>DFW</td>\n",
       "      <td>TPA</td>\n",
       "      <td>...</td>\n",
       "      <td>TX</td>\n",
       "      <td>USA</td>\n",
       "      <td>32.89595</td>\n",
       "      <td>-97.03720</td>\n",
       "      <td>Tampa International Airport</td>\n",
       "      <td>Tampa</td>\n",
       "      <td>FL</td>\n",
       "      <td>USA</td>\n",
       "      <td>27.97547</td>\n",
       "      <td>-82.53325</td>\n",
       "    </tr>\n",
       "    <tr>\n",
       "      <th>...</th>\n",
       "      <td>...</td>\n",
       "      <td>...</td>\n",
       "      <td>...</td>\n",
       "      <td>...</td>\n",
       "      <td>...</td>\n",
       "      <td>...</td>\n",
       "      <td>...</td>\n",
       "      <td>...</td>\n",
       "      <td>...</td>\n",
       "      <td>...</td>\n",
       "      <td>...</td>\n",
       "      <td>...</td>\n",
       "      <td>...</td>\n",
       "      <td>...</td>\n",
       "      <td>...</td>\n",
       "      <td>...</td>\n",
       "      <td>...</td>\n",
       "      <td>...</td>\n",
       "      <td>...</td>\n",
       "      <td>...</td>\n",
       "      <td>...</td>\n",
       "    </tr>\n",
       "    <tr>\n",
       "      <th>9995</th>\n",
       "      <td>4759491</td>\n",
       "      <td>2015-01-01 00:00:00</td>\n",
       "      <td>1900-01-01 00:10:00</td>\n",
       "      <td>1900-01-24 00:00:00</td>\n",
       "      <td>6</td>\n",
       "      <td>WN</td>\n",
       "      <td>1495</td>\n",
       "      <td>N299WN</td>\n",
       "      <td>14679</td>\n",
       "      <td>14107</td>\n",
       "      <td>...</td>\n",
       "      <td>NaN</td>\n",
       "      <td>NaN</td>\n",
       "      <td>NaN</td>\n",
       "      <td>NaN</td>\n",
       "      <td>NaN</td>\n",
       "      <td>NaN</td>\n",
       "      <td>NaN</td>\n",
       "      <td>NaN</td>\n",
       "      <td>NaN</td>\n",
       "      <td>NaN</td>\n",
       "    </tr>\n",
       "    <tr>\n",
       "      <th>9996</th>\n",
       "      <td>3911791</td>\n",
       "      <td>2015-01-01 00:00:00</td>\n",
       "      <td>1900-01-01 00:08:00</td>\n",
       "      <td>1900-01-31 00:00:00</td>\n",
       "      <td>1</td>\n",
       "      <td>OO</td>\n",
       "      <td>6303</td>\n",
       "      <td>N730SK</td>\n",
       "      <td>DEN</td>\n",
       "      <td>ATL</td>\n",
       "      <td>...</td>\n",
       "      <td>CO</td>\n",
       "      <td>USA</td>\n",
       "      <td>39.85841</td>\n",
       "      <td>-104.66700</td>\n",
       "      <td>Hartsfield-Jackson Atlanta International Airport</td>\n",
       "      <td>Atlanta</td>\n",
       "      <td>GA</td>\n",
       "      <td>USA</td>\n",
       "      <td>33.64044</td>\n",
       "      <td>-84.42694</td>\n",
       "    </tr>\n",
       "    <tr>\n",
       "      <th>9997</th>\n",
       "      <td>434749</td>\n",
       "      <td>2015-01-01 00:00:00</td>\n",
       "      <td>1900-01-01 00:01:00</td>\n",
       "      <td>1900-01-29 00:00:00</td>\n",
       "      <td>4</td>\n",
       "      <td>DL</td>\n",
       "      <td>2471</td>\n",
       "      <td>N661DN</td>\n",
       "      <td>ATL</td>\n",
       "      <td>AUS</td>\n",
       "      <td>...</td>\n",
       "      <td>GA</td>\n",
       "      <td>USA</td>\n",
       "      <td>33.64044</td>\n",
       "      <td>-84.42694</td>\n",
       "      <td>Austin-Bergstrom International Airport</td>\n",
       "      <td>Austin</td>\n",
       "      <td>TX</td>\n",
       "      <td>USA</td>\n",
       "      <td>30.19453</td>\n",
       "      <td>-97.66987</td>\n",
       "    </tr>\n",
       "    <tr>\n",
       "      <th>9998</th>\n",
       "      <td>5783841</td>\n",
       "      <td>2015-01-01 00:00:00</td>\n",
       "      <td>1900-01-01 00:12:00</td>\n",
       "      <td>1900-01-29 00:00:00</td>\n",
       "      <td>2</td>\n",
       "      <td>VX</td>\n",
       "      <td>416</td>\n",
       "      <td>N845VA</td>\n",
       "      <td>LAX</td>\n",
       "      <td>JFK</td>\n",
       "      <td>...</td>\n",
       "      <td>CA</td>\n",
       "      <td>USA</td>\n",
       "      <td>33.94254</td>\n",
       "      <td>-118.40807</td>\n",
       "      <td>John F. Kennedy International Airport (New Yor...</td>\n",
       "      <td>New York</td>\n",
       "      <td>NY</td>\n",
       "      <td>USA</td>\n",
       "      <td>40.63975</td>\n",
       "      <td>-73.77893</td>\n",
       "    </tr>\n",
       "    <tr>\n",
       "      <th>9999</th>\n",
       "      <td>357378</td>\n",
       "      <td>2015-01-01 00:00:00</td>\n",
       "      <td>1900-01-01 00:01:00</td>\n",
       "      <td>1900-01-24 00:00:00</td>\n",
       "      <td>6</td>\n",
       "      <td>US</td>\n",
       "      <td>692</td>\n",
       "      <td>N908AW</td>\n",
       "      <td>PHX</td>\n",
       "      <td>HNL</td>\n",
       "      <td>...</td>\n",
       "      <td>AZ</td>\n",
       "      <td>USA</td>\n",
       "      <td>33.43417</td>\n",
       "      <td>-112.00806</td>\n",
       "      <td>Honolulu International Airport</td>\n",
       "      <td>Honolulu</td>\n",
       "      <td>HI</td>\n",
       "      <td>USA</td>\n",
       "      <td>21.31869</td>\n",
       "      <td>-157.92241</td>\n",
       "    </tr>\n",
       "  </tbody>\n",
       "</table>\n",
       "<p>10000 rows × 45 columns</p>\n",
       "</div>"
      ],
      "text/plain": [
       "      Unnamed: 0                 YEAR                MONTH  \\\n",
       "0         339652  2015-01-01 00:00:00  1900-01-01 00:01:00   \n",
       "1        2009574  2015-01-01 00:00:00  1900-01-01 00:05:00   \n",
       "2         765050  2015-01-01 00:00:00  1900-01-01 00:02:00   \n",
       "3        5692858  2015-01-01 00:00:00  1900-01-01 00:12:00   \n",
       "4        1964641  2015-01-01 00:00:00  1900-01-01 00:05:00   \n",
       "...          ...                  ...                  ...   \n",
       "9995     4759491  2015-01-01 00:00:00  1900-01-01 00:10:00   \n",
       "9996     3911791  2015-01-01 00:00:00  1900-01-01 00:08:00   \n",
       "9997      434749  2015-01-01 00:00:00  1900-01-01 00:01:00   \n",
       "9998     5783841  2015-01-01 00:00:00  1900-01-01 00:12:00   \n",
       "9999      357378  2015-01-01 00:00:00  1900-01-01 00:01:00   \n",
       "\n",
       "                      DAY  DAY_OF_WEEK AIRLINE_flights  FLIGHT_NUMBER  \\\n",
       "0     1900-01-23 00:00:00            5              WN            319   \n",
       "1     1900-01-08 00:00:00            5              EV           4989   \n",
       "2     1900-01-20 00:00:00            5              OO           6394   \n",
       "3     1900-01-23 00:00:00            3              OO           5231   \n",
       "4     1900-01-05 00:00:00            2              AA           2299   \n",
       "...                   ...          ...             ...            ...   \n",
       "9995  1900-01-24 00:00:00            6              WN           1495   \n",
       "9996  1900-01-31 00:00:00            1              OO           6303   \n",
       "9997  1900-01-29 00:00:00            4              DL           2471   \n",
       "9998  1900-01-29 00:00:00            2              VX            416   \n",
       "9999  1900-01-24 00:00:00            6              US            692   \n",
       "\n",
       "     TAIL_NUMBER ORIGIN_AIRPORT DESTINATION_AIRPORT  ...  STATE_OriginAirport  \\\n",
       "0         N751SW            ATL                 BOS  ...                   GA   \n",
       "1         N722EV            GSO                 ATL  ...                   NC   \n",
       "2         N507CA            DEN                 MSN  ...                   CO   \n",
       "3         N971SW            DEN                 SLC  ...                   CO   \n",
       "4         N502AA            DFW                 TPA  ...                   TX   \n",
       "...          ...            ...                 ...  ...                  ...   \n",
       "9995      N299WN          14679               14107  ...                  NaN   \n",
       "9996      N730SK            DEN                 ATL  ...                   CO   \n",
       "9997      N661DN            ATL                 AUS  ...                   GA   \n",
       "9998      N845VA            LAX                 JFK  ...                   CA   \n",
       "9999      N908AW            PHX                 HNL  ...                   AZ   \n",
       "\n",
       "      COUNTRY_OriginAirport  LATITUDE_OriginAirport  LONGITUDE_OriginAirport  \\\n",
       "0                       USA                33.64044                -84.42694   \n",
       "1                       USA                36.09775                -79.93730   \n",
       "2                       USA                39.85841               -104.66700   \n",
       "3                       USA                39.85841               -104.66700   \n",
       "4                       USA                32.89595                -97.03720   \n",
       "...                     ...                     ...                      ...   \n",
       "9995                    NaN                     NaN                      NaN   \n",
       "9996                    USA                39.85841               -104.66700   \n",
       "9997                    USA                33.64044                -84.42694   \n",
       "9998                    USA                33.94254               -118.40807   \n",
       "9999                    USA                33.43417               -112.00806   \n",
       "\n",
       "                             AIRPORT_DestinationAirport  \\\n",
       "0      Gen. Edward Lawrence Logan International Airport   \n",
       "1      Hartsfield-Jackson Atlanta International Airport   \n",
       "2                          Dane County Regional Airport   \n",
       "3                  Salt Lake City International Airport   \n",
       "4                           Tampa International Airport   \n",
       "...                                                 ...   \n",
       "9995                                                NaN   \n",
       "9996   Hartsfield-Jackson Atlanta International Airport   \n",
       "9997             Austin-Bergstrom International Airport   \n",
       "9998  John F. Kennedy International Airport (New Yor...   \n",
       "9999                     Honolulu International Airport   \n",
       "\n",
       "      CITY_DestinationAirport  STATE_DestinationAirport  \\\n",
       "0                      Boston                        MA   \n",
       "1                     Atlanta                        GA   \n",
       "2                     Madison                        WI   \n",
       "3              Salt Lake City                        UT   \n",
       "4                       Tampa                        FL   \n",
       "...                       ...                       ...   \n",
       "9995                      NaN                       NaN   \n",
       "9996                  Atlanta                        GA   \n",
       "9997                   Austin                        TX   \n",
       "9998                 New York                        NY   \n",
       "9999                 Honolulu                        HI   \n",
       "\n",
       "      COUNTRY_DestinationAirport  LATITUDE_DestinationAirport  \\\n",
       "0                            USA                     42.36435   \n",
       "1                            USA                     33.64044   \n",
       "2                            USA                     43.13986   \n",
       "3                            USA                     40.78839   \n",
       "4                            USA                     27.97547   \n",
       "...                          ...                          ...   \n",
       "9995                         NaN                          NaN   \n",
       "9996                         USA                     33.64044   \n",
       "9997                         USA                     30.19453   \n",
       "9998                         USA                     40.63975   \n",
       "9999                         USA                     21.31869   \n",
       "\n",
       "      LONGITUDE_DestinationAirport  \n",
       "0                        -71.00518  \n",
       "1                        -84.42694  \n",
       "2                        -89.33751  \n",
       "3                       -111.97777  \n",
       "4                        -82.53325  \n",
       "...                            ...  \n",
       "9995                           NaN  \n",
       "9996                     -84.42694  \n",
       "9997                     -97.66987  \n",
       "9998                     -73.77893  \n",
       "9999                    -157.92241  \n",
       "\n",
       "[10000 rows x 45 columns]"
      ]
     },
     "execution_count": 4,
     "metadata": {},
     "output_type": "execute_result"
    }
   ],
   "source": []
  },
  {
   "cell_type": "code",
   "execution_count": 14,
   "id": "thick-reason",
   "metadata": {},
   "outputs": [],
   "source": [
    "profile = ProfileReport(df_10k, title='Flights Profiling Report', explorative=True)"
   ]
  },
  {
   "cell_type": "code",
   "execution_count": 6,
   "id": "warming-andorra",
   "metadata": {},
   "outputs": [
    {
     "data": {
      "application/vnd.jupyter.widget-view+json": {
       "model_id": "eab1a913eae3442883197f515f6571ed",
       "version_major": 2,
       "version_minor": 0
      },
      "text/plain": [
       "Summarize dataset:   0%|          | 0/58 [00:00<?, ?it/s]"
      ]
     },
     "metadata": {},
     "output_type": "display_data"
    },
    {
     "name": "stderr",
     "output_type": "stream",
     "text": [
      "/home/frank/miniconda3/envs/learn/lib/python3.8/site-packages/pandas_profiling/model/correlations.py:133: UserWarning: There was an attempt to calculate the cramers correlation, but this failed.\n",
      "To hide this warning, disable the calculation\n",
      "(using `df.profile_report(correlations={\"cramers\": {\"calculate\": False}})`\n",
      "If this is problematic for your use case, please report this as an issue:\n",
      "https://github.com/pandas-profiling/pandas-profiling/issues\n",
      "(include the error message: 'No data; `observed` has size 0.')\n",
      "  warnings.warn(\n"
     ]
    },
    {
     "data": {
      "application/vnd.jupyter.widget-view+json": {
       "model_id": "217b8514ce09459087a7b217a9a41a3a",
       "version_major": 2,
       "version_minor": 0
      },
      "text/plain": [
       "Generate report structure:   0%|          | 0/1 [00:00<?, ?it/s]"
      ]
     },
     "metadata": {},
     "output_type": "display_data"
    },
    {
     "data": {
      "application/vnd.jupyter.widget-view+json": {
       "model_id": "18b19eaa9cd14fc782a6c942dbb9c2da",
       "version_major": 2,
       "version_minor": 0
      },
      "text/plain": [
       "Render widgets:   0%|          | 0/1 [00:00<?, ?it/s]"
      ]
     },
     "metadata": {},
     "output_type": "display_data"
    },
    {
     "data": {
      "application/vnd.jupyter.widget-view+json": {
       "model_id": "2afd78af7a8b442185807c412f65da13",
       "version_major": 2,
       "version_minor": 0
      },
      "text/plain": [
       "VBox(children=(Tab(children=(Tab(children=(GridBox(children=(VBox(children=(GridspecLayout(children=(HTML(valu…"
      ]
     },
     "metadata": {},
     "output_type": "display_data"
    }
   ],
   "source": [
    "profile.to_widgets()"
   ]
  },
  {
   "cell_type": "code",
   "execution_count": 15,
   "id": "alternate-canada",
   "metadata": {},
   "outputs": [
    {
     "data": {
      "application/vnd.jupyter.widget-view+json": {
       "model_id": "9ea4f93b554747338c1705a57ddd86fa",
       "version_major": 2,
       "version_minor": 0
      },
      "text/plain": [
       "Summarize dataset:   0%|          | 0/58 [00:00<?, ?it/s]"
      ]
     },
     "metadata": {},
     "output_type": "display_data"
    },
    {
     "name": "stderr",
     "output_type": "stream",
     "text": [
      "/home/frank/miniconda3/envs/learn/lib/python3.8/site-packages/pandas_profiling/model/correlations.py:133: UserWarning: There was an attempt to calculate the cramers correlation, but this failed.\n",
      "To hide this warning, disable the calculation\n",
      "(using `df.profile_report(correlations={\"cramers\": {\"calculate\": False}})`\n",
      "If this is problematic for your use case, please report this as an issue:\n",
      "https://github.com/pandas-profiling/pandas-profiling/issues\n",
      "(include the error message: 'No data; `observed` has size 0.')\n",
      "  warnings.warn(\n"
     ]
    },
    {
     "data": {
      "application/vnd.jupyter.widget-view+json": {
       "model_id": "79fd0a068c8f441aa30a05c55fadcbac",
       "version_major": 2,
       "version_minor": 0
      },
      "text/plain": [
       "Generate report structure:   0%|          | 0/1 [00:00<?, ?it/s]"
      ]
     },
     "metadata": {},
     "output_type": "display_data"
    },
    {
     "data": {
      "application/vnd.jupyter.widget-view+json": {
       "model_id": "9699e2f4f38447daa09d3bad1e25276a",
       "version_major": 2,
       "version_minor": 0
      },
      "text/plain": [
       "Render HTML:   0%|          | 0/1 [00:00<?, ?it/s]"
      ]
     },
     "metadata": {},
     "output_type": "display_data"
    },
    {
     "data": {
      "application/vnd.jupyter.widget-view+json": {
       "model_id": "f28df47dd9394d5ca5dc2ea458b4e711",
       "version_major": 2,
       "version_minor": 0
      },
      "text/plain": [
       "Export report to file:   0%|          | 0/1 [00:00<?, ?it/s]"
      ]
     },
     "metadata": {},
     "output_type": "display_data"
    }
   ],
   "source": [
    "profile.to_file('profile_report.html')"
   ]
  },
  {
   "cell_type": "code",
   "execution_count": 8,
   "id": "cleared-intermediate",
   "metadata": {},
   "outputs": [],
   "source": [
    "df_10k.ORIGIN_AIRPORT = df_10k.ORIGIN_AIRPORT.astype('category')"
   ]
  },
  {
   "cell_type": "code",
   "execution_count": 9,
   "id": "alternate-progressive",
   "metadata": {},
   "outputs": [],
   "source": [
    "df_10k.DESTINATION_AIRPORT = df_10k.DESTINATION_AIRPORT.astype('category')"
   ]
  },
  {
   "cell_type": "code",
   "execution_count": 11,
   "id": "foreign-desire",
   "metadata": {},
   "outputs": [],
   "source": [
    "df_10k.CITY_DestinationAirport = df_10k.CITY_DestinationAirport.astype('category')"
   ]
  },
  {
   "cell_type": "code",
   "execution_count": 13,
   "id": "labeled-interview",
   "metadata": {},
   "outputs": [],
   "source": [
    "df_10k.CITY_OriginAirport = df_10k.CITY_OriginAirport.astype('category')"
   ]
  },
  {
   "cell_type": "code",
   "execution_count": 54,
   "id": "strategic-athletics",
   "metadata": {},
   "outputs": [
    {
     "data": {
      "text/plain": [
       "AIRPORT_OriginAirport\n",
       "Aberdeen Regional Airport                       -6.0\n",
       "Abilene Regional Airport                       -19.0\n",
       "Abraham Lincoln Capital Airport                 57.0\n",
       "Akron-Canton Regional Airport                  -21.0\n",
       "Albany International Airport                    39.0\n",
       "                                                ... \n",
       "Wrangell Airport                               -10.0\n",
       "Yakutat Airport                                -42.0\n",
       "Yampa Valley Airport (Yampa Valley Regional)    31.0\n",
       "Yeager Airport                                 -14.0\n",
       "Yuma International Airport                     -15.0\n",
       "Name: DEPARTURE_DELAY, Length: 276, dtype: float64"
      ]
     },
     "metadata": {},
     "output_type": "display_data"
    },
    {
     "data": {
      "text/plain": [
       "AIRPORT_OriginAirport\n",
       "Aberdeen Regional Airport                        1\n",
       "Abilene Regional Airport                         3\n",
       "Abraham Lincoln Capital Airport                  2\n",
       "Akron-Canton Regional Airport                   10\n",
       "Albany International Airport                    19\n",
       "                                                ..\n",
       "Wrangell Airport                                 1\n",
       "Yakutat Airport                                  2\n",
       "Yampa Valley Airport (Yampa Valley Regional)     1\n",
       "Yeager Airport                                   6\n",
       "Yuma International Airport                       3\n",
       "Name: AIRLINE_flights, Length: 276, dtype: int64"
      ]
     },
     "metadata": {},
     "output_type": "display_data"
    },
    {
     "data": {
      "text/plain": [
       "AIRPORT_OriginAirport\n",
       "Stewart International Airport               220.000000\n",
       "Roswell International Air Center            141.750000\n",
       "Westerly State Airport                      129.000000\n",
       "Chippewa Valley Regional Airport            105.000000\n",
       "Sarasota-Bradenton International Airport    104.666667\n",
       "                                               ...    \n",
       "MBS International Airport                   -13.000000\n",
       "Merle K. (Mudhole) Smith Airport            -15.666667\n",
       "Petersburg James A. Johnson Airport         -17.000000\n",
       "Deadhorse Airport (Prudhoe Bay Airport)     -18.000000\n",
       "Yakutat Airport                             -21.000000\n",
       "Length: 276, dtype: float64"
      ]
     },
     "metadata": {},
     "output_type": "display_data"
    }
   ],
   "source": [
    "gb_orig_delay = df_10k.groupby('AIRPORT_OriginAirport')['DEPARTURE_DELAY'].sum()\n",
    "gb_orig_flights = df_10k.groupby('AIRPORT_OriginAirport')['AIRLINE_flights'].count()\n",
    "gb_orig_delay_flight_minutes = (gb_orig_delay / gb_orig_flights).sort_values(ascending=False)\n",
    "\n",
    "display(gb_orig_delay, gb_orig_flights, gb_orig_delay_flight_minutes)"
   ]
  },
  {
   "cell_type": "code",
   "execution_count": 83,
   "id": "rough-dependence",
   "metadata": {},
   "outputs": [
    {
     "data": {
      "text/plain": [
       "AIRPORT_OriginAirport\n",
       "Chicago Midway International Airport     140\n",
       "Chicago O'Hare International Airport     530\n",
       "Chippewa County International Airport      1\n",
       "Chippewa Valley Regional Airport           1\n",
       "Name: AIRLINE_flights, dtype: int64"
      ]
     },
     "execution_count": 83,
     "metadata": {},
     "output_type": "execute_result"
    }
   ],
   "source": [
    "gb_orig_flights[gb_orig_flights.index.str.startswith('Chi')]"
   ]
  },
  {
   "cell_type": "code",
   "execution_count": 79,
   "id": "certain-departure",
   "metadata": {},
   "outputs": [
    {
     "data": {
      "text/plain": [
       "AIRPORT_OriginAirport\n",
       "Stewart International Airport                              220.000000\n",
       "Roswell International Air Center                           141.750000\n",
       "Westerly State Airport                                     129.000000\n",
       "Chippewa Valley Regional Airport                           105.000000\n",
       "Sarasota-Bradenton International Airport                   104.666667\n",
       "Monterey Regional Airport (Monterey Peninsula Airport)     103.000000\n",
       "Ralph Wien Memorial Airport                                 85.000000\n",
       "Huntsville International Airport                            75.000000\n",
       "Eagle County Regional Airport                               71.000000\n",
       "Alexandria International Airport                            70.857143\n",
       "Wilmington Airport                                          44.000000\n",
       "Grand Junction Regional Airport (Walker Field)              39.571429\n",
       "Central Illinois Regional Airport at Bloomington-Normal     38.000000\n",
       "Boise Airport (Boise Air Terminal)                          37.578947\n",
       "Arcata Airport                                              37.000000\n",
       "Meadows Field                                               35.500000\n",
       "Tallahassee International Airport                           34.800000\n",
       "Sioux Falls Regional Airport                                34.687500\n",
       "Destin-Fort Walton Beach Airport/Eglin AFB                  34.500000\n",
       "Easterwood Airport                                          33.666667\n",
       "dtype: float64"
      ]
     },
     "metadata": {},
     "output_type": "display_data"
    },
    {
     "data": {
      "application/javascript": [
       "\n",
       "        if (window._pyforest_update_imports_cell) { window._pyforest_update_imports_cell('import numpy as np\\nimport pandas as pd\\nimport matplotlib.pyplot as plt'); }\n",
       "    "
      ],
      "text/plain": [
       "<IPython.core.display.Javascript object>"
      ]
     },
     "metadata": {},
     "output_type": "display_data"
    },
    {
     "data": {
      "application/javascript": [
       "\n",
       "        if (window._pyforest_update_imports_cell) { window._pyforest_update_imports_cell('import numpy as np\\nimport pandas as pd\\nimport matplotlib.pyplot as plt'); }\n",
       "    "
      ],
      "text/plain": [
       "<IPython.core.display.Javascript object>"
      ]
     },
     "metadata": {},
     "output_type": "display_data"
    },
    {
     "data": {
      "application/javascript": [
       "\n",
       "        if (window._pyforest_update_imports_cell) { window._pyforest_update_imports_cell('import numpy as np\\nimport pandas as pd\\nimport matplotlib.pyplot as plt'); }\n",
       "    "
      ],
      "text/plain": [
       "<IPython.core.display.Javascript object>"
      ]
     },
     "metadata": {},
     "output_type": "display_data"
    },
    {
     "data": {
      "application/javascript": [
       "\n",
       "        if (window._pyforest_update_imports_cell) { window._pyforest_update_imports_cell('import numpy as np\\nimport pandas as pd\\nimport matplotlib.pyplot as plt'); }\n",
       "    "
      ],
      "text/plain": [
       "<IPython.core.display.Javascript object>"
      ]
     },
     "metadata": {},
     "output_type": "display_data"
    },
    {
     "data": {
      "image/png": "[encoded data removed]",
      "text/plain": [
       "<Figure size 1080x600 with 1 Axes>"
      ]
     },
     "metadata": {
      "needs_background": "light"
     },
     "output_type": "display_data"
    }
   ],
   "source": [
    "top20_delayed = gb_orig_delay_flight_minutes[:20]\n",
    "\n",
    "display(top20_delayed)\n",
    "ax = top20_delayed.plot.bar()\n",
    "plt.xticks(rotation=90)\n",
    "labels = list(top20_delayed.index)\n",
    "ax.set_xticks(np.arange(len(labels)))\n",
    "ax.set_xticklabels(labels)\n",
    "plt.ylabel('Avg Delay Time in Minutes')\n",
    "plt.show()"
   ]
  },
  {
   "cell_type": "code",
   "execution_count": 51,
   "id": "hollywood-catholic",
   "metadata": {},
   "outputs": [
    {
     "data": {
      "text/plain": [
       "CITY_OriginAirport\n",
       "Chicago              8832.0\n",
       "Atlanta              4799.0\n",
       "Denver               4337.0\n",
       "New York             4336.0\n",
       "San Francisco        4070.0\n",
       "Los Angeles          3985.0\n",
       "Dallas-Fort Worth    3861.0\n",
       "Houston              3065.0\n",
       "Las Vegas            2686.0\n",
       "Orlando              2504.0\n",
       "Phoenix              2413.0\n",
       "Baltimore            2319.0\n",
       "Newark               2024.0\n",
       "Seattle              1577.0\n",
       "Miami                1474.0\n",
       "Minneapolis          1334.0\n",
       "Boston               1283.0\n",
       "Tampa                1241.0\n",
       "Charlotte            1211.0\n",
       "Dallas               1208.0\n",
       "Name: DEPARTURE_DELAY, dtype: float64"
      ]
     },
     "metadata": {},
     "output_type": "display_data"
    },
    {
     "data": {
      "application/javascript": [
       "\n",
       "        if (window._pyforest_update_imports_cell) { window._pyforest_update_imports_cell('import numpy as np\\nimport pandas as pd\\nimport matplotlib.pyplot as plt'); }\n",
       "    "
      ],
      "text/plain": [
       "<IPython.core.display.Javascript object>"
      ]
     },
     "metadata": {},
     "output_type": "display_data"
    },
    {
     "data": {
      "application/javascript": [
       "\n",
       "        if (window._pyforest_update_imports_cell) { window._pyforest_update_imports_cell('import numpy as np\\nimport pandas as pd\\nimport matplotlib.pyplot as plt'); }\n",
       "    "
      ],
      "text/plain": [
       "<IPython.core.display.Javascript object>"
      ]
     },
     "metadata": {},
     "output_type": "display_data"
    },
    {
     "data": {
      "application/javascript": [
       "\n",
       "        if (window._pyforest_update_imports_cell) { window._pyforest_update_imports_cell('import numpy as np\\nimport pandas as pd\\nimport matplotlib.pyplot as plt'); }\n",
       "    "
      ],
      "text/plain": [
       "<IPython.core.display.Javascript object>"
      ]
     },
     "metadata": {},
     "output_type": "display_data"
    },
    {
     "data": {
      "image/png": "[encoded data removed]",
      "text/plain": [
       "<Figure size 1080x600 with 1 Axes>"
      ]
     },
     "metadata": {
      "needs_background": "light"
     },
     "output_type": "display_data"
    }
   ],
   "source": [
    "gb_orig_delay = df_10k.groupby('CITY_OriginAirport')['DEPARTURE_DELAY'].sum().sort_values(ascending=False)[0:20]\n",
    "display(gb_orig_delay)\n",
    "ax = gb_orig_delay.plot()\n",
    "plt.xticks(rotation=90)\n",
    "labels = list(gb_orig_delay.index)\n",
    "ax.set_xticks(np.arange(len(labels)))\n",
    "ax.set_xticklabels(labels)\n",
    "plt.show()"
   ]
  },
  {
   "cell_type": "code",
   "execution_count": 84,
   "id": "equal-gilbert",
   "metadata": {},
   "outputs": [],
   "source": [
    "import lux\n"
   ]
  },
  {
   "cell_type": "code",
   "execution_count": 85,
   "id": "whole-olive",
   "metadata": {},
   "outputs": [
    {
     "name": "stderr",
     "output_type": "stream",
     "text": [
      "/home/frank/miniconda3/envs/learn/lib/python3.8/site-packages/IPython/core/formatters.py:345: UserWarning:\n",
      "Unexpected error in rendering Lux widget and recommendations. Falling back to Pandas display.\n",
      "Please report the following issue on Github: https://github.com/lux-org/lux/issues \n",
      "\n",
      "/home/frank/miniconda3/envs/learn/lib/python3.8/site-packages/lux/core/frame.py:700: UserWarning:Traceback (most recent call last):\n",
      "  File \"/home/frank/miniconda3/envs/learn/lib/python3.8/site-packages/lux/core/frame.py\", line 638, in _repr_html_\n",
      "    self.maintain_metadata()\n",
      "  File \"/home/frank/miniconda3/envs/learn/lib/python3.8/site-packages/lux/core/frame.py\", line 118, in maintain_metadata\n",
      "    lux.config.executor.compute_dataset_metadata(self)\n",
      "  File \"/home/frank/miniconda3/envs/learn/lib/python3.8/site-packages/lux/executor/PandasExecutor.py\", line 401, in compute_dataset_metadata\n",
      "    self.compute_data_type(ldf)\n",
      "  File \"/home/frank/miniconda3/envs/learn/lib/python3.8/site-packages/lux/executor/PandasExecutor.py\", line 407, in compute_data_type\n",
      "    if attr in ldf._type_override:\n",
      "TypeError: argument of type 'NoneType' is not iterable\n",
      "\n"
     ]
    },
    {
     "data": {
      "text/html": [
       "<div>\n",
       "<style scoped>\n",
       "    .dataframe tbody tr th:only-of-type {\n",
       "        vertical-align: middle;\n",
       "    }\n",
       "\n",
       "    .dataframe tbody tr th {\n",
       "        vertical-align: top;\n",
       "    }\n",
       "\n",
       "    .dataframe thead th {\n",
       "        text-align: right;\n",
       "    }\n",
       "</style>\n",
       "<table border=\"1\" class=\"dataframe\">\n",
       "  <thead>\n",
       "    <tr style=\"text-align: right;\">\n",
       "      <th></th>\n",
       "      <th>Unnamed: 0</th>\n",
       "      <th>DAY_OF_WEEK</th>\n",
       "      <th>FLIGHT_NUMBER</th>\n",
       "      <th>SCHEDULED_DEPARTURE</th>\n",
       "      <th>DEPARTURE_TIME</th>\n",
       "      <th>DEPARTURE_DELAY</th>\n",
       "      <th>TAXI_OUT</th>\n",
       "      <th>WHEELS_OFF</th>\n",
       "      <th>SCHEDULED_TIME</th>\n",
       "      <th>ELAPSED_TIME</th>\n",
       "      <th>...</th>\n",
       "      <th>CANCELLED</th>\n",
       "      <th>AIR_SYSTEM_DELAY</th>\n",
       "      <th>SECURITY_DELAY</th>\n",
       "      <th>AIRLINE_DELAY</th>\n",
       "      <th>LATE_AIRCRAFT_DELAY</th>\n",
       "      <th>WEATHER_DELAY</th>\n",
       "      <th>LATITUDE_OriginAirport</th>\n",
       "      <th>LONGITUDE_OriginAirport</th>\n",
       "      <th>LATITUDE_DestinationAirport</th>\n",
       "      <th>LONGITUDE_DestinationAirport</th>\n",
       "    </tr>\n",
       "    <tr>\n",
       "      <th>CITY_OriginAirport</th>\n",
       "      <th></th>\n",
       "      <th></th>\n",
       "      <th></th>\n",
       "      <th></th>\n",
       "      <th></th>\n",
       "      <th></th>\n",
       "      <th></th>\n",
       "      <th></th>\n",
       "      <th></th>\n",
       "      <th></th>\n",
       "      <th></th>\n",
       "      <th></th>\n",
       "      <th></th>\n",
       "      <th></th>\n",
       "      <th></th>\n",
       "      <th></th>\n",
       "      <th></th>\n",
       "      <th></th>\n",
       "      <th></th>\n",
       "      <th></th>\n",
       "      <th></th>\n",
       "    </tr>\n",
       "  </thead>\n",
       "  <tbody>\n",
       "    <tr>\n",
       "      <th>Aberdeen</th>\n",
       "      <td>5472937</td>\n",
       "      <td>3</td>\n",
       "      <td>7364</td>\n",
       "      <td>1535</td>\n",
       "      <td>1529.0</td>\n",
       "      <td>-6.0</td>\n",
       "      <td>13.0</td>\n",
       "      <td>1542.0</td>\n",
       "      <td>70.0</td>\n",
       "      <td>59.0</td>\n",
       "      <td>...</td>\n",
       "      <td>0</td>\n",
       "      <td>0.0</td>\n",
       "      <td>0.0</td>\n",
       "      <td>0.0</td>\n",
       "      <td>0.0</td>\n",
       "      <td>0.0</td>\n",
       "      <td>45.44906</td>\n",
       "      <td>-98.42183</td>\n",
       "      <td>44.88055</td>\n",
       "      <td>-93.21692</td>\n",
       "    </tr>\n",
       "    <tr>\n",
       "      <th>Abilene</th>\n",
       "      <td>6200824</td>\n",
       "      <td>18</td>\n",
       "      <td>9998</td>\n",
       "      <td>3213</td>\n",
       "      <td>3194.0</td>\n",
       "      <td>-19.0</td>\n",
       "      <td>19.0</td>\n",
       "      <td>3213.0</td>\n",
       "      <td>161.0</td>\n",
       "      <td>145.0</td>\n",
       "      <td>...</td>\n",
       "      <td>0</td>\n",
       "      <td>0.0</td>\n",
       "      <td>0.0</td>\n",
       "      <td>0.0</td>\n",
       "      <td>0.0</td>\n",
       "      <td>0.0</td>\n",
       "      <td>97.23396</td>\n",
       "      <td>-299.04570</td>\n",
       "      <td>98.68785</td>\n",
       "      <td>-291.11160</td>\n",
       "    </tr>\n",
       "    <tr>\n",
       "      <th>Aguadilla</th>\n",
       "      <td>7066415</td>\n",
       "      <td>19</td>\n",
       "      <td>2042</td>\n",
       "      <td>1657</td>\n",
       "      <td>1669.0</td>\n",
       "      <td>12.0</td>\n",
       "      <td>28.0</td>\n",
       "      <td>1697.0</td>\n",
       "      <td>558.0</td>\n",
       "      <td>524.0</td>\n",
       "      <td>...</td>\n",
       "      <td>0</td>\n",
       "      <td>0.0</td>\n",
       "      <td>0.0</td>\n",
       "      <td>0.0</td>\n",
       "      <td>23.0</td>\n",
       "      <td>0.0</td>\n",
       "      <td>55.48458</td>\n",
       "      <td>-201.38832</td>\n",
       "      <td>95.14122</td>\n",
       "      <td>-235.24771</td>\n",
       "    </tr>\n",
       "    <tr>\n",
       "      <th>Akron</th>\n",
       "      <td>11643692</td>\n",
       "      <td>39</td>\n",
       "      <td>35243</td>\n",
       "      <td>10971</td>\n",
       "      <td>10910.0</td>\n",
       "      <td>-21.0</td>\n",
       "      <td>215.0</td>\n",
       "      <td>11285.0</td>\n",
       "      <td>1188.0</td>\n",
       "      <td>1211.0</td>\n",
       "      <td>...</td>\n",
       "      <td>0</td>\n",
       "      <td>54.0</td>\n",
       "      <td>0.0</td>\n",
       "      <td>0.0</td>\n",
       "      <td>0.0</td>\n",
       "      <td>0.0</td>\n",
       "      <td>409.16310</td>\n",
       "      <td>-814.42470</td>\n",
       "      <td>368.87474</td>\n",
       "      <td>-875.74777</td>\n",
       "    </tr>\n",
       "    <tr>\n",
       "      <th>Albany</th>\n",
       "      <td>44560274</td>\n",
       "      <td>75</td>\n",
       "      <td>45305</td>\n",
       "      <td>26025</td>\n",
       "      <td>24139.0</td>\n",
       "      <td>34.0</td>\n",
       "      <td>236.0</td>\n",
       "      <td>24575.0</td>\n",
       "      <td>2554.0</td>\n",
       "      <td>2348.0</td>\n",
       "      <td>...</td>\n",
       "      <td>1</td>\n",
       "      <td>13.0</td>\n",
       "      <td>0.0</td>\n",
       "      <td>4.0</td>\n",
       "      <td>44.0</td>\n",
       "      <td>0.0</td>\n",
       "      <td>843.74980</td>\n",
       "      <td>-1486.45109</td>\n",
       "      <td>759.99022</td>\n",
       "      <td>-1659.15995</td>\n",
       "    </tr>\n",
       "    <tr>\n",
       "      <th>...</th>\n",
       "      <td>...</td>\n",
       "      <td>...</td>\n",
       "      <td>...</td>\n",
       "      <td>...</td>\n",
       "      <td>...</td>\n",
       "      <td>...</td>\n",
       "      <td>...</td>\n",
       "      <td>...</td>\n",
       "      <td>...</td>\n",
       "      <td>...</td>\n",
       "      <td>...</td>\n",
       "      <td>...</td>\n",
       "      <td>...</td>\n",
       "      <td>...</td>\n",
       "      <td>...</td>\n",
       "      <td>...</td>\n",
       "      <td>...</td>\n",
       "      <td>...</td>\n",
       "      <td>...</td>\n",
       "      <td>...</td>\n",
       "      <td>...</td>\n",
       "    </tr>\n",
       "    <tr>\n",
       "      <th>Windsor Locks</th>\n",
       "      <td>116513194</td>\n",
       "      <td>158</td>\n",
       "      <td>86876</td>\n",
       "      <td>45876</td>\n",
       "      <td>43780.0</td>\n",
       "      <td>132.0</td>\n",
       "      <td>452.0</td>\n",
       "      <td>44472.0</td>\n",
       "      <td>6997.0</td>\n",
       "      <td>6313.0</td>\n",
       "      <td>...</td>\n",
       "      <td>2</td>\n",
       "      <td>90.0</td>\n",
       "      <td>0.0</td>\n",
       "      <td>18.0</td>\n",
       "      <td>76.0</td>\n",
       "      <td>0.0</td>\n",
       "      <td>1761.43254</td>\n",
       "      <td>-3052.69566</td>\n",
       "      <td>1418.84786</td>\n",
       "      <td>-3507.83367</td>\n",
       "    </tr>\n",
       "    <tr>\n",
       "      <th>Worcester</th>\n",
       "      <td>7494994</td>\n",
       "      <td>12</td>\n",
       "      <td>5925</td>\n",
       "      <td>4409</td>\n",
       "      <td>4399.0</td>\n",
       "      <td>-10.0</td>\n",
       "      <td>37.0</td>\n",
       "      <td>4436.0</td>\n",
       "      <td>572.0</td>\n",
       "      <td>534.0</td>\n",
       "      <td>...</td>\n",
       "      <td>0</td>\n",
       "      <td>0.0</td>\n",
       "      <td>0.0</td>\n",
       "      <td>0.0</td>\n",
       "      <td>0.0</td>\n",
       "      <td>0.0</td>\n",
       "      <td>126.80202</td>\n",
       "      <td>-215.62713</td>\n",
       "      <td>80.57405</td>\n",
       "      <td>-241.62153</td>\n",
       "    </tr>\n",
       "    <tr>\n",
       "      <th>Wrangell</th>\n",
       "      <td>3926826</td>\n",
       "      <td>2</td>\n",
       "      <td>65</td>\n",
       "      <td>1110</td>\n",
       "      <td>1100.0</td>\n",
       "      <td>-10.0</td>\n",
       "      <td>4.0</td>\n",
       "      <td>1104.0</td>\n",
       "      <td>22.0</td>\n",
       "      <td>17.0</td>\n",
       "      <td>...</td>\n",
       "      <td>0</td>\n",
       "      <td>0.0</td>\n",
       "      <td>0.0</td>\n",
       "      <td>0.0</td>\n",
       "      <td>0.0</td>\n",
       "      <td>0.0</td>\n",
       "      <td>56.48433</td>\n",
       "      <td>-132.36982</td>\n",
       "      <td>56.80165</td>\n",
       "      <td>-132.94528</td>\n",
       "    </tr>\n",
       "    <tr>\n",
       "      <th>Yakutat</th>\n",
       "      <td>3514002</td>\n",
       "      <td>3</td>\n",
       "      <td>127</td>\n",
       "      <td>2969</td>\n",
       "      <td>2887.0</td>\n",
       "      <td>-42.0</td>\n",
       "      <td>21.0</td>\n",
       "      <td>2948.0</td>\n",
       "      <td>102.0</td>\n",
       "      <td>102.0</td>\n",
       "      <td>...</td>\n",
       "      <td>0</td>\n",
       "      <td>0.0</td>\n",
       "      <td>0.0</td>\n",
       "      <td>0.0</td>\n",
       "      <td>0.0</td>\n",
       "      <td>0.0</td>\n",
       "      <td>119.00672</td>\n",
       "      <td>-279.32046</td>\n",
       "      <td>118.84679</td>\n",
       "      <td>-280.05393</td>\n",
       "    </tr>\n",
       "    <tr>\n",
       "      <th>Yuma</th>\n",
       "      <td>6809592</td>\n",
       "      <td>13</td>\n",
       "      <td>8652</td>\n",
       "      <td>2655</td>\n",
       "      <td>2560.0</td>\n",
       "      <td>-15.0</td>\n",
       "      <td>50.0</td>\n",
       "      <td>2690.0</td>\n",
       "      <td>166.0</td>\n",
       "      <td>187.0</td>\n",
       "      <td>...</td>\n",
       "      <td>0</td>\n",
       "      <td>0.0</td>\n",
       "      <td>0.0</td>\n",
       "      <td>0.0</td>\n",
       "      <td>0.0</td>\n",
       "      <td>0.0</td>\n",
       "      <td>97.96974</td>\n",
       "      <td>-343.81791</td>\n",
       "      <td>100.30251</td>\n",
       "      <td>-336.02418</td>\n",
       "    </tr>\n",
       "  </tbody>\n",
       "</table>\n",
       "<p>263 rows × 28 columns</p>\n",
       "</div>"
      ],
      "text/plain": [
       "                    Unnamed: 0  DAY_OF_WEEK  FLIGHT_NUMBER  \\\n",
       "CITY_OriginAirport                                           \n",
       "Aberdeen               5472937            3           7364   \n",
       "Abilene                6200824           18           9998   \n",
       "Aguadilla              7066415           19           2042   \n",
       "Akron                 11643692           39          35243   \n",
       "Albany                44560274           75          45305   \n",
       "...                        ...          ...            ...   \n",
       "Windsor Locks        116513194          158          86876   \n",
       "Worcester              7494994           12           5925   \n",
       "Wrangell               3926826            2             65   \n",
       "Yakutat                3514002            3            127   \n",
       "Yuma                   6809592           13           8652   \n",
       "\n",
       "                    SCHEDULED_DEPARTURE  DEPARTURE_TIME  DEPARTURE_DELAY  \\\n",
       "CITY_OriginAirport                                                         \n",
       "Aberdeen                           1535          1529.0             -6.0   \n",
       "Abilene                            3213          3194.0            -19.0   \n",
       "Aguadilla                          1657          1669.0             12.0   \n",
       "Akron                             10971         10910.0            -21.0   \n",
       "Albany                            26025         24139.0             34.0   \n",
       "...                                 ...             ...              ...   \n",
       "Windsor Locks                     45876         43780.0            132.0   \n",
       "Worcester                          4409          4399.0            -10.0   \n",
       "Wrangell                           1110          1100.0            -10.0   \n",
       "Yakutat                            2969          2887.0            -42.0   \n",
       "Yuma                               2655          2560.0            -15.0   \n",
       "\n",
       "                    TAXI_OUT  WHEELS_OFF  SCHEDULED_TIME  ELAPSED_TIME  ...  \\\n",
       "CITY_OriginAirport                                                      ...   \n",
       "Aberdeen                13.0      1542.0            70.0          59.0  ...   \n",
       "Abilene                 19.0      3213.0           161.0         145.0  ...   \n",
       "Aguadilla               28.0      1697.0           558.0         524.0  ...   \n",
       "Akron                  215.0     11285.0          1188.0        1211.0  ...   \n",
       "Albany                 236.0     24575.0          2554.0        2348.0  ...   \n",
       "...                      ...         ...             ...           ...  ...   \n",
       "Windsor Locks          452.0     44472.0          6997.0        6313.0  ...   \n",
       "Worcester               37.0      4436.0           572.0         534.0  ...   \n",
       "Wrangell                 4.0      1104.0            22.0          17.0  ...   \n",
       "Yakutat                 21.0      2948.0           102.0         102.0  ...   \n",
       "Yuma                    50.0      2690.0           166.0         187.0  ...   \n",
       "\n",
       "                    CANCELLED  AIR_SYSTEM_DELAY  SECURITY_DELAY  \\\n",
       "CITY_OriginAirport                                                \n",
       "Aberdeen                    0               0.0             0.0   \n",
       "Abilene                     0               0.0             0.0   \n",
       "Aguadilla                   0               0.0             0.0   \n",
       "Akron                       0              54.0             0.0   \n",
       "Albany                      1              13.0             0.0   \n",
       "...                       ...               ...             ...   \n",
       "Windsor Locks               2              90.0             0.0   \n",
       "Worcester                   0               0.0             0.0   \n",
       "Wrangell                    0               0.0             0.0   \n",
       "Yakutat                     0               0.0             0.0   \n",
       "Yuma                        0               0.0             0.0   \n",
       "\n",
       "                    AIRLINE_DELAY  LATE_AIRCRAFT_DELAY  WEATHER_DELAY  \\\n",
       "CITY_OriginAirport                                                      \n",
       "Aberdeen                      0.0                  0.0            0.0   \n",
       "Abilene                       0.0                  0.0            0.0   \n",
       "Aguadilla                     0.0                 23.0            0.0   \n",
       "Akron                         0.0                  0.0            0.0   \n",
       "Albany                        4.0                 44.0            0.0   \n",
       "...                           ...                  ...            ...   \n",
       "Windsor Locks                18.0                 76.0            0.0   \n",
       "Worcester                     0.0                  0.0            0.0   \n",
       "Wrangell                      0.0                  0.0            0.0   \n",
       "Yakutat                       0.0                  0.0            0.0   \n",
       "Yuma                          0.0                  0.0            0.0   \n",
       "\n",
       "                    LATITUDE_OriginAirport  LONGITUDE_OriginAirport  \\\n",
       "CITY_OriginAirport                                                    \n",
       "Aberdeen                          45.44906                -98.42183   \n",
       "Abilene                           97.23396               -299.04570   \n",
       "Aguadilla                         55.48458               -201.38832   \n",
       "Akron                            409.16310               -814.42470   \n",
       "Albany                           843.74980              -1486.45109   \n",
       "...                                    ...                      ...   \n",
       "Windsor Locks                   1761.43254              -3052.69566   \n",
       "Worcester                        126.80202               -215.62713   \n",
       "Wrangell                          56.48433               -132.36982   \n",
       "Yakutat                          119.00672               -279.32046   \n",
       "Yuma                              97.96974               -343.81791   \n",
       "\n",
       "                    LATITUDE_DestinationAirport  LONGITUDE_DestinationAirport  \n",
       "CITY_OriginAirport                                                             \n",
       "Aberdeen                               44.88055                     -93.21692  \n",
       "Abilene                                98.68785                    -291.11160  \n",
       "Aguadilla                              95.14122                    -235.24771  \n",
       "Akron                                 368.87474                    -875.74777  \n",
       "Albany                                759.99022                   -1659.15995  \n",
       "...                                         ...                           ...  \n",
       "Windsor Locks                        1418.84786                   -3507.83367  \n",
       "Worcester                              80.57405                    -241.62153  \n",
       "Wrangell                               56.80165                    -132.94528  \n",
       "Yakutat                               118.84679                    -280.05393  \n",
       "Yuma                                  100.30251                    -336.02418  \n",
       "\n",
       "[263 rows x 28 columns]"
      ]
     },
     "metadata": {},
     "output_type": "display_data"
    },
    {
     "data": {
      "text/plain": []
     },
     "execution_count": 85,
     "metadata": {},
     "output_type": "execute_result"
    }
   ],
   "source": [
    "df_10k.groupby('CITY_OriginAirport').sum()"
   ]
  },
  {
   "cell_type": "code",
   "execution_count": null,
   "id": "arbitrary-birthday",
   "metadata": {},
   "outputs": [],
   "source": []
  }
 ],
 "metadata": {
  "kernelspec": {
   "display_name": "Python 3",
   "language": "python",
   "name": "python3"
  },
  "language_info": {
   "codemirror_mode": {
    "name": "ipython",
    "version": 3
   },
   "file_extension": ".py",
   "mimetype": "text/x-python",
   "name": "python",
   "nbconvert_exporter": "python",
   "pygments_lexer": "ipython3",
   "version": "3.8.6"
  },
  "widgets": {
   "application/vnd.jupyter.widget-state+json": {
    "state": {},
    "version_major": 2,
    "version_minor": 0
   }
  }
 },
 "nbformat": 4,
 "nbformat_minor": 5
}
