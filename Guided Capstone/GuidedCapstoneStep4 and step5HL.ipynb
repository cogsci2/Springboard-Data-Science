{
 "cells": [
  {
   "cell_type": "markdown",
   "metadata": {
    "colab_type": "text",
    "id": "cf5CmXQCZyF1"
   },
   "source": [
    "# Guided Capstone Step 4. Pre-Processing and Training Data Development"
   ]
  },
  {
   "cell_type": "markdown",
   "metadata": {
    "toc": true
   },
   "source": [
    "<h1>Table of Contents<span class=\"tocSkip\"></span></h1>\n",
    "<div class=\"toc\"><ul class=\"toc-item\"><li><span><a href=\"#Guided-Capstone-Step-4.-Pre-Processing-and-Training-Data-Development\" data-toc-modified-id=\"Guided-Capstone-Step-4.-Pre-Processing-and-Training-Data-Development-0\"><span class=\"toc-item-num\">0&nbsp;&nbsp;</span>Guided Capstone Step 4. Pre-Processing and Training Data Development</a></span><ul class=\"toc-item\"><li><span><a href=\"#Create-dummy-features-for-categorical-variables\" data-toc-modified-id=\"Create-dummy-features-for-categorical-variables-0.1\"><span class=\"toc-item-num\">0.1&nbsp;&nbsp;</span>Create dummy features for categorical variables</a></span></li><li><span><a href=\"#Standardize-the-magnitude-of-numeric-features\" data-toc-modified-id=\"Standardize-the-magnitude-of-numeric-features-0.2\"><span class=\"toc-item-num\">0.2&nbsp;&nbsp;</span>Standardize the magnitude of numeric features</a></span></li><li><span><a href=\"#Split-into-training-and-testing-datasets\" data-toc-modified-id=\"Split-into-training-and-testing-datasets-0.3\"><span class=\"toc-item-num\">0.3&nbsp;&nbsp;</span>Split into training and testing datasets</a></span></li></ul></li><li><span><a href=\"#Guided-Capstone-Step-5.-Modeling\" data-toc-modified-id=\"Guided-Capstone-Step-5.-Modeling-1\"><span class=\"toc-item-num\">1&nbsp;&nbsp;</span>Guided Capstone Step 5. Modeling</a></span><ul class=\"toc-item\"><li><ul class=\"toc-item\"><li><span><a href=\"#The-Data-Science-Method\" data-toc-modified-id=\"The-Data-Science-Method-1.0.1\"><span class=\"toc-item-num\">1.0.1&nbsp;&nbsp;</span><strong>The Data Science Method</strong></a></span></li></ul></li><li><span><a href=\"#Fit-Models-with-a-Training-Dataset\" data-toc-modified-id=\"Fit-Models-with-a-Training-Dataset-1.1\"><span class=\"toc-item-num\">1.1&nbsp;&nbsp;</span>Fit Models with a Training Dataset</a></span><ul class=\"toc-item\"><li><ul class=\"toc-item\"><li><span><a href=\"#Model-1\" data-toc-modified-id=\"Model-1-1.1.0.1\"><span class=\"toc-item-num\">1.1.0.1&nbsp;&nbsp;</span>Model 1</a></span></li></ul></li></ul></li><li><span><a href=\"#Review-Model-Outcomes-—-Iterate-over-additional-models-as-needed\" data-toc-modified-id=\"Review-Model-Outcomes-—-Iterate-over-additional-models-as-needed-1.2\"><span class=\"toc-item-num\">1.2&nbsp;&nbsp;</span>Review Model Outcomes — Iterate over additional models as needed</a></span><ul class=\"toc-item\"><li><ul class=\"toc-item\"><li><span><a href=\"#Model-2\" data-toc-modified-id=\"Model-2-1.2.0.1\"><span class=\"toc-item-num\">1.2.0.1&nbsp;&nbsp;</span>Model 2</a></span></li><li><span><a href=\"#Model-3\" data-toc-modified-id=\"Model-3-1.2.0.2\"><span class=\"toc-item-num\">1.2.0.2&nbsp;&nbsp;</span>Model 3</a></span></li></ul></li></ul></li><li><span><a href=\"#Identify-the-Final-Model\" data-toc-modified-id=\"Identify-the-Final-Model-1.3\"><span class=\"toc-item-num\">1.3&nbsp;&nbsp;</span>Identify the Final Model</a></span></li></ul></li></ul></div>"
   ]
  },
  {
   "cell_type": "markdown",
   "metadata": {
    "colab_type": "text",
    "id": "b2jue2jPGJlt"
   },
   "source": [
    "**The Data Science Method**  \n",
    "\n",
    "\n",
    "1.   Problem Identification \n",
    "\n",
    "\n",
    "2.   Data Wrangling \n",
    "  \n",
    " \n",
    "3.   Exploratory Data Analysis   \n",
    "\n",
    "4.   **Pre-processing and Training Data Development**  \n",
    " * Create dummy or indicator features for categorical variables\n",
    "  * Standardize the magnitude of numeric features\n",
    "  * Split into testing and training datasets\n",
    "  * Apply scaler to the testing set\n",
    "5.   Modeling \n",
    "  * Fit Models with Training Data Set\n",
    "  * Review Model Outcomes — Iterate over additional models as needed.\n",
    "  * Identify the Final Model\n",
    "\n",
    "6.   Documentation\n",
    "  * Review the Results\n",
    "  * Present and share your findings - storytelling\n",
    "  * Finalize Code \n",
    "  * Finalize Documentation"
   ]
  },
  {
   "cell_type": "markdown",
   "metadata": {
    "colab_type": "text",
    "id": "K8xfkAqqZyF2"
   },
   "source": [
    "**<font color='teal'> Start by loading the necessary packages as we did in step 3 and printing out our current working directory just to confirm we are in the correct project directory. </font>**"
   ]
  },
  {
   "cell_type": "code",
   "execution_count": 6,
   "metadata": {
    "ExecuteTime": {
     "end_time": "2020-07-30T20:06:31.868454Z",
     "start_time": "2020-07-30T20:06:31.787670Z"
    },
    "colab": {},
    "colab_type": "code",
    "id": "ry6WPL5eZyF3"
   },
   "outputs": [],
   "source": [
    "#load python packages\n",
    "#load python packages\n",
    "import os\n",
    "import pandas as pd\n",
    "import datetime\n",
    "import numpy as np\n",
    "%matplotlib inline\n",
    "\n",
    "import seaborn as sns\n",
    "import matplotlib.pyplot as plt\n",
    "import math\n"
   ]
  },
  {
   "cell_type": "code",
   "execution_count": 7,
   "metadata": {
    "ExecuteTime": {
     "end_time": "2020-07-30T20:06:31.901366Z",
     "start_time": "2020-07-30T20:06:31.876433Z"
    }
   },
   "outputs": [],
   "source": [
    "# Extra CSS\n",
    "# from IPython.display import HTML\n",
    "# pd.set_option('display.float_format', lambda x: '{:.2f}'.format(x))\n",
    "# pd.set_option('display.float_format', lambda x: '%.5f' % x)\n",
    "pd.options.display.float_format = '{:.5f}'.format\n",
    "plt.style.use('dark_background')"
   ]
  },
  {
   "cell_type": "markdown",
   "metadata": {
    "colab_type": "text",
    "id": "630T-ogRZyF8"
   },
   "source": [
    "**<font color='teal'>  Load the csv file you created in step 3, remember it should be saved inside your data subfolder and print the first five rows.</font>**"
   ]
  },
  {
   "cell_type": "code",
   "execution_count": 8,
   "metadata": {
    "ExecuteTime": {
     "end_time": "2020-07-30T20:06:32.011072Z",
     "start_time": "2020-07-30T20:06:31.909344Z"
    },
    "colab": {},
    "colab_type": "code",
    "id": "dMNbk0u3ZyF9"
   },
   "outputs": [],
   "source": [
    "path='./data'\n",
    "if os.getcwd()[-4:] != path[-4:]:\n",
    "    os.chdir(path)\n",
    "df = pd.read_csv('step3_output.csv', index_col=0)"
   ]
  },
  {
   "cell_type": "markdown",
   "metadata": {
    "colab_type": "text",
    "id": "zkBHf9smZyGB"
   },
   "source": [
    "## Create dummy features for categorical variables"
   ]
  },
  {
   "cell_type": "markdown",
   "metadata": {
    "colab_type": "text",
    "id": "vWKHm0NhAnrJ"
   },
   "source": [
    "**<font color='teal'> Create dummy variables for `state`. Add the dummies back to the dataframe and remove the original column for `state`. </font>**\n",
    "\n",
    "Hint: you can see an example of how to execute this in Aiden's article on preprocessing [here](https://medium.com/@aiden.dataminer/the-data-science-method-dsm-pre-processing-and-training-data-development-fd2d75182967). "
   ]
  },
  {
   "cell_type": "code",
   "execution_count": 9,
   "metadata": {
    "ExecuteTime": {
     "end_time": "2020-07-30T20:06:32.057947Z",
     "start_time": "2020-07-30T20:06:32.015062Z"
    },
    "colab": {},
    "colab_type": "code",
    "id": "lZqWk8ltZyGZ"
   },
   "outputs": [
    {
     "data": {
      "text/plain": [
       "(172, 59)"
      ]
     },
     "execution_count": 9,
     "metadata": {},
     "output_type": "execute_result"
    }
   ],
   "source": [
    "dfo = df[['state']]\n",
    "df.drop('state', inplace=True, axis=1)\n",
    "# pd.get_dummies(dfo)\n",
    "\n",
    "# dfo=df.select_dtypes(include=['object']) # select object type columns\n",
    "df = pd.concat([df, pd.get_dummies(dfo)], axis=1)\n",
    "df.shape"
   ]
  },
  {
   "cell_type": "markdown",
   "metadata": {
    "colab_type": "text",
    "id": "HnDVhE1-ZyGF"
   },
   "source": [
    "## Standardize the magnitude of numeric features"
   ]
  },
  {
   "cell_type": "markdown",
   "metadata": {
    "colab": {},
    "colab_type": "code",
    "id": "gW3D-WlDZyGG"
   },
   "source": [
    "**<font color='teal'> Using sklearn preprocessing standardize the scale of the features of the dataframe except the name of the resort which we done't need in the dataframe for modeling, so it can be droppped here as well. Also, we want to hold out our response variable(s) so we can have their true values available for model performance review. Let's set `AdultWeekend` to the y variable as our response for scaling and modeling. Later we will go back and consider the `AdultWeekday`, `dayOpenLastYear`, and `projectedDaysOpen`. For now leave them in the development dataframe. </font>**"
   ]
  },
  {
   "cell_type": "code",
   "execution_count": 10,
   "metadata": {
    "ExecuteTime": {
     "end_time": "2020-07-30T20:06:32.136736Z",
     "start_time": "2020-07-30T20:06:32.060939Z"
    },
    "colab": {},
    "colab_type": "code",
    "id": "IZL-q-KtAYI6"
   },
   "outputs": [],
   "source": [
    "# first we import the preprocessing package from the sklearn library\n",
    "from sklearn import preprocessing\n",
    "\n",
    "# Declare an explanatory variable, called X,and assign it the result of \n",
    "# dropping 'Name' and 'AdultWeekend' from the df\n",
    "X = df.drop(columns=['Name','AdultWeekend']).values\n",
    "\n",
    "# Declare a response variable, called y, and assign it the AdultWeekend column of the df \n",
    "y = df.AdultWeekend\n",
    "\n",
    "# Here we use the StandardScaler() method of the preprocessing package, and \n",
    "# then call the fit() method with parameter X \n",
    "scaler = preprocessing.StandardScaler().fit(X)\n",
    "\n",
    "# Declare a variable called X_scaled, and assign it the result of calling \n",
    "# the transform() method with parameter X \n",
    "X_scaled=scaler.transform(X) "
   ]
  },
  {
   "cell_type": "markdown",
   "metadata": {
    "colab_type": "text",
    "id": "GAT8h4_mZyGK"
   },
   "source": [
    "## Split into training and testing datasets"
   ]
  },
  {
   "cell_type": "markdown",
   "metadata": {
    "colab_type": "text",
    "id": "6rdS8EGeAnrW"
   },
   "source": [
    "**<font color='teal'> Using sklearn model selection import train_test_split, and create a 75/25 split with the y = `AdultWeekend`. We will start by using the adult weekend ticket price as our response variable for modeling.</font>**"
   ]
  },
  {
   "cell_type": "code",
   "execution_count": 11,
   "metadata": {
    "ExecuteTime": {
     "end_time": "2020-07-30T20:06:32.215526Z",
     "start_time": "2020-07-30T20:06:32.140726Z"
    },
    "colab": {},
    "colab_type": "code",
    "id": "BSkPut0gguds",
    "run_control": {
     "marked": false
    }
   },
   "outputs": [],
   "source": [
    "## Import the train_test_split function from the sklearn.model_selection utility.  \n",
    "from sklearn.model_selection import train_test_split\n",
    "\n",
    "# Get the 1-dimensional flattened array of our response variable y by \n",
    "# calling the ravel() function on y\n",
    "y = y.ravel()\n",
    "\n",
    "# Call the train_test_split() function with the first two parameters set to X_scaled and y \n",
    "# Declare four variables, X_train, X_test, y_train and y_test separated by commas \n",
    "X_train, X_test, y_train, y_test = train_test_split(X_scaled, y, test_size=0.25, random_state=1)"
   ]
  },
  {
   "cell_type": "markdown",
   "metadata": {
    "colab_type": "text",
    "id": "UayqbwkWAnra"
   },
   "source": [
    "Here we start the actual modeling work. First let's fit a multiple linear regression model to predict the `AdultWeekend` price."
   ]
  },
  {
   "cell_type": "markdown",
   "metadata": {},
   "source": [
    "[[ I am assuming that the the above comment is about Step 5 since that's the modeling step and it starts with a guided linear regression exercise. ]]"
   ]
  },
  {
   "cell_type": "markdown",
   "metadata": {
    "colab_type": "text",
    "id": "83fkLldXFCNd"
   },
   "source": [
    "# Guided Capstone Step 5. Modeling\n"
   ]
  },
  {
   "cell_type": "markdown",
   "metadata": {
    "colab_type": "text",
    "id": "JbZXsVevfr9M"
   },
   "source": [
    "This is the fifth step in the Data Science Method. In the previous steps you cleaned and prepared the datasets. Now it's time to get into the most exciting part: modeling! In this exercise, you'll build three different models and compare each model's performance. In the end, you'll choose the best model for demonstrating insights to Big Mountain management.\n",
    "\n",
    "\n",
    "\n",
    "### **The Data Science Method**  \n",
    "\n",
    "\n",
    "1.   Problem Identification \n",
    "\n",
    "2.   Data Wrangling \n",
    "  \n",
    "3.   Exploratory Data Analysis \n",
    " \n",
    "4.   Pre-processing and Training Data Development\n",
    "\n",
    "5.   **Modeling**\n",
    "  * Fit Models with Training Data Set\n",
    "  * Review Model Outcomes — Iterate over additional models as needed.\n",
    "  * Identify the Final Model\n",
    "\n",
    "6.   Documentation\n",
    "  * Review the Results\n",
    "  * Present and share your findings - storytelling\n",
    "  * Finalize Code \n",
    "  * Finalize Documentation"
   ]
  },
  {
   "cell_type": "markdown",
   "metadata": {
    "colab_type": "text",
    "id": "D_wfsP_-Anra"
   },
   "source": [
    "## Fit Models with a Training Dataset"
   ]
  },
  {
   "cell_type": "markdown",
   "metadata": {
    "colab_type": "text",
    "id": "CoI8S5SwAnrc"
   },
   "source": [
    "**<font color='teal'> Using sklearn, fit the model on your training dataset.</font>**"
   ]
  },
  {
   "cell_type": "markdown",
   "metadata": {
    "colab_type": "text",
    "id": "P_GFr8sRAnrd"
   },
   "source": [
    "#### Model 1"
   ]
  },
  {
   "cell_type": "code",
   "execution_count": 12,
   "metadata": {
    "ExecuteTime": {
     "end_time": "2020-07-30T20:06:32.340200Z",
     "start_time": "2020-07-30T20:06:32.218518Z"
    },
    "colab": {},
    "colab_type": "code",
    "id": "fW6K7uOPAnre"
   },
   "outputs": [
    {
     "data": {
      "text/plain": [
       "0.9092475854048496"
      ]
     },
     "execution_count": 12,
     "metadata": {},
     "output_type": "execute_result"
    }
   ],
   "source": [
    "# all first model set\n",
    "from sklearn import linear_model\n",
    "from sklearn.metrics import explained_variance_score,mean_absolute_error\n",
    "lm = linear_model.LinearRegression()\n",
    "model = lm.fit(X_train,y_train)\n",
    "model.score(X_train, y_train)"
   ]
  },
  {
   "cell_type": "markdown",
   "metadata": {
    "colab_type": "text",
    "id": "1fHqz9-WAnrg"
   },
   "source": [
    "**<font color='teal'> Predict on the testing dataset and score the model performance with the y_test set and the y-pred values. The explained variance is a measure of the variation explained by the model. This is also known as the R-squared value. </font>**\n",
    "\n",
    "Hint: you will have to use the `predict()` method here as it's used in this [DSM article](https://medium.com/@aiden.dataminer/the-data-science-method-dsm-modeling-56b4233cad1b) about modeling. "
   ]
  },
  {
   "cell_type": "code",
   "execution_count": 13,
   "metadata": {
    "ExecuteTime": {
     "end_time": "2020-07-30T20:06:32.417984Z",
     "start_time": "2020-07-30T20:06:32.343185Z"
    },
    "colab": {},
    "colab_type": "code",
    "id": "nIo01lFEAnrh"
   },
   "outputs": [
    {
     "data": {
      "text/html": [
       "<div>\n",
       "<style scoped>\n",
       "    .dataframe tbody tr th:only-of-type {\n",
       "        vertical-align: middle;\n",
       "    }\n",
       "\n",
       "    .dataframe tbody tr th {\n",
       "        vertical-align: top;\n",
       "    }\n",
       "\n",
       "    .dataframe thead th {\n",
       "        text-align: right;\n",
       "    }\n",
       "</style>\n",
       "<table border=\"1\" class=\"dataframe\">\n",
       "  <thead>\n",
       "    <tr style=\"text-align: right;\">\n",
       "      <th></th>\n",
       "      <th>0</th>\n",
       "      <th>1</th>\n",
       "      <th>2</th>\n",
       "      <th>3</th>\n",
       "      <th>4</th>\n",
       "      <th>5</th>\n",
       "      <th>6</th>\n",
       "      <th>7</th>\n",
       "      <th>8</th>\n",
       "      <th>9</th>\n",
       "      <th>...</th>\n",
       "      <th>47</th>\n",
       "      <th>48</th>\n",
       "      <th>49</th>\n",
       "      <th>50</th>\n",
       "      <th>51</th>\n",
       "      <th>52</th>\n",
       "      <th>53</th>\n",
       "      <th>54</th>\n",
       "      <th>55</th>\n",
       "      <th>56</th>\n",
       "    </tr>\n",
       "  </thead>\n",
       "  <tbody>\n",
       "    <tr>\n",
       "      <th>0</th>\n",
       "      <td>-0.42627</td>\n",
       "      <td>0.55111</td>\n",
       "      <td>0.00000</td>\n",
       "      <td>0.00000</td>\n",
       "      <td>0.00000</td>\n",
       "      <td>-0.39682</td>\n",
       "      <td>-0.77044</td>\n",
       "      <td>-0.97174</td>\n",
       "      <td>0.18096</td>\n",
       "      <td>0.49929</td>\n",
       "      <td>...</td>\n",
       "      <td>-0.07647</td>\n",
       "      <td>-0.07647</td>\n",
       "      <td>-0.07647</td>\n",
       "      <td>-0.13323</td>\n",
       "      <td>-0.20597</td>\n",
       "      <td>-0.10847</td>\n",
       "      <td>-0.13323</td>\n",
       "      <td>-0.13323</td>\n",
       "      <td>-0.26139</td>\n",
       "      <td>-0.17303</td>\n",
       "    </tr>\n",
       "    <tr>\n",
       "      <th>1</th>\n",
       "      <td>-0.71055</td>\n",
       "      <td>-0.57245</td>\n",
       "      <td>0.00000</td>\n",
       "      <td>0.00000</td>\n",
       "      <td>0.00000</td>\n",
       "      <td>-0.39682</td>\n",
       "      <td>-0.77044</td>\n",
       "      <td>-0.16038</td>\n",
       "      <td>0.18096</td>\n",
       "      <td>0.49929</td>\n",
       "      <td>...</td>\n",
       "      <td>-0.07647</td>\n",
       "      <td>-0.07647</td>\n",
       "      <td>-0.07647</td>\n",
       "      <td>-0.13323</td>\n",
       "      <td>-0.20597</td>\n",
       "      <td>-0.10847</td>\n",
       "      <td>-0.13323</td>\n",
       "      <td>-0.13323</td>\n",
       "      <td>-0.26139</td>\n",
       "      <td>-0.17303</td>\n",
       "    </tr>\n",
       "    <tr>\n",
       "      <th>2</th>\n",
       "      <td>-0.60181</td>\n",
       "      <td>-0.63295</td>\n",
       "      <td>0.00000</td>\n",
       "      <td>0.00000</td>\n",
       "      <td>0.00000</td>\n",
       "      <td>-0.39682</td>\n",
       "      <td>-0.77044</td>\n",
       "      <td>-0.97174</td>\n",
       "      <td>0.85758</td>\n",
       "      <td>-0.19327</td>\n",
       "      <td>...</td>\n",
       "      <td>-0.07647</td>\n",
       "      <td>-0.07647</td>\n",
       "      <td>-0.07647</td>\n",
       "      <td>-0.13323</td>\n",
       "      <td>-0.20597</td>\n",
       "      <td>-0.10847</td>\n",
       "      <td>-0.13323</td>\n",
       "      <td>-0.13323</td>\n",
       "      <td>-0.26139</td>\n",
       "      <td>-0.17303</td>\n",
       "    </tr>\n",
       "    <tr>\n",
       "      <th>3</th>\n",
       "      <td>-0.75250</td>\n",
       "      <td>-0.98730</td>\n",
       "      <td>0.00000</td>\n",
       "      <td>0.00000</td>\n",
       "      <td>0.00000</td>\n",
       "      <td>-0.39682</td>\n",
       "      <td>2.07936</td>\n",
       "      <td>-0.97174</td>\n",
       "      <td>-0.49566</td>\n",
       "      <td>1.88440</td>\n",
       "      <td>...</td>\n",
       "      <td>-0.07647</td>\n",
       "      <td>-0.07647</td>\n",
       "      <td>-0.07647</td>\n",
       "      <td>-0.13323</td>\n",
       "      <td>-0.20597</td>\n",
       "      <td>-0.10847</td>\n",
       "      <td>-0.13323</td>\n",
       "      <td>-0.13323</td>\n",
       "      <td>3.82575</td>\n",
       "      <td>-0.17303</td>\n",
       "    </tr>\n",
       "    <tr>\n",
       "      <th>4</th>\n",
       "      <td>-0.87678</td>\n",
       "      <td>-0.74531</td>\n",
       "      <td>0.00000</td>\n",
       "      <td>0.00000</td>\n",
       "      <td>0.00000</td>\n",
       "      <td>-0.39682</td>\n",
       "      <td>2.07936</td>\n",
       "      <td>1.46233</td>\n",
       "      <td>-1.17228</td>\n",
       "      <td>2.57696</td>\n",
       "      <td>...</td>\n",
       "      <td>-0.07647</td>\n",
       "      <td>-0.07647</td>\n",
       "      <td>-0.07647</td>\n",
       "      <td>-0.13323</td>\n",
       "      <td>-0.20597</td>\n",
       "      <td>-0.10847</td>\n",
       "      <td>-0.13323</td>\n",
       "      <td>-0.13323</td>\n",
       "      <td>-0.26139</td>\n",
       "      <td>-0.17303</td>\n",
       "    </tr>\n",
       "    <tr>\n",
       "      <th>...</th>\n",
       "      <td>...</td>\n",
       "      <td>...</td>\n",
       "      <td>...</td>\n",
       "      <td>...</td>\n",
       "      <td>...</td>\n",
       "      <td>...</td>\n",
       "      <td>...</td>\n",
       "      <td>...</td>\n",
       "      <td>...</td>\n",
       "      <td>...</td>\n",
       "      <td>...</td>\n",
       "      <td>...</td>\n",
       "      <td>...</td>\n",
       "      <td>...</td>\n",
       "      <td>...</td>\n",
       "      <td>...</td>\n",
       "      <td>...</td>\n",
       "      <td>...</td>\n",
       "      <td>...</td>\n",
       "      <td>...</td>\n",
       "      <td>...</td>\n",
       "    </tr>\n",
       "    <tr>\n",
       "      <th>124</th>\n",
       "      <td>-0.96129</td>\n",
       "      <td>-0.65888</td>\n",
       "      <td>0.00000</td>\n",
       "      <td>0.00000</td>\n",
       "      <td>0.00000</td>\n",
       "      <td>-0.39682</td>\n",
       "      <td>-0.77044</td>\n",
       "      <td>-0.16038</td>\n",
       "      <td>0.85758</td>\n",
       "      <td>-0.19327</td>\n",
       "      <td>...</td>\n",
       "      <td>-0.07647</td>\n",
       "      <td>-0.07647</td>\n",
       "      <td>-0.07647</td>\n",
       "      <td>-0.13323</td>\n",
       "      <td>-0.20597</td>\n",
       "      <td>-0.10847</td>\n",
       "      <td>-0.13323</td>\n",
       "      <td>-0.13323</td>\n",
       "      <td>-0.26139</td>\n",
       "      <td>-0.17303</td>\n",
       "    </tr>\n",
       "    <tr>\n",
       "      <th>125</th>\n",
       "      <td>-0.10004</td>\n",
       "      <td>-0.39960</td>\n",
       "      <td>0.00000</td>\n",
       "      <td>0.00000</td>\n",
       "      <td>0.00000</td>\n",
       "      <td>-0.39682</td>\n",
       "      <td>2.07936</td>\n",
       "      <td>-0.97174</td>\n",
       "      <td>-0.49566</td>\n",
       "      <td>-0.88583</td>\n",
       "      <td>...</td>\n",
       "      <td>-0.07647</td>\n",
       "      <td>-0.07647</td>\n",
       "      <td>13.07670</td>\n",
       "      <td>-0.13323</td>\n",
       "      <td>-0.20597</td>\n",
       "      <td>-0.10847</td>\n",
       "      <td>-0.13323</td>\n",
       "      <td>-0.13323</td>\n",
       "      <td>-0.26139</td>\n",
       "      <td>-0.17303</td>\n",
       "    </tr>\n",
       "    <tr>\n",
       "      <th>126</th>\n",
       "      <td>1.52180</td>\n",
       "      <td>2.05494</td>\n",
       "      <td>0.00000</td>\n",
       "      <td>0.00000</td>\n",
       "      <td>0.00000</td>\n",
       "      <td>-0.39682</td>\n",
       "      <td>-0.77044</td>\n",
       "      <td>-0.97174</td>\n",
       "      <td>-0.49566</td>\n",
       "      <td>-0.88583</td>\n",
       "      <td>...</td>\n",
       "      <td>-0.07647</td>\n",
       "      <td>-0.07647</td>\n",
       "      <td>-0.07647</td>\n",
       "      <td>-0.13323</td>\n",
       "      <td>-0.20597</td>\n",
       "      <td>-0.10847</td>\n",
       "      <td>-0.13323</td>\n",
       "      <td>-0.13323</td>\n",
       "      <td>-0.26139</td>\n",
       "      <td>-0.17303</td>\n",
       "    </tr>\n",
       "    <tr>\n",
       "      <th>127</th>\n",
       "      <td>0.86312</td>\n",
       "      <td>0.22268</td>\n",
       "      <td>0.00000</td>\n",
       "      <td>0.00000</td>\n",
       "      <td>0.00000</td>\n",
       "      <td>-0.39682</td>\n",
       "      <td>-0.77044</td>\n",
       "      <td>-0.97174</td>\n",
       "      <td>0.18096</td>\n",
       "      <td>-0.19327</td>\n",
       "      <td>...</td>\n",
       "      <td>-0.07647</td>\n",
       "      <td>-0.07647</td>\n",
       "      <td>-0.07647</td>\n",
       "      <td>7.50555</td>\n",
       "      <td>-0.20597</td>\n",
       "      <td>-0.10847</td>\n",
       "      <td>-0.13323</td>\n",
       "      <td>-0.13323</td>\n",
       "      <td>-0.26139</td>\n",
       "      <td>-0.17303</td>\n",
       "    </tr>\n",
       "    <tr>\n",
       "      <th>128</th>\n",
       "      <td>-0.78978</td>\n",
       "      <td>0.03254</td>\n",
       "      <td>0.00000</td>\n",
       "      <td>0.00000</td>\n",
       "      <td>0.00000</td>\n",
       "      <td>-0.39682</td>\n",
       "      <td>-0.77044</td>\n",
       "      <td>-0.16038</td>\n",
       "      <td>-0.49566</td>\n",
       "      <td>-0.88583</td>\n",
       "      <td>...</td>\n",
       "      <td>-0.07647</td>\n",
       "      <td>-0.07647</td>\n",
       "      <td>-0.07647</td>\n",
       "      <td>-0.13323</td>\n",
       "      <td>-0.20597</td>\n",
       "      <td>-0.10847</td>\n",
       "      <td>-0.13323</td>\n",
       "      <td>-0.13323</td>\n",
       "      <td>-0.26139</td>\n",
       "      <td>-0.17303</td>\n",
       "    </tr>\n",
       "  </tbody>\n",
       "</table>\n",
       "<p>129 rows × 57 columns</p>\n",
       "</div>"
      ],
      "text/plain": [
       "          0        1       2       3       4        5        6        7   \\\n",
       "0   -0.42627  0.55111 0.00000 0.00000 0.00000 -0.39682 -0.77044 -0.97174   \n",
       "1   -0.71055 -0.57245 0.00000 0.00000 0.00000 -0.39682 -0.77044 -0.16038   \n",
       "2   -0.60181 -0.63295 0.00000 0.00000 0.00000 -0.39682 -0.77044 -0.97174   \n",
       "3   -0.75250 -0.98730 0.00000 0.00000 0.00000 -0.39682  2.07936 -0.97174   \n",
       "4   -0.87678 -0.74531 0.00000 0.00000 0.00000 -0.39682  2.07936  1.46233   \n",
       "..       ...      ...     ...     ...     ...      ...      ...      ...   \n",
       "124 -0.96129 -0.65888 0.00000 0.00000 0.00000 -0.39682 -0.77044 -0.16038   \n",
       "125 -0.10004 -0.39960 0.00000 0.00000 0.00000 -0.39682  2.07936 -0.97174   \n",
       "126  1.52180  2.05494 0.00000 0.00000 0.00000 -0.39682 -0.77044 -0.97174   \n",
       "127  0.86312  0.22268 0.00000 0.00000 0.00000 -0.39682 -0.77044 -0.97174   \n",
       "128 -0.78978  0.03254 0.00000 0.00000 0.00000 -0.39682 -0.77044 -0.16038   \n",
       "\n",
       "          8        9   ...       47       48       49       50       51  \\\n",
       "0    0.18096  0.49929  ... -0.07647 -0.07647 -0.07647 -0.13323 -0.20597   \n",
       "1    0.18096  0.49929  ... -0.07647 -0.07647 -0.07647 -0.13323 -0.20597   \n",
       "2    0.85758 -0.19327  ... -0.07647 -0.07647 -0.07647 -0.13323 -0.20597   \n",
       "3   -0.49566  1.88440  ... -0.07647 -0.07647 -0.07647 -0.13323 -0.20597   \n",
       "4   -1.17228  2.57696  ... -0.07647 -0.07647 -0.07647 -0.13323 -0.20597   \n",
       "..       ...      ...  ...      ...      ...      ...      ...      ...   \n",
       "124  0.85758 -0.19327  ... -0.07647 -0.07647 -0.07647 -0.13323 -0.20597   \n",
       "125 -0.49566 -0.88583  ... -0.07647 -0.07647 13.07670 -0.13323 -0.20597   \n",
       "126 -0.49566 -0.88583  ... -0.07647 -0.07647 -0.07647 -0.13323 -0.20597   \n",
       "127  0.18096 -0.19327  ... -0.07647 -0.07647 -0.07647  7.50555 -0.20597   \n",
       "128 -0.49566 -0.88583  ... -0.07647 -0.07647 -0.07647 -0.13323 -0.20597   \n",
       "\n",
       "          52       53       54       55       56  \n",
       "0   -0.10847 -0.13323 -0.13323 -0.26139 -0.17303  \n",
       "1   -0.10847 -0.13323 -0.13323 -0.26139 -0.17303  \n",
       "2   -0.10847 -0.13323 -0.13323 -0.26139 -0.17303  \n",
       "3   -0.10847 -0.13323 -0.13323  3.82575 -0.17303  \n",
       "4   -0.10847 -0.13323 -0.13323 -0.26139 -0.17303  \n",
       "..       ...      ...      ...      ...      ...  \n",
       "124 -0.10847 -0.13323 -0.13323 -0.26139 -0.17303  \n",
       "125 -0.10847 -0.13323 -0.13323 -0.26139 -0.17303  \n",
       "126 -0.10847 -0.13323 -0.13323 -0.26139 -0.17303  \n",
       "127 -0.10847 -0.13323 -0.13323 -0.26139 -0.17303  \n",
       "128 -0.10847 -0.13323 -0.13323 -0.26139 -0.17303  \n",
       "\n",
       "[129 rows x 57 columns]"
      ]
     },
     "metadata": {},
     "output_type": "display_data"
    },
    {
     "data": {
      "text/html": [
       "<div>\n",
       "<style scoped>\n",
       "    .dataframe tbody tr th:only-of-type {\n",
       "        vertical-align: middle;\n",
       "    }\n",
       "\n",
       "    .dataframe tbody tr th {\n",
       "        vertical-align: top;\n",
       "    }\n",
       "\n",
       "    .dataframe thead th {\n",
       "        text-align: right;\n",
       "    }\n",
       "</style>\n",
       "<table border=\"1\" class=\"dataframe\">\n",
       "  <thead>\n",
       "    <tr style=\"text-align: right;\">\n",
       "      <th></th>\n",
       "      <th>0</th>\n",
       "    </tr>\n",
       "  </thead>\n",
       "  <tbody>\n",
       "    <tr>\n",
       "      <th>0</th>\n",
       "      <td>51.67455</td>\n",
       "    </tr>\n",
       "    <tr>\n",
       "      <th>1</th>\n",
       "      <td>38.95440</td>\n",
       "    </tr>\n",
       "    <tr>\n",
       "      <th>2</th>\n",
       "      <td>61.32519</td>\n",
       "    </tr>\n",
       "    <tr>\n",
       "      <th>3</th>\n",
       "      <td>63.22906</td>\n",
       "    </tr>\n",
       "    <tr>\n",
       "      <th>4</th>\n",
       "      <td>54.15874</td>\n",
       "    </tr>\n",
       "    <tr>\n",
       "      <th>5</th>\n",
       "      <td>50.13616</td>\n",
       "    </tr>\n",
       "    <tr>\n",
       "      <th>6</th>\n",
       "      <td>52.49249</td>\n",
       "    </tr>\n",
       "    <tr>\n",
       "      <th>7</th>\n",
       "      <td>76.95916</td>\n",
       "    </tr>\n",
       "    <tr>\n",
       "      <th>8</th>\n",
       "      <td>71.58251</td>\n",
       "    </tr>\n",
       "    <tr>\n",
       "      <th>9</th>\n",
       "      <td>46.93414</td>\n",
       "    </tr>\n",
       "    <tr>\n",
       "      <th>10</th>\n",
       "      <td>84.48602</td>\n",
       "    </tr>\n",
       "    <tr>\n",
       "      <th>11</th>\n",
       "      <td>85.02117</td>\n",
       "    </tr>\n",
       "    <tr>\n",
       "      <th>12</th>\n",
       "      <td>43.99920</td>\n",
       "    </tr>\n",
       "    <tr>\n",
       "      <th>13</th>\n",
       "      <td>2444410253768.05225</td>\n",
       "    </tr>\n",
       "    <tr>\n",
       "      <th>14</th>\n",
       "      <td>32.98553</td>\n",
       "    </tr>\n",
       "    <tr>\n",
       "      <th>15</th>\n",
       "      <td>56.78301</td>\n",
       "    </tr>\n",
       "    <tr>\n",
       "      <th>16</th>\n",
       "      <td>49.59978</td>\n",
       "    </tr>\n",
       "    <tr>\n",
       "      <th>17</th>\n",
       "      <td>47.05242</td>\n",
       "    </tr>\n",
       "    <tr>\n",
       "      <th>18</th>\n",
       "      <td>55.85735</td>\n",
       "    </tr>\n",
       "    <tr>\n",
       "      <th>19</th>\n",
       "      <td>34.35809</td>\n",
       "    </tr>\n",
       "    <tr>\n",
       "      <th>20</th>\n",
       "      <td>57.94036</td>\n",
       "    </tr>\n",
       "    <tr>\n",
       "      <th>21</th>\n",
       "      <td>2444453553914.10400</td>\n",
       "    </tr>\n",
       "    <tr>\n",
       "      <th>22</th>\n",
       "      <td>73.76250</td>\n",
       "    </tr>\n",
       "    <tr>\n",
       "      <th>23</th>\n",
       "      <td>47.88934</td>\n",
       "    </tr>\n",
       "    <tr>\n",
       "      <th>24</th>\n",
       "      <td>50.21966</td>\n",
       "    </tr>\n",
       "    <tr>\n",
       "      <th>25</th>\n",
       "      <td>88.54900</td>\n",
       "    </tr>\n",
       "    <tr>\n",
       "      <th>26</th>\n",
       "      <td>51.99773</td>\n",
       "    </tr>\n",
       "    <tr>\n",
       "      <th>27</th>\n",
       "      <td>50.19329</td>\n",
       "    </tr>\n",
       "    <tr>\n",
       "      <th>28</th>\n",
       "      <td>81.17913</td>\n",
       "    </tr>\n",
       "    <tr>\n",
       "      <th>29</th>\n",
       "      <td>58.74969</td>\n",
       "    </tr>\n",
       "    <tr>\n",
       "      <th>30</th>\n",
       "      <td>48.72344</td>\n",
       "    </tr>\n",
       "    <tr>\n",
       "      <th>31</th>\n",
       "      <td>75.37615</td>\n",
       "    </tr>\n",
       "    <tr>\n",
       "      <th>32</th>\n",
       "      <td>47.36639</td>\n",
       "    </tr>\n",
       "    <tr>\n",
       "      <th>33</th>\n",
       "      <td>75.56316</td>\n",
       "    </tr>\n",
       "    <tr>\n",
       "      <th>34</th>\n",
       "      <td>75.77471</td>\n",
       "    </tr>\n",
       "    <tr>\n",
       "      <th>35</th>\n",
       "      <td>35.52801</td>\n",
       "    </tr>\n",
       "    <tr>\n",
       "      <th>36</th>\n",
       "      <td>80.77020</td>\n",
       "    </tr>\n",
       "    <tr>\n",
       "      <th>37</th>\n",
       "      <td>61.00555</td>\n",
       "    </tr>\n",
       "    <tr>\n",
       "      <th>38</th>\n",
       "      <td>63.93035</td>\n",
       "    </tr>\n",
       "    <tr>\n",
       "      <th>39</th>\n",
       "      <td>39.27361</td>\n",
       "    </tr>\n",
       "    <tr>\n",
       "      <th>40</th>\n",
       "      <td>34.14434</td>\n",
       "    </tr>\n",
       "    <tr>\n",
       "      <th>41</th>\n",
       "      <td>43.52483</td>\n",
       "    </tr>\n",
       "    <tr>\n",
       "      <th>42</th>\n",
       "      <td>69.42132</td>\n",
       "    </tr>\n",
       "  </tbody>\n",
       "</table>\n",
       "</div>"
      ],
      "text/plain": [
       "                     0\n",
       "0             51.67455\n",
       "1             38.95440\n",
       "2             61.32519\n",
       "3             63.22906\n",
       "4             54.15874\n",
       "5             50.13616\n",
       "6             52.49249\n",
       "7             76.95916\n",
       "8             71.58251\n",
       "9             46.93414\n",
       "10            84.48602\n",
       "11            85.02117\n",
       "12            43.99920\n",
       "13 2444410253768.05225\n",
       "14            32.98553\n",
       "15            56.78301\n",
       "16            49.59978\n",
       "17            47.05242\n",
       "18            55.85735\n",
       "19            34.35809\n",
       "20            57.94036\n",
       "21 2444453553914.10400\n",
       "22            73.76250\n",
       "23            47.88934\n",
       "24            50.21966\n",
       "25            88.54900\n",
       "26            51.99773\n",
       "27            50.19329\n",
       "28            81.17913\n",
       "29            58.74969\n",
       "30            48.72344\n",
       "31            75.37615\n",
       "32            47.36639\n",
       "33            75.56316\n",
       "34            75.77471\n",
       "35            35.52801\n",
       "36            80.77020\n",
       "37            61.00555\n",
       "38            63.93035\n",
       "39            39.27361\n",
       "40            34.14434\n",
       "41            43.52483\n",
       "42            69.42132"
      ]
     },
     "metadata": {},
     "output_type": "display_data"
    }
   ],
   "source": [
    "# Make a variable called y_pred and assign it the result of calling \n",
    "# predict() on our model variable with parameter X_test\n",
    "\n",
    "y_pred = model.predict(X_test)\n",
    "# display(pd.DataFrame(y_test))\n",
    "display(pd.DataFrame(X_train))\n",
    "display(pd.DataFrame(y_pred))"
   ]
  },
  {
   "cell_type": "markdown",
   "metadata": {
    "colab_type": "text",
    "id": "N4YS0WE2Anrk"
   },
   "source": [
    "## Review Model Outcomes — Iterate over additional models as needed"
   ]
  },
  {
   "cell_type": "code",
   "execution_count": 14,
   "metadata": {
    "ExecuteTime": {
     "end_time": "2020-07-30T20:06:32.432946Z",
     "start_time": "2020-07-30T20:06:32.422971Z"
    },
    "colab": {},
    "colab_type": "code",
    "id": "HSh9sGIYAnrk"
   },
   "outputs": [
    {
     "data": {
      "text/plain": [
       "-8.400200953167778e+20"
      ]
     },
     "execution_count": 14,
     "metadata": {},
     "output_type": "execute_result"
    }
   ],
   "source": [
    "# You might want to use the explained_variance_score() and mean_absolute_error() metrics.\n",
    "# To do so, you will need to import them from sklearn.metrics. \n",
    "# You can plug y_test and y_pred into the functions to evaluate the model\n",
    "explained_variance_score(y_test, y_pred)"
   ]
  },
  {
   "cell_type": "code",
   "execution_count": 15,
   "metadata": {
    "ExecuteTime": {
     "end_time": "2020-07-30T20:06:32.465857Z",
     "start_time": "2020-07-30T20:06:32.436936Z"
    },
    "colab": {},
    "colab_type": "code",
    "id": "ihzeo8tqAnro"
   },
   "outputs": [
    {
     "data": {
      "text/plain": [
       "113694507157.6264"
      ]
     },
     "execution_count": 15,
     "metadata": {},
     "output_type": "execute_result"
    }
   ],
   "source": [
    "mean_absolute_error(y_test, y_pred)"
   ]
  },
  {
   "cell_type": "markdown",
   "metadata": {
    "colab_type": "text",
    "id": "NWJcOuSdAnrr"
   },
   "source": [
    "**<font color='teal'> Print the intercept value from the linear model. </font>**\n",
    "\n",
    "Hint: our linear regression model `lm` has an attribute `intercept_` for the intercept"
   ]
  },
  {
   "cell_type": "code",
   "execution_count": 16,
   "metadata": {
    "ExecuteTime": {
     "end_time": "2020-07-30T20:06:32.480816Z",
     "start_time": "2020-07-30T20:06:32.468849Z"
    },
    "colab": {},
    "colab_type": "code",
    "id": "3WzWejn6Anrt"
   },
   "outputs": [
    {
     "data": {
      "text/plain": [
       "28423626845.259453"
      ]
     },
     "execution_count": 16,
     "metadata": {},
     "output_type": "execute_result"
    }
   ],
   "source": [
    "lm.intercept_"
   ]
  },
  {
   "cell_type": "markdown",
   "metadata": {
    "colab_type": "text",
    "id": "edajrenAAnrv"
   },
   "source": [
    "**<font color='teal'> The intercept is the mean `AdultWeekend` price for all the resorts given the other characteristics. The addition or subtraction of each of the coefficient values in the regression are numeric adjustments applied to the intercept to provide a particular observation's value for the resulting `AdultWeekend` value. Also, because we took the time to scale our x values in the training data, we can compare each of the coeeficients for the features to determine the feature importances. Print the coefficient values from the linear model and sort in descending order to identify the top ten most important features.</font>** \n",
    "\n",
    "\n",
    "Hint: make sure to review the absolute value of the coefficients, because the adjustment may be positive or negative, but what we are looking for is the magnitude of impact on our response variable."
   ]
  },
  {
   "cell_type": "code",
   "execution_count": null,
   "metadata": {
    "ExecuteTime": {
     "end_time": "2020-07-29T19:21:47.484302Z",
     "start_time": "2020-07-29T19:21:47.459369Z"
    },
    "colab": {},
    "colab_type": "code",
    "id": "FEKc_lmZAnrw"
   },
   "outputs": [],
   "source": [
    "# You might want to make a pandas DataFrame displaying the coefficients for each state like so: \n",
    "# pd.DataFrame(abs(lm.coef_), X.columns, columns=['Coefficient'])\n"
   ]
  },
  {
   "cell_type": "markdown",
   "metadata": {
    "colab_type": "text",
    "id": "BpdALMoAAnry"
   },
   "source": [
    "**<font color='teal'>You should see that the top ten important features are different states. However, the state is not something the managers at the Big Mountain Resort can do anything about. Given that we care more about actionable traits associated with ticket pricing, rebuild the model without the state features and compare the results. </font>**\n",
    "\n",
    "Hint: Try to construct another model using exactly the steps we followed above. "
   ]
  },
  {
   "cell_type": "markdown",
   "metadata": {
    "colab_type": "text",
    "id": "-mHYA1BzAnrz"
   },
   "source": [
    "#### Model 2"
   ]
  },
  {
   "cell_type": "code",
   "execution_count": null,
   "metadata": {
    "colab": {},
    "colab_type": "code",
    "id": "Pz1YXAdiAnr0"
   },
   "outputs": [],
   "source": []
  },
  {
   "cell_type": "code",
   "execution_count": null,
   "metadata": {
    "colab": {},
    "colab_type": "code",
    "id": "nM1EGf16Anr2"
   },
   "outputs": [],
   "source": []
  },
  {
   "cell_type": "markdown",
   "metadata": {
    "colab_type": "text",
    "id": "JWjQLr3LAnr6"
   },
   "source": [
    "**<font color='teal'> When reviewing our new model coefficients, we see `summit_elev` is now in the number two spot. This is also difficult to change from a management prespective and highly correlated with `base_elev` and `vertical_drop`.  This time, rebuild the model without the state features and without the `summit_elev` and without `base_elev`and compare the results. </font>**"
   ]
  },
  {
   "cell_type": "markdown",
   "metadata": {
    "colab_type": "text",
    "id": "RXqvcn93Anr7"
   },
   "source": [
    "#### Model 3"
   ]
  },
  {
   "cell_type": "code",
   "execution_count": null,
   "metadata": {
    "colab": {},
    "colab_type": "code",
    "id": "6eugnDNNAnr8"
   },
   "outputs": [],
   "source": []
  },
  {
   "cell_type": "code",
   "execution_count": null,
   "metadata": {
    "colab": {},
    "colab_type": "code",
    "id": "pq0pW7G9Anr_"
   },
   "outputs": [],
   "source": []
  },
  {
   "cell_type": "code",
   "execution_count": null,
   "metadata": {
    "colab": {},
    "colab_type": "code",
    "id": "reXlf0HAAnsG"
   },
   "outputs": [],
   "source": []
  },
  {
   "cell_type": "markdown",
   "metadata": {
    "colab_type": "text",
    "id": "MJvQMns6AnsI"
   },
   "source": [
    "## Identify the Final Model"
   ]
  },
  {
   "cell_type": "markdown",
   "metadata": {
    "colab_type": "text",
    "id": "LD7-3iLcAnsK"
   },
   "source": [
    "**<font color='teal'> Review the model performances in the table below and choose the best model for proving insights to Big Mountain management about what features are driving ski resort lift ticket prices. Type your choice in the final markdown cell — you will discuss this selection more in the next step of the guided casptone. </font>**"
   ]
  },
  {
   "cell_type": "markdown",
   "metadata": {
    "colab_type": "text",
    "id": "La5S9fRPAnsK"
   },
   "source": [
    "| Model | Explained Variance| Mean Absolute Error|Features Dropped|\n",
    "| --- | --- | --- | --- |\n",
    "| Model 1. | 0. |  |-|\n",
    "| Model 2. | 0.| |'state'|\n",
    "| Model 3. | 0. | |'state','summit_elev','base_elev'|"
   ]
  },
  {
   "cell_type": "markdown",
   "metadata": {
    "colab_type": "text",
    "id": "T2c-zn7TAnsL"
   },
   "source": [
    "Model Selection:"
   ]
  },
  {
   "cell_type": "code",
   "execution_count": null,
   "metadata": {
    "colab": {},
    "colab_type": "code",
    "id": "CgC0eMBrAnsM"
   },
   "outputs": [],
   "source": []
  }
 ],
 "metadata": {
  "colab": {
   "collapsed_sections": [
    "RtEspslPZyGY",
    "s0DokMkAZyGc",
    "2iuitnKcZyHS",
    "iAWQxougZyHW",
    "ThMTimlBZyHZ",
    "QwZ-LkjXZyHt",
    "srtXEA3N4-Y9",
    "ChVreJupZyIA",
    "zDgSSsq1ZyID",
    "I3GYKWfi5Llg",
    "pmMvrhbI-viE",
    "ZXDPkW3UZyIX",
    "Dnc_vHQLZyId",
    "daJxuJ-dZyIg",
    "mAQ-oHiPZyIn",
    "hnGOsp3mZyIp"
   ],
   "name": "GuidedCapstoneStep5.ipynb",
   "provenance": []
  },
  "kernelspec": {
   "display_name": "Python 3",
   "language": "python",
   "name": "python3"
  },
  "language_info": {
   "codemirror_mode": {
    "name": "ipython",
    "version": 3
   },
   "file_extension": ".py",
   "mimetype": "text/x-python",
   "name": "python",
   "nbconvert_exporter": "python",
   "pygments_lexer": "ipython3",
   "version": "3.6.10"
  },
  "toc": {
   "base_numbering": "0",
   "nav_menu": {},
   "number_sections": true,
   "sideBar": true,
   "skip_h1_title": false,
   "title_cell": "Table of Contents",
   "title_sidebar": "Contents",
   "toc_cell": true,
   "toc_position": {
    "height": "calc(100% - 180px)",
    "left": "10px",
    "top": "150px",
    "width": "288px"
   },
   "toc_section_display": true,
   "toc_window_display": true
  },
  "varInspector": {
   "cols": {
    "lenName": 16,
    "lenType": 16,
    "lenVar": 40
   },
   "kernels_config": {
    "python": {
     "delete_cmd_postfix": "",
     "delete_cmd_prefix": "del ",
     "library": "var_list.py",
     "varRefreshCmd": "print(var_dic_list())"
    },
    "r": {
     "delete_cmd_postfix": ") ",
     "delete_cmd_prefix": "rm(",
     "library": "var_list.r",
     "varRefreshCmd": "cat(var_dic_list()) "
    }
   },
   "oldHeight": 596.281,
   "position": {
    "height": "829px",
    "left": "1446px",
    "right": "20px",
    "top": "59px",
    "width": "458px"
   },
   "types_to_exclude": [
    "module",
    "function",
    "builtin_function_or_method",
    "instance",
    "_Feature"
   ],
   "varInspector_section_display": "block",
   "window_display": false
  }
 },
 "nbformat": 4,
 "nbformat_minor": 1
}
